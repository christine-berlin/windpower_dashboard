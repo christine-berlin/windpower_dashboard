{
 "cells": [
  {
   "cell_type": "code",
   "execution_count": 135,
   "source": [
    "import numpy as np\n",
    "import pandas as pd\n",
    "import plotly.express as px\n",
    "import plotly.graph_objects as go\n",
    "import plotly.express as px"
   ],
   "outputs": [],
   "metadata": {}
  },
  {
   "cell_type": "code",
   "execution_count": 136,
   "source": [
    "from io import SEEK_CUR\n",
    "import pandas as pd\n",
    "import numpy as np\n",
    "\n",
    "import dash\n",
    "from datetime import date\n",
    "import dash_bootstrap_components as dbc\n",
    "from dash import dcc\n",
    "from dash import html\n",
    "import plotly.graph_objects as go\n",
    "import plotly.express as px\n",
    "\n",
    "from PIL import ImageColor\n",
    "\n",
    "from dash.dependencies import Input, Output, State\n",
    "\n",
    "from dashboard_main import *"
   ],
   "outputs": [],
   "metadata": {}
  },
  {
   "cell_type": "code",
   "execution_count": 137,
   "source": [
    "\n",
    "features_forecast = ['ZONEID', 'TIMESTAMP', 'HOUR', 'WEEKDAY', 'WS100', 'WD100']\n",
    "features_retro = ['ZONEID', 'TIMESTAMP', 'HOUR', 'WEEKDAY', 'TARGETVAR']\n",
    "\n",
    "PATH_PREDICTIONS = 'RandomForest_Predictions.csv'\n",
    "PATH_DATA_ALL = 'raw_data_incl_features_test.csv'\n",
    "\n",
    "initial_date = '2013-07-01'"
   ],
   "outputs": [],
   "metadata": {}
  },
  {
   "cell_type": "code",
   "execution_count": 138,
   "source": [
    "data_forecast = pd.read_csv(PATH_PREDICTIONS, parse_dates=['TIMESTAMP'])\n",
    "data_forecast.rename(\n",
    "    columns={x: 'Wind Farm '+x.split()[-1] \n",
    "    for x in data_forecast.columns if x.startswith('Zone')}, \n",
    "    inplace=True)\n",
    "add_HOUR_column(data_forecast)\n",
    "data_all = pd.read_csv(PATH_DATA_ALL, parse_dates=['TIMESTAMP'])\n",
    "data_all.interpolate(method='bfill', inplace=True)\n",
    "data_all['ZONEID'] = data_all['ZONEID'].apply(lambda x: 'Wind Farm '+str(x))\n",
    "data_all['HOUR'].replace(0,24, inplace=True)\n",
    "data_all.replace('Zone', 'Wind Farm', inplace=True)\n",
    "data_all.reset_index(inplace=True)"
   ],
   "outputs": [],
   "metadata": {}
  },
  {
   "cell_type": "code",
   "execution_count": 116,
   "source": [
    "day = '2013-08-15'\n",
    "zone = 'Wind Farm 8'"
   ],
   "outputs": [],
   "metadata": {}
  },
  {
   "cell_type": "code",
   "execution_count": 117,
   "source": [
    "delta_minute = pd.Timedelta(1, unit='min')"
   ],
   "outputs": [],
   "metadata": {}
  },
  {
   "cell_type": "code",
   "execution_count": 118,
   "source": [
    "data_forecast['TIMESTAMP'] = data_forecast['TIMESTAMP'].apply(lambda x: x-delta_minute)\n",
    "data_forecast.drop('HOUR', axis=1, inplace=True)"
   ],
   "outputs": [],
   "metadata": {}
  },
  {
   "cell_type": "code",
   "execution_count": 119,
   "source": [
    "data_forecast = data_forecast[['TIMESTAMP', zone]]"
   ],
   "outputs": [],
   "metadata": {}
  },
  {
   "cell_type": "code",
   "execution_count": 120,
   "source": [
    "data_forecast['DATE'] = data_forecast['TIMESTAMP'].dt.date "
   ],
   "outputs": [],
   "metadata": {}
  },
  {
   "cell_type": "code",
   "execution_count": 121,
   "source": [
    "data_forecast = data_forecast.groupby('DATE').mean()"
   ],
   "outputs": [],
   "metadata": {}
  },
  {
   "cell_type": "code",
   "execution_count": 122,
   "source": [
    "data_forecast_mean = data_forecast.mean(axis=1)\n",
    "data_forecast_mean\n",
    "df_forecast_mean = pd.DataFrame(data_forecast_mean)"
   ],
   "outputs": [],
   "metadata": {}
  },
  {
   "cell_type": "code",
   "execution_count": 123,
   "source": [
    "df_forecast_mean.columns = ['TARGETVAR_PREDICTED']\n",
    "df_forecast_mean"
   ],
   "outputs": [
    {
     "output_type": "execute_result",
     "data": {
      "text/html": [
       "<div>\n",
       "<style scoped>\n",
       "    .dataframe tbody tr th:only-of-type {\n",
       "        vertical-align: middle;\n",
       "    }\n",
       "\n",
       "    .dataframe tbody tr th {\n",
       "        vertical-align: top;\n",
       "    }\n",
       "\n",
       "    .dataframe thead th {\n",
       "        text-align: right;\n",
       "    }\n",
       "</style>\n",
       "<table border=\"1\" class=\"dataframe\">\n",
       "  <thead>\n",
       "    <tr style=\"text-align: right;\">\n",
       "      <th></th>\n",
       "      <th>TARGETVAR_PREDICTED</th>\n",
       "    </tr>\n",
       "    <tr>\n",
       "      <th>DATE</th>\n",
       "      <th></th>\n",
       "    </tr>\n",
       "  </thead>\n",
       "  <tbody>\n",
       "    <tr>\n",
       "      <th>2013-07-01</th>\n",
       "      <td>0.600115</td>\n",
       "    </tr>\n",
       "    <tr>\n",
       "      <th>2013-07-02</th>\n",
       "      <td>0.563627</td>\n",
       "    </tr>\n",
       "    <tr>\n",
       "      <th>2013-07-03</th>\n",
       "      <td>0.584431</td>\n",
       "    </tr>\n",
       "    <tr>\n",
       "      <th>2013-07-04</th>\n",
       "      <td>0.732470</td>\n",
       "    </tr>\n",
       "    <tr>\n",
       "      <th>2013-07-05</th>\n",
       "      <td>0.724957</td>\n",
       "    </tr>\n",
       "    <tr>\n",
       "      <th>...</th>\n",
       "      <td>...</td>\n",
       "    </tr>\n",
       "    <tr>\n",
       "      <th>2013-12-27</th>\n",
       "      <td>0.299677</td>\n",
       "    </tr>\n",
       "    <tr>\n",
       "      <th>2013-12-28</th>\n",
       "      <td>0.380428</td>\n",
       "    </tr>\n",
       "    <tr>\n",
       "      <th>2013-12-29</th>\n",
       "      <td>0.091375</td>\n",
       "    </tr>\n",
       "    <tr>\n",
       "      <th>2013-12-30</th>\n",
       "      <td>0.070659</td>\n",
       "    </tr>\n",
       "    <tr>\n",
       "      <th>2013-12-31</th>\n",
       "      <td>0.292695</td>\n",
       "    </tr>\n",
       "  </tbody>\n",
       "</table>\n",
       "<p>184 rows × 1 columns</p>\n",
       "</div>"
      ],
      "text/plain": [
       "            TARGETVAR_PREDICTED\n",
       "DATE                           \n",
       "2013-07-01             0.600115\n",
       "2013-07-02             0.563627\n",
       "2013-07-03             0.584431\n",
       "2013-07-04             0.732470\n",
       "2013-07-05             0.724957\n",
       "...                         ...\n",
       "2013-12-27             0.299677\n",
       "2013-12-28             0.380428\n",
       "2013-12-29             0.091375\n",
       "2013-12-30             0.070659\n",
       "2013-12-31             0.292695\n",
       "\n",
       "[184 rows x 1 columns]"
      ]
     },
     "metadata": {},
     "execution_count": 123
    }
   ],
   "metadata": {}
  },
  {
   "cell_type": "markdown",
   "source": [
    "## observed values"
   ],
   "metadata": {}
  },
  {
   "cell_type": "code",
   "execution_count": 124,
   "source": [
    "data_all"
   ],
   "outputs": [
    {
     "output_type": "execute_result",
     "data": {
      "text/html": [
       "<div>\n",
       "<style scoped>\n",
       "    .dataframe tbody tr th:only-of-type {\n",
       "        vertical-align: middle;\n",
       "    }\n",
       "\n",
       "    .dataframe tbody tr th {\n",
       "        vertical-align: top;\n",
       "    }\n",
       "\n",
       "    .dataframe thead th {\n",
       "        text-align: right;\n",
       "    }\n",
       "</style>\n",
       "<table border=\"1\" class=\"dataframe\">\n",
       "  <thead>\n",
       "    <tr style=\"text-align: right;\">\n",
       "      <th></th>\n",
       "      <th>index</th>\n",
       "      <th>ZONEID</th>\n",
       "      <th>TIMESTAMP</th>\n",
       "      <th>TARGETVAR</th>\n",
       "      <th>U10</th>\n",
       "      <th>V10</th>\n",
       "      <th>U100</th>\n",
       "      <th>V100</th>\n",
       "      <th>HOUR</th>\n",
       "      <th>MONTH</th>\n",
       "      <th>WEEKDAY</th>\n",
       "      <th>IS_HOLIDAY</th>\n",
       "      <th>WS10</th>\n",
       "      <th>WS100</th>\n",
       "      <th>WD10</th>\n",
       "      <th>WD100</th>\n",
       "      <th>WD100CARD</th>\n",
       "      <th>WD10CARD</th>\n",
       "      <th>U100NORM</th>\n",
       "      <th>V100NORM</th>\n",
       "    </tr>\n",
       "  </thead>\n",
       "  <tbody>\n",
       "    <tr>\n",
       "      <th>0</th>\n",
       "      <td>0</td>\n",
       "      <td>Wind Farm 1</td>\n",
       "      <td>2013-06-30 01:00:00</td>\n",
       "      <td>0.375811</td>\n",
       "      <td>4.519248</td>\n",
       "      <td>-1.559637</td>\n",
       "      <td>6.913626</td>\n",
       "      <td>-2.293687</td>\n",
       "      <td>1</td>\n",
       "      <td>6</td>\n",
       "      <td>6</td>\n",
       "      <td>0</td>\n",
       "      <td>4.780803</td>\n",
       "      <td>7.284176</td>\n",
       "      <td>289.040056</td>\n",
       "      <td>288.353946</td>\n",
       "      <td>WNW</td>\n",
       "      <td>WNW</td>\n",
       "      <td>0.949129</td>\n",
       "      <td>-0.314886</td>\n",
       "    </tr>\n",
       "    <tr>\n",
       "      <th>1</th>\n",
       "      <td>1</td>\n",
       "      <td>Wind Farm 1</td>\n",
       "      <td>2013-06-30 02:00:00</td>\n",
       "      <td>0.519688</td>\n",
       "      <td>4.810528</td>\n",
       "      <td>-1.128186</td>\n",
       "      <td>6.989617</td>\n",
       "      <td>-1.628825</td>\n",
       "      <td>2</td>\n",
       "      <td>6</td>\n",
       "      <td>6</td>\n",
       "      <td>0</td>\n",
       "      <td>4.941051</td>\n",
       "      <td>7.176895</td>\n",
       "      <td>283.198721</td>\n",
       "      <td>283.117810</td>\n",
       "      <td>WNW</td>\n",
       "      <td>WNW</td>\n",
       "      <td>0.973905</td>\n",
       "      <td>-0.226954</td>\n",
       "    </tr>\n",
       "    <tr>\n",
       "      <th>2</th>\n",
       "      <td>2</td>\n",
       "      <td>Wind Farm 1</td>\n",
       "      <td>2013-06-30 03:00:00</td>\n",
       "      <td>0.520346</td>\n",
       "      <td>4.560787</td>\n",
       "      <td>-0.831092</td>\n",
       "      <td>6.590505</td>\n",
       "      <td>-1.121018</td>\n",
       "      <td>3</td>\n",
       "      <td>6</td>\n",
       "      <td>6</td>\n",
       "      <td>0</td>\n",
       "      <td>4.635892</td>\n",
       "      <td>6.685165</td>\n",
       "      <td>280.327442</td>\n",
       "      <td>279.653384</td>\n",
       "      <td>W</td>\n",
       "      <td>W</td>\n",
       "      <td>0.985840</td>\n",
       "      <td>-0.167687</td>\n",
       "    </tr>\n",
       "    <tr>\n",
       "      <th>3</th>\n",
       "      <td>3</td>\n",
       "      <td>Wind Farm 1</td>\n",
       "      <td>2013-06-30 04:00:00</td>\n",
       "      <td>0.428907</td>\n",
       "      <td>4.875876</td>\n",
       "      <td>-0.787637</td>\n",
       "      <td>7.088597</td>\n",
       "      <td>-1.173369</td>\n",
       "      <td>4</td>\n",
       "      <td>6</td>\n",
       "      <td>6</td>\n",
       "      <td>0</td>\n",
       "      <td>4.939083</td>\n",
       "      <td>7.185054</td>\n",
       "      <td>279.176149</td>\n",
       "      <td>279.398894</td>\n",
       "      <td>W</td>\n",
       "      <td>W</td>\n",
       "      <td>0.986575</td>\n",
       "      <td>-0.163307</td>\n",
       "    </tr>\n",
       "    <tr>\n",
       "      <th>4</th>\n",
       "      <td>4</td>\n",
       "      <td>Wind Farm 1</td>\n",
       "      <td>2013-06-30 05:00:00</td>\n",
       "      <td>0.665915</td>\n",
       "      <td>4.956422</td>\n",
       "      <td>-0.793845</td>\n",
       "      <td>7.314015</td>\n",
       "      <td>-1.150858</td>\n",
       "      <td>5</td>\n",
       "      <td>6</td>\n",
       "      <td>6</td>\n",
       "      <td>0</td>\n",
       "      <td>5.019592</td>\n",
       "      <td>7.404005</td>\n",
       "      <td>279.099489</td>\n",
       "      <td>278.942154</td>\n",
       "      <td>W</td>\n",
       "      <td>W</td>\n",
       "      <td>0.987846</td>\n",
       "      <td>-0.155437</td>\n",
       "    </tr>\n",
       "    <tr>\n",
       "      <th>...</th>\n",
       "      <td>...</td>\n",
       "      <td>...</td>\n",
       "      <td>...</td>\n",
       "      <td>...</td>\n",
       "      <td>...</td>\n",
       "      <td>...</td>\n",
       "      <td>...</td>\n",
       "      <td>...</td>\n",
       "      <td>...</td>\n",
       "      <td>...</td>\n",
       "      <td>...</td>\n",
       "      <td>...</td>\n",
       "      <td>...</td>\n",
       "      <td>...</td>\n",
       "      <td>...</td>\n",
       "      <td>...</td>\n",
       "      <td>...</td>\n",
       "      <td>...</td>\n",
       "      <td>...</td>\n",
       "      <td>...</td>\n",
       "    </tr>\n",
       "    <tr>\n",
       "      <th>44395</th>\n",
       "      <td>44395</td>\n",
       "      <td>Wind Farm 10</td>\n",
       "      <td>2013-12-31 20:00:00</td>\n",
       "      <td>NaN</td>\n",
       "      <td>1.032363</td>\n",
       "      <td>-6.281558</td>\n",
       "      <td>2.041033</td>\n",
       "      <td>-11.220655</td>\n",
       "      <td>20</td>\n",
       "      <td>12</td>\n",
       "      <td>1</td>\n",
       "      <td>0</td>\n",
       "      <td>6.365826</td>\n",
       "      <td>11.404776</td>\n",
       "      <td>350.666975</td>\n",
       "      <td>349.690637</td>\n",
       "      <td>N</td>\n",
       "      <td>N</td>\n",
       "      <td>0.178963</td>\n",
       "      <td>-0.983856</td>\n",
       "    </tr>\n",
       "    <tr>\n",
       "      <th>44396</th>\n",
       "      <td>44396</td>\n",
       "      <td>Wind Farm 10</td>\n",
       "      <td>2013-12-31 21:00:00</td>\n",
       "      <td>NaN</td>\n",
       "      <td>1.702361</td>\n",
       "      <td>-6.202448</td>\n",
       "      <td>2.846245</td>\n",
       "      <td>-10.486079</td>\n",
       "      <td>21</td>\n",
       "      <td>12</td>\n",
       "      <td>1</td>\n",
       "      <td>0</td>\n",
       "      <td>6.431827</td>\n",
       "      <td>10.865494</td>\n",
       "      <td>344.652195</td>\n",
       "      <td>344.814040</td>\n",
       "      <td>NNW</td>\n",
       "      <td>NNW</td>\n",
       "      <td>0.261953</td>\n",
       "      <td>-0.965081</td>\n",
       "    </tr>\n",
       "    <tr>\n",
       "      <th>44397</th>\n",
       "      <td>44397</td>\n",
       "      <td>Wind Farm 10</td>\n",
       "      <td>2013-12-31 22:00:00</td>\n",
       "      <td>NaN</td>\n",
       "      <td>5.086629</td>\n",
       "      <td>-1.261378</td>\n",
       "      <td>7.382256</td>\n",
       "      <td>-3.097656</td>\n",
       "      <td>22</td>\n",
       "      <td>12</td>\n",
       "      <td>1</td>\n",
       "      <td>0</td>\n",
       "      <td>5.240694</td>\n",
       "      <td>8.005821</td>\n",
       "      <td>283.927218</td>\n",
       "      <td>292.763328</td>\n",
       "      <td>WNW</td>\n",
       "      <td>WNW</td>\n",
       "      <td>0.922111</td>\n",
       "      <td>-0.386925</td>\n",
       "    </tr>\n",
       "    <tr>\n",
       "      <th>44398</th>\n",
       "      <td>44398</td>\n",
       "      <td>Wind Farm 10</td>\n",
       "      <td>2013-12-31 23:00:00</td>\n",
       "      <td>NaN</td>\n",
       "      <td>4.183751</td>\n",
       "      <td>-1.580172</td>\n",
       "      <td>5.789054</td>\n",
       "      <td>-2.116548</td>\n",
       "      <td>23</td>\n",
       "      <td>12</td>\n",
       "      <td>1</td>\n",
       "      <td>0</td>\n",
       "      <td>4.472216</td>\n",
       "      <td>6.163840</td>\n",
       "      <td>290.691183</td>\n",
       "      <td>290.083020</td>\n",
       "      <td>WNW</td>\n",
       "      <td>WNW</td>\n",
       "      <td>0.939196</td>\n",
       "      <td>-0.343381</td>\n",
       "    </tr>\n",
       "    <tr>\n",
       "      <th>44399</th>\n",
       "      <td>44399</td>\n",
       "      <td>Wind Farm 10</td>\n",
       "      <td>2014-01-01 00:00:00</td>\n",
       "      <td>NaN</td>\n",
       "      <td>2.903382</td>\n",
       "      <td>-2.663695</td>\n",
       "      <td>4.041454</td>\n",
       "      <td>-3.471531</td>\n",
       "      <td>24</td>\n",
       "      <td>1</td>\n",
       "      <td>2</td>\n",
       "      <td>0</td>\n",
       "      <td>3.940164</td>\n",
       "      <td>5.327746</td>\n",
       "      <td>312.534683</td>\n",
       "      <td>310.661944</td>\n",
       "      <td>NW</td>\n",
       "      <td>NW</td>\n",
       "      <td>0.758567</td>\n",
       "      <td>-0.651595</td>\n",
       "    </tr>\n",
       "  </tbody>\n",
       "</table>\n",
       "<p>44400 rows × 20 columns</p>\n",
       "</div>"
      ],
      "text/plain": [
       "       index        ZONEID           TIMESTAMP  TARGETVAR       U10       V10  \\\n",
       "0          0   Wind Farm 1 2013-06-30 01:00:00   0.375811  4.519248 -1.559637   \n",
       "1          1   Wind Farm 1 2013-06-30 02:00:00   0.519688  4.810528 -1.128186   \n",
       "2          2   Wind Farm 1 2013-06-30 03:00:00   0.520346  4.560787 -0.831092   \n",
       "3          3   Wind Farm 1 2013-06-30 04:00:00   0.428907  4.875876 -0.787637   \n",
       "4          4   Wind Farm 1 2013-06-30 05:00:00   0.665915  4.956422 -0.793845   \n",
       "...      ...           ...                 ...        ...       ...       ...   \n",
       "44395  44395  Wind Farm 10 2013-12-31 20:00:00        NaN  1.032363 -6.281558   \n",
       "44396  44396  Wind Farm 10 2013-12-31 21:00:00        NaN  1.702361 -6.202448   \n",
       "44397  44397  Wind Farm 10 2013-12-31 22:00:00        NaN  5.086629 -1.261378   \n",
       "44398  44398  Wind Farm 10 2013-12-31 23:00:00        NaN  4.183751 -1.580172   \n",
       "44399  44399  Wind Farm 10 2014-01-01 00:00:00        NaN  2.903382 -2.663695   \n",
       "\n",
       "           U100       V100  HOUR  MONTH  WEEKDAY  IS_HOLIDAY      WS10  \\\n",
       "0      6.913626  -2.293687     1      6        6           0  4.780803   \n",
       "1      6.989617  -1.628825     2      6        6           0  4.941051   \n",
       "2      6.590505  -1.121018     3      6        6           0  4.635892   \n",
       "3      7.088597  -1.173369     4      6        6           0  4.939083   \n",
       "4      7.314015  -1.150858     5      6        6           0  5.019592   \n",
       "...         ...        ...   ...    ...      ...         ...       ...   \n",
       "44395  2.041033 -11.220655    20     12        1           0  6.365826   \n",
       "44396  2.846245 -10.486079    21     12        1           0  6.431827   \n",
       "44397  7.382256  -3.097656    22     12        1           0  5.240694   \n",
       "44398  5.789054  -2.116548    23     12        1           0  4.472216   \n",
       "44399  4.041454  -3.471531    24      1        2           0  3.940164   \n",
       "\n",
       "           WS100        WD10       WD100 WD100CARD WD10CARD  U100NORM  \\\n",
       "0       7.284176  289.040056  288.353946       WNW      WNW  0.949129   \n",
       "1       7.176895  283.198721  283.117810       WNW      WNW  0.973905   \n",
       "2       6.685165  280.327442  279.653384         W        W  0.985840   \n",
       "3       7.185054  279.176149  279.398894         W        W  0.986575   \n",
       "4       7.404005  279.099489  278.942154         W        W  0.987846   \n",
       "...          ...         ...         ...       ...      ...       ...   \n",
       "44395  11.404776  350.666975  349.690637         N        N  0.178963   \n",
       "44396  10.865494  344.652195  344.814040       NNW      NNW  0.261953   \n",
       "44397   8.005821  283.927218  292.763328       WNW      WNW  0.922111   \n",
       "44398   6.163840  290.691183  290.083020       WNW      WNW  0.939196   \n",
       "44399   5.327746  312.534683  310.661944        NW       NW  0.758567   \n",
       "\n",
       "       V100NORM  \n",
       "0     -0.314886  \n",
       "1     -0.226954  \n",
       "2     -0.167687  \n",
       "3     -0.163307  \n",
       "4     -0.155437  \n",
       "...         ...  \n",
       "44395 -0.983856  \n",
       "44396 -0.965081  \n",
       "44397 -0.386925  \n",
       "44398 -0.343381  \n",
       "44399 -0.651595  \n",
       "\n",
       "[44400 rows x 20 columns]"
      ]
     },
     "metadata": {},
     "execution_count": 124
    }
   ],
   "metadata": {}
  },
  {
   "cell_type": "code",
   "execution_count": 134,
   "source": [
    "# data_all = data_all[data_all['ZONEID'] == zone]\n",
    "data_all"
   ],
   "outputs": [
    {
     "output_type": "execute_result",
     "data": {
      "text/html": [
       "<div>\n",
       "<style scoped>\n",
       "    .dataframe tbody tr th:only-of-type {\n",
       "        vertical-align: middle;\n",
       "    }\n",
       "\n",
       "    .dataframe tbody tr th {\n",
       "        vertical-align: top;\n",
       "    }\n",
       "\n",
       "    .dataframe thead th {\n",
       "        text-align: right;\n",
       "    }\n",
       "</style>\n",
       "<table border=\"1\" class=\"dataframe\">\n",
       "  <thead>\n",
       "    <tr style=\"text-align: right;\">\n",
       "      <th></th>\n",
       "      <th>index</th>\n",
       "      <th>ZONEID</th>\n",
       "      <th>TIMESTAMP</th>\n",
       "      <th>TARGETVAR</th>\n",
       "      <th>U10</th>\n",
       "      <th>V10</th>\n",
       "      <th>U100</th>\n",
       "      <th>V100</th>\n",
       "      <th>HOUR</th>\n",
       "      <th>MONTH</th>\n",
       "      <th>...</th>\n",
       "      <th>IS_HOLIDAY</th>\n",
       "      <th>WS10</th>\n",
       "      <th>WS100</th>\n",
       "      <th>WD10</th>\n",
       "      <th>WD100</th>\n",
       "      <th>WD100CARD</th>\n",
       "      <th>WD10CARD</th>\n",
       "      <th>U100NORM</th>\n",
       "      <th>V100NORM</th>\n",
       "      <th>DATE</th>\n",
       "    </tr>\n",
       "  </thead>\n",
       "  <tbody>\n",
       "    <tr>\n",
       "      <th>25872</th>\n",
       "      <td>25872</td>\n",
       "      <td>Wind Farm 8</td>\n",
       "      <td>2013-06-30 00:59:00</td>\n",
       "      <td>0.521840</td>\n",
       "      <td>5.213761</td>\n",
       "      <td>-0.560161</td>\n",
       "      <td>7.682476</td>\n",
       "      <td>-0.732571</td>\n",
       "      <td>1</td>\n",
       "      <td>6</td>\n",
       "      <td>...</td>\n",
       "      <td>0</td>\n",
       "      <td>5.243766</td>\n",
       "      <td>7.717324</td>\n",
       "      <td>276.132271</td>\n",
       "      <td>275.447033</td>\n",
       "      <td>W</td>\n",
       "      <td>W</td>\n",
       "      <td>0.995484</td>\n",
       "      <td>-0.094926</td>\n",
       "      <td>2013-06-30</td>\n",
       "    </tr>\n",
       "    <tr>\n",
       "      <th>25873</th>\n",
       "      <td>25873</td>\n",
       "      <td>Wind Farm 8</td>\n",
       "      <td>2013-06-30 01:59:00</td>\n",
       "      <td>0.722472</td>\n",
       "      <td>6.079496</td>\n",
       "      <td>-0.769900</td>\n",
       "      <td>8.729746</td>\n",
       "      <td>-1.067619</td>\n",
       "      <td>2</td>\n",
       "      <td>6</td>\n",
       "      <td>...</td>\n",
       "      <td>0</td>\n",
       "      <td>6.128051</td>\n",
       "      <td>8.794787</td>\n",
       "      <td>277.217448</td>\n",
       "      <td>276.972462</td>\n",
       "      <td>W</td>\n",
       "      <td>W</td>\n",
       "      <td>0.992605</td>\n",
       "      <td>-0.121392</td>\n",
       "      <td>2013-06-30</td>\n",
       "    </tr>\n",
       "    <tr>\n",
       "      <th>25874</th>\n",
       "      <td>25874</td>\n",
       "      <td>Wind Farm 8</td>\n",
       "      <td>2013-06-30 02:59:00</td>\n",
       "      <td>0.737073</td>\n",
       "      <td>6.437643</td>\n",
       "      <td>-0.603173</td>\n",
       "      <td>9.343421</td>\n",
       "      <td>-0.899572</td>\n",
       "      <td>3</td>\n",
       "      <td>6</td>\n",
       "      <td>...</td>\n",
       "      <td>0</td>\n",
       "      <td>6.465839</td>\n",
       "      <td>9.386626</td>\n",
       "      <td>275.352681</td>\n",
       "      <td>275.499408</td>\n",
       "      <td>W</td>\n",
       "      <td>W</td>\n",
       "      <td>0.995397</td>\n",
       "      <td>-0.095835</td>\n",
       "      <td>2013-06-30</td>\n",
       "    </tr>\n",
       "    <tr>\n",
       "      <th>25875</th>\n",
       "      <td>25875</td>\n",
       "      <td>Wind Farm 8</td>\n",
       "      <td>2013-06-30 03:59:00</td>\n",
       "      <td>0.381433</td>\n",
       "      <td>5.782137</td>\n",
       "      <td>-0.883416</td>\n",
       "      <td>8.738048</td>\n",
       "      <td>-1.229385</td>\n",
       "      <td>4</td>\n",
       "      <td>6</td>\n",
       "      <td>...</td>\n",
       "      <td>0</td>\n",
       "      <td>5.849233</td>\n",
       "      <td>8.824107</td>\n",
       "      <td>278.686686</td>\n",
       "      <td>278.008567</td>\n",
       "      <td>W</td>\n",
       "      <td>W</td>\n",
       "      <td>0.990247</td>\n",
       "      <td>-0.139321</td>\n",
       "      <td>2013-06-30</td>\n",
       "    </tr>\n",
       "    <tr>\n",
       "      <th>25876</th>\n",
       "      <td>25876</td>\n",
       "      <td>Wind Farm 8</td>\n",
       "      <td>2013-06-30 04:59:00</td>\n",
       "      <td>0.669668</td>\n",
       "      <td>5.628645</td>\n",
       "      <td>-1.468735</td>\n",
       "      <td>8.417481</td>\n",
       "      <td>-2.157050</td>\n",
       "      <td>5</td>\n",
       "      <td>6</td>\n",
       "      <td>...</td>\n",
       "      <td>0</td>\n",
       "      <td>5.817115</td>\n",
       "      <td>8.689468</td>\n",
       "      <td>284.624619</td>\n",
       "      <td>284.373229</td>\n",
       "      <td>WNW</td>\n",
       "      <td>WNW</td>\n",
       "      <td>0.968699</td>\n",
       "      <td>-0.248237</td>\n",
       "      <td>2013-06-30</td>\n",
       "    </tr>\n",
       "    <tr>\n",
       "      <th>...</th>\n",
       "      <td>...</td>\n",
       "      <td>...</td>\n",
       "      <td>...</td>\n",
       "      <td>...</td>\n",
       "      <td>...</td>\n",
       "      <td>...</td>\n",
       "      <td>...</td>\n",
       "      <td>...</td>\n",
       "      <td>...</td>\n",
       "      <td>...</td>\n",
       "      <td>...</td>\n",
       "      <td>...</td>\n",
       "      <td>...</td>\n",
       "      <td>...</td>\n",
       "      <td>...</td>\n",
       "      <td>...</td>\n",
       "      <td>...</td>\n",
       "      <td>...</td>\n",
       "      <td>...</td>\n",
       "      <td>...</td>\n",
       "      <td>...</td>\n",
       "    </tr>\n",
       "    <tr>\n",
       "      <th>42907</th>\n",
       "      <td>42907</td>\n",
       "      <td>Wind Farm 8</td>\n",
       "      <td>2013-12-31 19:59:00</td>\n",
       "      <td>0.706422</td>\n",
       "      <td>-1.494570</td>\n",
       "      <td>-6.109682</td>\n",
       "      <td>-2.186179</td>\n",
       "      <td>-11.608958</td>\n",
       "      <td>20</td>\n",
       "      <td>12</td>\n",
       "      <td>...</td>\n",
       "      <td>0</td>\n",
       "      <td>6.289830</td>\n",
       "      <td>11.813014</td>\n",
       "      <td>13.745934</td>\n",
       "      <td>10.664941</td>\n",
       "      <td>N</td>\n",
       "      <td>NNE</td>\n",
       "      <td>-0.185065</td>\n",
       "      <td>-0.982726</td>\n",
       "      <td>2013-12-31</td>\n",
       "    </tr>\n",
       "    <tr>\n",
       "      <th>42908</th>\n",
       "      <td>42908</td>\n",
       "      <td>Wind Farm 8</td>\n",
       "      <td>2013-12-31 20:59:00</td>\n",
       "      <td>0.706422</td>\n",
       "      <td>4.203471</td>\n",
       "      <td>-6.960113</td>\n",
       "      <td>7.138662</td>\n",
       "      <td>-12.157225</td>\n",
       "      <td>21</td>\n",
       "      <td>12</td>\n",
       "      <td>...</td>\n",
       "      <td>0</td>\n",
       "      <td>8.130949</td>\n",
       "      <td>14.098178</td>\n",
       "      <td>328.870663</td>\n",
       "      <td>329.578756</td>\n",
       "      <td>NNW</td>\n",
       "      <td>NNW</td>\n",
       "      <td>0.506354</td>\n",
       "      <td>-0.862326</td>\n",
       "      <td>2013-12-31</td>\n",
       "    </tr>\n",
       "    <tr>\n",
       "      <th>42909</th>\n",
       "      <td>42909</td>\n",
       "      <td>Wind Farm 8</td>\n",
       "      <td>2013-12-31 21:59:00</td>\n",
       "      <td>0.706422</td>\n",
       "      <td>4.491284</td>\n",
       "      <td>-3.568278</td>\n",
       "      <td>8.018306</td>\n",
       "      <td>-6.013379</td>\n",
       "      <td>22</td>\n",
       "      <td>12</td>\n",
       "      <td>...</td>\n",
       "      <td>0</td>\n",
       "      <td>5.736222</td>\n",
       "      <td>10.022672</td>\n",
       "      <td>308.466775</td>\n",
       "      <td>306.868297</td>\n",
       "      <td>NW</td>\n",
       "      <td>NW</td>\n",
       "      <td>0.800017</td>\n",
       "      <td>-0.599978</td>\n",
       "      <td>2013-12-31</td>\n",
       "    </tr>\n",
       "    <tr>\n",
       "      <th>42910</th>\n",
       "      <td>42910</td>\n",
       "      <td>Wind Farm 8</td>\n",
       "      <td>2013-12-31 22:59:00</td>\n",
       "      <td>0.706422</td>\n",
       "      <td>2.985547</td>\n",
       "      <td>-3.832448</td>\n",
       "      <td>5.983437</td>\n",
       "      <td>-6.298804</td>\n",
       "      <td>23</td>\n",
       "      <td>12</td>\n",
       "      <td>...</td>\n",
       "      <td>0</td>\n",
       "      <td>4.858102</td>\n",
       "      <td>8.687719</td>\n",
       "      <td>322.080758</td>\n",
       "      <td>316.470841</td>\n",
       "      <td>NW</td>\n",
       "      <td>NW</td>\n",
       "      <td>0.688724</td>\n",
       "      <td>-0.725024</td>\n",
       "      <td>2013-12-31</td>\n",
       "    </tr>\n",
       "    <tr>\n",
       "      <th>42911</th>\n",
       "      <td>42911</td>\n",
       "      <td>Wind Farm 8</td>\n",
       "      <td>2013-12-31 23:59:00</td>\n",
       "      <td>0.706422</td>\n",
       "      <td>0.337010</td>\n",
       "      <td>-5.820084</td>\n",
       "      <td>2.613109</td>\n",
       "      <td>-10.399510</td>\n",
       "      <td>24</td>\n",
       "      <td>1</td>\n",
       "      <td>...</td>\n",
       "      <td>0</td>\n",
       "      <td>5.829833</td>\n",
       "      <td>10.722787</td>\n",
       "      <td>356.686007</td>\n",
       "      <td>345.895167</td>\n",
       "      <td>NNW</td>\n",
       "      <td>N</td>\n",
       "      <td>0.243697</td>\n",
       "      <td>-0.969851</td>\n",
       "      <td>2013-12-31</td>\n",
       "    </tr>\n",
       "  </tbody>\n",
       "</table>\n",
       "<p>4440 rows × 21 columns</p>\n",
       "</div>"
      ],
      "text/plain": [
       "       index       ZONEID           TIMESTAMP  TARGETVAR       U10       V10  \\\n",
       "25872  25872  Wind Farm 8 2013-06-30 00:59:00   0.521840  5.213761 -0.560161   \n",
       "25873  25873  Wind Farm 8 2013-06-30 01:59:00   0.722472  6.079496 -0.769900   \n",
       "25874  25874  Wind Farm 8 2013-06-30 02:59:00   0.737073  6.437643 -0.603173   \n",
       "25875  25875  Wind Farm 8 2013-06-30 03:59:00   0.381433  5.782137 -0.883416   \n",
       "25876  25876  Wind Farm 8 2013-06-30 04:59:00   0.669668  5.628645 -1.468735   \n",
       "...      ...          ...                 ...        ...       ...       ...   \n",
       "42907  42907  Wind Farm 8 2013-12-31 19:59:00   0.706422 -1.494570 -6.109682   \n",
       "42908  42908  Wind Farm 8 2013-12-31 20:59:00   0.706422  4.203471 -6.960113   \n",
       "42909  42909  Wind Farm 8 2013-12-31 21:59:00   0.706422  4.491284 -3.568278   \n",
       "42910  42910  Wind Farm 8 2013-12-31 22:59:00   0.706422  2.985547 -3.832448   \n",
       "42911  42911  Wind Farm 8 2013-12-31 23:59:00   0.706422  0.337010 -5.820084   \n",
       "\n",
       "           U100       V100  HOUR  MONTH  ...  IS_HOLIDAY      WS10      WS100  \\\n",
       "25872  7.682476  -0.732571     1      6  ...           0  5.243766   7.717324   \n",
       "25873  8.729746  -1.067619     2      6  ...           0  6.128051   8.794787   \n",
       "25874  9.343421  -0.899572     3      6  ...           0  6.465839   9.386626   \n",
       "25875  8.738048  -1.229385     4      6  ...           0  5.849233   8.824107   \n",
       "25876  8.417481  -2.157050     5      6  ...           0  5.817115   8.689468   \n",
       "...         ...        ...   ...    ...  ...         ...       ...        ...   \n",
       "42907 -2.186179 -11.608958    20     12  ...           0  6.289830  11.813014   \n",
       "42908  7.138662 -12.157225    21     12  ...           0  8.130949  14.098178   \n",
       "42909  8.018306  -6.013379    22     12  ...           0  5.736222  10.022672   \n",
       "42910  5.983437  -6.298804    23     12  ...           0  4.858102   8.687719   \n",
       "42911  2.613109 -10.399510    24      1  ...           0  5.829833  10.722787   \n",
       "\n",
       "             WD10       WD100  WD100CARD WD10CARD  U100NORM  V100NORM  \\\n",
       "25872  276.132271  275.447033          W        W  0.995484 -0.094926   \n",
       "25873  277.217448  276.972462          W        W  0.992605 -0.121392   \n",
       "25874  275.352681  275.499408          W        W  0.995397 -0.095835   \n",
       "25875  278.686686  278.008567          W        W  0.990247 -0.139321   \n",
       "25876  284.624619  284.373229        WNW      WNW  0.968699 -0.248237   \n",
       "...           ...         ...        ...      ...       ...       ...   \n",
       "42907   13.745934   10.664941          N      NNE -0.185065 -0.982726   \n",
       "42908  328.870663  329.578756        NNW      NNW  0.506354 -0.862326   \n",
       "42909  308.466775  306.868297         NW       NW  0.800017 -0.599978   \n",
       "42910  322.080758  316.470841         NW       NW  0.688724 -0.725024   \n",
       "42911  356.686007  345.895167        NNW        N  0.243697 -0.969851   \n",
       "\n",
       "             DATE  \n",
       "25872  2013-06-30  \n",
       "25873  2013-06-30  \n",
       "25874  2013-06-30  \n",
       "25875  2013-06-30  \n",
       "25876  2013-06-30  \n",
       "...           ...  \n",
       "42907  2013-12-31  \n",
       "42908  2013-12-31  \n",
       "42909  2013-12-31  \n",
       "42910  2013-12-31  \n",
       "42911  2013-12-31  \n",
       "\n",
       "[4440 rows x 21 columns]"
      ]
     },
     "metadata": {},
     "execution_count": 134
    }
   ],
   "metadata": {}
  },
  {
   "cell_type": "code",
   "execution_count": 126,
   "source": [
    "## observed values\n",
    "data_all['TIMESTAMP'] = data_all['TIMESTAMP'].apply(lambda x: x-delta_minute)"
   ],
   "outputs": [],
   "metadata": {}
  },
  {
   "cell_type": "code",
   "execution_count": 127,
   "source": [
    "data_all['DATE'] = data_all['TIMESTAMP'].dt.date"
   ],
   "outputs": [],
   "metadata": {}
  },
  {
   "cell_type": "code",
   "execution_count": 128,
   "source": [
    "data_all_mean = data_all.groupby('DATE').mean()['TARGETVAR']"
   ],
   "outputs": [],
   "metadata": {}
  },
  {
   "cell_type": "code",
   "execution_count": 129,
   "source": [
    "df_all_mean = pd.DataFrame(data_all_mean)"
   ],
   "outputs": [],
   "metadata": {}
  },
  {
   "cell_type": "code",
   "execution_count": 130,
   "source": [
    "df_all_mean.columns = ['TARGETVAR_OBSERVED']\n",
    "df_all_mean"
   ],
   "outputs": [
    {
     "output_type": "execute_result",
     "data": {
      "text/html": [
       "<div>\n",
       "<style scoped>\n",
       "    .dataframe tbody tr th:only-of-type {\n",
       "        vertical-align: middle;\n",
       "    }\n",
       "\n",
       "    .dataframe tbody tr th {\n",
       "        vertical-align: top;\n",
       "    }\n",
       "\n",
       "    .dataframe thead th {\n",
       "        text-align: right;\n",
       "    }\n",
       "</style>\n",
       "<table border=\"1\" class=\"dataframe\">\n",
       "  <thead>\n",
       "    <tr style=\"text-align: right;\">\n",
       "      <th></th>\n",
       "      <th>TARGETVAR_OBSERVED</th>\n",
       "    </tr>\n",
       "    <tr>\n",
       "      <th>DATE</th>\n",
       "      <th></th>\n",
       "    </tr>\n",
       "  </thead>\n",
       "  <tbody>\n",
       "    <tr>\n",
       "      <th>2013-06-30</th>\n",
       "      <td>0.731638</td>\n",
       "    </tr>\n",
       "    <tr>\n",
       "      <th>2013-07-01</th>\n",
       "      <td>0.913873</td>\n",
       "    </tr>\n",
       "    <tr>\n",
       "      <th>2013-07-02</th>\n",
       "      <td>0.679659</td>\n",
       "    </tr>\n",
       "    <tr>\n",
       "      <th>2013-07-03</th>\n",
       "      <td>0.464416</td>\n",
       "    </tr>\n",
       "    <tr>\n",
       "      <th>2013-07-04</th>\n",
       "      <td>0.688612</td>\n",
       "    </tr>\n",
       "    <tr>\n",
       "      <th>...</th>\n",
       "      <td>...</td>\n",
       "    </tr>\n",
       "    <tr>\n",
       "      <th>2013-12-27</th>\n",
       "      <td>0.399591</td>\n",
       "    </tr>\n",
       "    <tr>\n",
       "      <th>2013-12-28</th>\n",
       "      <td>0.478140</td>\n",
       "    </tr>\n",
       "    <tr>\n",
       "      <th>2013-12-29</th>\n",
       "      <td>0.050863</td>\n",
       "    </tr>\n",
       "    <tr>\n",
       "      <th>2013-12-30</th>\n",
       "      <td>0.041417</td>\n",
       "    </tr>\n",
       "    <tr>\n",
       "      <th>2013-12-31</th>\n",
       "      <td>0.306938</td>\n",
       "    </tr>\n",
       "  </tbody>\n",
       "</table>\n",
       "<p>185 rows × 1 columns</p>\n",
       "</div>"
      ],
      "text/plain": [
       "            TARGETVAR_OBSERVED\n",
       "DATE                          \n",
       "2013-06-30            0.731638\n",
       "2013-07-01            0.913873\n",
       "2013-07-02            0.679659\n",
       "2013-07-03            0.464416\n",
       "2013-07-04            0.688612\n",
       "...                        ...\n",
       "2013-12-27            0.399591\n",
       "2013-12-28            0.478140\n",
       "2013-12-29            0.050863\n",
       "2013-12-30            0.041417\n",
       "2013-12-31            0.306938\n",
       "\n",
       "[185 rows x 1 columns]"
      ]
     },
     "metadata": {},
     "execution_count": 130
    }
   ],
   "metadata": {}
  },
  {
   "cell_type": "code",
   "execution_count": 131,
   "source": [
    "df_comparison = df_all_mean.merge(df_forecast_mean, how='inner', on='DATE')"
   ],
   "outputs": [],
   "metadata": {}
  },
  {
   "cell_type": "code",
   "execution_count": 132,
   "source": [
    "df_comparison.columns = ['TARGETVAR_OBSERVED', 'TARGETVAR_PREDICTED']\n",
    "df_comparison"
   ],
   "outputs": [
    {
     "output_type": "execute_result",
     "data": {
      "text/html": [
       "<div>\n",
       "<style scoped>\n",
       "    .dataframe tbody tr th:only-of-type {\n",
       "        vertical-align: middle;\n",
       "    }\n",
       "\n",
       "    .dataframe tbody tr th {\n",
       "        vertical-align: top;\n",
       "    }\n",
       "\n",
       "    .dataframe thead th {\n",
       "        text-align: right;\n",
       "    }\n",
       "</style>\n",
       "<table border=\"1\" class=\"dataframe\">\n",
       "  <thead>\n",
       "    <tr style=\"text-align: right;\">\n",
       "      <th></th>\n",
       "      <th>TARGETVAR_OBSERVED</th>\n",
       "      <th>TARGETVAR_PREDICTED</th>\n",
       "    </tr>\n",
       "    <tr>\n",
       "      <th>DATE</th>\n",
       "      <th></th>\n",
       "      <th></th>\n",
       "    </tr>\n",
       "  </thead>\n",
       "  <tbody>\n",
       "    <tr>\n",
       "      <th>2013-07-01</th>\n",
       "      <td>0.913873</td>\n",
       "      <td>0.600115</td>\n",
       "    </tr>\n",
       "    <tr>\n",
       "      <th>2013-07-02</th>\n",
       "      <td>0.679659</td>\n",
       "      <td>0.563627</td>\n",
       "    </tr>\n",
       "    <tr>\n",
       "      <th>2013-07-03</th>\n",
       "      <td>0.464416</td>\n",
       "      <td>0.584431</td>\n",
       "    </tr>\n",
       "    <tr>\n",
       "      <th>2013-07-04</th>\n",
       "      <td>0.688612</td>\n",
       "      <td>0.732470</td>\n",
       "    </tr>\n",
       "    <tr>\n",
       "      <th>2013-07-05</th>\n",
       "      <td>0.815700</td>\n",
       "      <td>0.724957</td>\n",
       "    </tr>\n",
       "    <tr>\n",
       "      <th>...</th>\n",
       "      <td>...</td>\n",
       "      <td>...</td>\n",
       "    </tr>\n",
       "    <tr>\n",
       "      <th>2013-12-27</th>\n",
       "      <td>0.399591</td>\n",
       "      <td>0.299677</td>\n",
       "    </tr>\n",
       "    <tr>\n",
       "      <th>2013-12-28</th>\n",
       "      <td>0.478140</td>\n",
       "      <td>0.380428</td>\n",
       "    </tr>\n",
       "    <tr>\n",
       "      <th>2013-12-29</th>\n",
       "      <td>0.050863</td>\n",
       "      <td>0.091375</td>\n",
       "    </tr>\n",
       "    <tr>\n",
       "      <th>2013-12-30</th>\n",
       "      <td>0.041417</td>\n",
       "      <td>0.070659</td>\n",
       "    </tr>\n",
       "    <tr>\n",
       "      <th>2013-12-31</th>\n",
       "      <td>0.306938</td>\n",
       "      <td>0.292695</td>\n",
       "    </tr>\n",
       "  </tbody>\n",
       "</table>\n",
       "<p>184 rows × 2 columns</p>\n",
       "</div>"
      ],
      "text/plain": [
       "            TARGETVAR_OBSERVED  TARGETVAR_PREDICTED\n",
       "DATE                                               \n",
       "2013-07-01            0.913873             0.600115\n",
       "2013-07-02            0.679659             0.563627\n",
       "2013-07-03            0.464416             0.584431\n",
       "2013-07-04            0.688612             0.732470\n",
       "2013-07-05            0.815700             0.724957\n",
       "...                        ...                  ...\n",
       "2013-12-27            0.399591             0.299677\n",
       "2013-12-28            0.478140             0.380428\n",
       "2013-12-29            0.050863             0.091375\n",
       "2013-12-30            0.041417             0.070659\n",
       "2013-12-31            0.306938             0.292695\n",
       "\n",
       "[184 rows x 2 columns]"
      ]
     },
     "metadata": {},
     "execution_count": 132
    }
   ],
   "metadata": {}
  },
  {
   "cell_type": "code",
   "execution_count": 133,
   "source": [
    "\n",
    "fig = go.Figure()\n",
    "\n",
    "fig.add_traces(\n",
    "    go.Scatter(x=df_comparison.index, y = df_comparison['TARGETVAR_OBSERVED'], \n",
    "        mode = 'lines', line=dict(color='red',), name='observed',\n",
    "    )\n",
    ")\n",
    "\n",
    "fig.add_traces(\n",
    "    go.Scatter(x=df_comparison.index, y = df_comparison['TARGETVAR_PREDICTED'], \n",
    "        mode = 'lines', line=dict(color='blue',), name='predicted',\n",
    "    )\n",
    ")"
   ],
   "outputs": [
    {
     "output_type": "display_data",
     "data": {
      "application/vnd.plotly.v1+json": {
       "data": [
        {
         "line": {
          "color": "red"
         },
         "mode": "lines",
         "name": "observed",
         "x": [
          "2013-07-01",
          "2013-07-02",
          "2013-07-03",
          "2013-07-04",
          "2013-07-05",
          "2013-07-06",
          "2013-07-07",
          "2013-07-08",
          "2013-07-09",
          "2013-07-10",
          "2013-07-11",
          "2013-07-12",
          "2013-07-13",
          "2013-07-14",
          "2013-07-15",
          "2013-07-16",
          "2013-07-17",
          "2013-07-18",
          "2013-07-19",
          "2013-07-20",
          "2013-07-21",
          "2013-07-22",
          "2013-07-23",
          "2013-07-24",
          "2013-07-25",
          "2013-07-26",
          "2013-07-27",
          "2013-07-28",
          "2013-07-29",
          "2013-07-30",
          "2013-07-31",
          "2013-08-01",
          "2013-08-02",
          "2013-08-03",
          "2013-08-04",
          "2013-08-05",
          "2013-08-06",
          "2013-08-07",
          "2013-08-08",
          "2013-08-09",
          "2013-08-10",
          "2013-08-11",
          "2013-08-12",
          "2013-08-13",
          "2013-08-14",
          "2013-08-15",
          "2013-08-16",
          "2013-08-17",
          "2013-08-18",
          "2013-08-19",
          "2013-08-20",
          "2013-08-21",
          "2013-08-22",
          "2013-08-23",
          "2013-08-24",
          "2013-08-25",
          "2013-08-26",
          "2013-08-27",
          "2013-08-28",
          "2013-08-29",
          "2013-08-30",
          "2013-08-31",
          "2013-09-01",
          "2013-09-02",
          "2013-09-03",
          "2013-09-04",
          "2013-09-05",
          "2013-09-06",
          "2013-09-07",
          "2013-09-08",
          "2013-09-09",
          "2013-09-10",
          "2013-09-11",
          "2013-09-12",
          "2013-09-13",
          "2013-09-14",
          "2013-09-15",
          "2013-09-16",
          "2013-09-17",
          "2013-09-18",
          "2013-09-19",
          "2013-09-20",
          "2013-09-21",
          "2013-09-22",
          "2013-09-23",
          "2013-09-24",
          "2013-09-25",
          "2013-09-26",
          "2013-09-27",
          "2013-09-28",
          "2013-09-29",
          "2013-09-30",
          "2013-10-01",
          "2013-10-02",
          "2013-10-03",
          "2013-10-04",
          "2013-10-05",
          "2013-10-06",
          "2013-10-07",
          "2013-10-08",
          "2013-10-09",
          "2013-10-10",
          "2013-10-11",
          "2013-10-12",
          "2013-10-13",
          "2013-10-14",
          "2013-10-15",
          "2013-10-16",
          "2013-10-17",
          "2013-10-18",
          "2013-10-19",
          "2013-10-20",
          "2013-10-21",
          "2013-10-22",
          "2013-10-23",
          "2013-10-24",
          "2013-10-25",
          "2013-10-26",
          "2013-10-27",
          "2013-10-28",
          "2013-10-29",
          "2013-10-30",
          "2013-10-31",
          "2013-11-01",
          "2013-11-02",
          "2013-11-03",
          "2013-11-04",
          "2013-11-05",
          "2013-11-06",
          "2013-11-07",
          "2013-11-08",
          "2013-11-09",
          "2013-11-10",
          "2013-11-11",
          "2013-11-12",
          "2013-11-13",
          "2013-11-14",
          "2013-11-15",
          "2013-11-16",
          "2013-11-17",
          "2013-11-18",
          "2013-11-19",
          "2013-11-20",
          "2013-11-21",
          "2013-11-22",
          "2013-11-23",
          "2013-11-24",
          "2013-11-25",
          "2013-11-26",
          "2013-11-27",
          "2013-11-28",
          "2013-11-29",
          "2013-11-30",
          "2013-12-01",
          "2013-12-02",
          "2013-12-03",
          "2013-12-04",
          "2013-12-05",
          "2013-12-06",
          "2013-12-07",
          "2013-12-08",
          "2013-12-09",
          "2013-12-10",
          "2013-12-11",
          "2013-12-12",
          "2013-12-13",
          "2013-12-14",
          "2013-12-15",
          "2013-12-16",
          "2013-12-17",
          "2013-12-18",
          "2013-12-19",
          "2013-12-20",
          "2013-12-21",
          "2013-12-22",
          "2013-12-23",
          "2013-12-24",
          "2013-12-25",
          "2013-12-26",
          "2013-12-27",
          "2013-12-28",
          "2013-12-29",
          "2013-12-30",
          "2013-12-31"
         ],
         "y": [
          0.9138728663940702,
          0.679658823246749,
          0.4644155426829731,
          0.6886119804904296,
          0.8156996660179767,
          0.15827147537892647,
          0.0475814096713012,
          0.021113415643794337,
          0.17827088078580913,
          0.16739442023473042,
          0.2471711854653779,
          0.2691578443622294,
          0.5620310722564178,
          0.11013607024457998,
          0.0320056791561881,
          0.1979247416066434,
          0.6591485301961838,
          0.49314087816637436,
          0.40183934590921067,
          0.6350478580981737,
          0.1566883539493096,
          0.1913991266455877,
          0.06940061947826318,
          0.06120979142147151,
          0.1854137166776294,
          0.25355882852281814,
          0.8568053670630961,
          0.29047168997880035,
          0.40637548056223277,
          0.07005759528699808,
          0.1900626661840177,
          0.515705490800074,
          0.6632082710895911,
          0.5313196866003139,
          0.6209646269623483,
          0.8359693537378751,
          0.22548665365129672,
          0.3818675132687484,
          0.5746788103737791,
          0.7489100524757494,
          0.3633298904110544,
          0.7313893652996014,
          0.7212196779124546,
          0.8753396678569726,
          0.7589173574198188,
          0.6993348705134724,
          0.7523320052488689,
          0.8431885498729731,
          0.8248570275639105,
          0.8227734578354949,
          0.2209616013232518,
          0.7487731803587071,
          0.8871111666883252,
          0.4243470457229757,
          0.4128340902771083,
          0.24859066846114072,
          0.13097462915342079,
          0,
          0.10958808501071589,
          0.5861974699975685,
          0.4345115020856316,
          0.5244606065422307,
          0.2709420142242893,
          0.10049773870076546,
          0.4841086979426428,
          0.44287040768178326,
          0.17609097120668307,
          0.5073001653105458,
          0.03050239805419842,
          0.35038177615106525,
          0.7855676808039324,
          0.7395259886814296,
          0.2090679417230744,
          0.4925832509555961,
          0.1815103171205432,
          0.023946983508657687,
          0.42864048717635433,
          0.10033060201928307,
          0.11155396213706015,
          0,
          0,
          0.06091021991212441,
          0.09572602086385416,
          0.3394516576397349,
          0.5560185808387491,
          0.8690584743316035,
          0.4323385644813351,
          0.4997409816447569,
          0.7134730737228195,
          0.35292717087262143,
          0.4099222713715726,
          0.49298009863271103,
          0.6317651913419402,
          0.7042401665566923,
          0.14309831488212962,
          0.10240990428518414,
          0,
          0.020972747401339628,
          0.33568055214509734,
          0.2812615668304575,
          0.13075078580522567,
          0.5270809429549371,
          0.3709633718797359,
          0.3974498951768081,
          0.4859972648861923,
          0.40036140621475685,
          0.5854918511100478,
          0.9349018527576756,
          0.5677444580528581,
          0.5647326702733713,
          0.37422784901973044,
          0.20452451814599537,
          0.4714279971056745,
          0.7492544409690591,
          0.8322078893119874,
          0.4773238911670246,
          0.37629686269596757,
          0.032556361637055505,
          0.1657430657212404,
          0.38682204723815655,
          0.08302852262601913,
          0.07282239970022754,
          0.046359174441749106,
          0.05073724315506279,
          0.503188275825412,
          0.358194113249152,
          0.2267795531196807,
          0.3374590060231037,
          0.3093134687575832,
          0.45953989819351104,
          0.5292006339972626,
          0.19220630187768664,
          0.2488073899874503,
          0.265581754366754,
          0.26184026319115117,
          0.2803997482801955,
          0.07189023567668855,
          0.1271393555168587,
          0.18615404014325984,
          0.24518218466792255,
          0.0728325447999832,
          0.3549296370173219,
          0.32521698380406566,
          0.2507198870517196,
          0.5511670217660462,
          0.3061757313491712,
          0.26618709651273614,
          0.20181293214165397,
          0.0594474910560743,
          0.22392665498462658,
          0.2837835227480038,
          0.22332400282033607,
          0.4396266739151234,
          0.3092250780661387,
          0.04602505546665967,
          0.16748271466079354,
          0.4945933420450239,
          0.22332384843246036,
          0.03247967717923867,
          0.08762946930922344,
          0.11753303402864272,
          0.7887008174536513,
          0.7419901208905751,
          0.3788170622243878,
          0.3928801711710366,
          0.14362507087493295,
          0.06204532679815631,
          0.05919211716285913,
          0.16160709445200325,
          0.25761954115167807,
          0.12999161339631082,
          0.19630234208514252,
          0.37931864118733444,
          0.1706348310294086,
          0.33847165789518335,
          0.08481634058276323,
          0.1013084012825252,
          0.34974665712469705,
          0.16451211120937217,
          0.3995909898276773,
          0.4781400935490268,
          0.05086251801815494,
          0.04141745920683635,
          0.30693788471884725
         ],
         "type": "scatter"
        },
        {
         "line": {
          "color": "blue"
         },
         "mode": "lines",
         "name": "predicted",
         "x": [
          "2013-07-01",
          "2013-07-02",
          "2013-07-03",
          "2013-07-04",
          "2013-07-05",
          "2013-07-06",
          "2013-07-07",
          "2013-07-08",
          "2013-07-09",
          "2013-07-10",
          "2013-07-11",
          "2013-07-12",
          "2013-07-13",
          "2013-07-14",
          "2013-07-15",
          "2013-07-16",
          "2013-07-17",
          "2013-07-18",
          "2013-07-19",
          "2013-07-20",
          "2013-07-21",
          "2013-07-22",
          "2013-07-23",
          "2013-07-24",
          "2013-07-25",
          "2013-07-26",
          "2013-07-27",
          "2013-07-28",
          "2013-07-29",
          "2013-07-30",
          "2013-07-31",
          "2013-08-01",
          "2013-08-02",
          "2013-08-03",
          "2013-08-04",
          "2013-08-05",
          "2013-08-06",
          "2013-08-07",
          "2013-08-08",
          "2013-08-09",
          "2013-08-10",
          "2013-08-11",
          "2013-08-12",
          "2013-08-13",
          "2013-08-14",
          "2013-08-15",
          "2013-08-16",
          "2013-08-17",
          "2013-08-18",
          "2013-08-19",
          "2013-08-20",
          "2013-08-21",
          "2013-08-22",
          "2013-08-23",
          "2013-08-24",
          "2013-08-25",
          "2013-08-26",
          "2013-08-27",
          "2013-08-28",
          "2013-08-29",
          "2013-08-30",
          "2013-08-31",
          "2013-09-01",
          "2013-09-02",
          "2013-09-03",
          "2013-09-04",
          "2013-09-05",
          "2013-09-06",
          "2013-09-07",
          "2013-09-08",
          "2013-09-09",
          "2013-09-10",
          "2013-09-11",
          "2013-09-12",
          "2013-09-13",
          "2013-09-14",
          "2013-09-15",
          "2013-09-16",
          "2013-09-17",
          "2013-09-18",
          "2013-09-19",
          "2013-09-20",
          "2013-09-21",
          "2013-09-22",
          "2013-09-23",
          "2013-09-24",
          "2013-09-25",
          "2013-09-26",
          "2013-09-27",
          "2013-09-28",
          "2013-09-29",
          "2013-09-30",
          "2013-10-01",
          "2013-10-02",
          "2013-10-03",
          "2013-10-04",
          "2013-10-05",
          "2013-10-06",
          "2013-10-07",
          "2013-10-08",
          "2013-10-09",
          "2013-10-10",
          "2013-10-11",
          "2013-10-12",
          "2013-10-13",
          "2013-10-14",
          "2013-10-15",
          "2013-10-16",
          "2013-10-17",
          "2013-10-18",
          "2013-10-19",
          "2013-10-20",
          "2013-10-21",
          "2013-10-22",
          "2013-10-23",
          "2013-10-24",
          "2013-10-25",
          "2013-10-26",
          "2013-10-27",
          "2013-10-28",
          "2013-10-29",
          "2013-10-30",
          "2013-10-31",
          "2013-11-01",
          "2013-11-02",
          "2013-11-03",
          "2013-11-04",
          "2013-11-05",
          "2013-11-06",
          "2013-11-07",
          "2013-11-08",
          "2013-11-09",
          "2013-11-10",
          "2013-11-11",
          "2013-11-12",
          "2013-11-13",
          "2013-11-14",
          "2013-11-15",
          "2013-11-16",
          "2013-11-17",
          "2013-11-18",
          "2013-11-19",
          "2013-11-20",
          "2013-11-21",
          "2013-11-22",
          "2013-11-23",
          "2013-11-24",
          "2013-11-25",
          "2013-11-26",
          "2013-11-27",
          "2013-11-28",
          "2013-11-29",
          "2013-11-30",
          "2013-12-01",
          "2013-12-02",
          "2013-12-03",
          "2013-12-04",
          "2013-12-05",
          "2013-12-06",
          "2013-12-07",
          "2013-12-08",
          "2013-12-09",
          "2013-12-10",
          "2013-12-11",
          "2013-12-12",
          "2013-12-13",
          "2013-12-14",
          "2013-12-15",
          "2013-12-16",
          "2013-12-17",
          "2013-12-18",
          "2013-12-19",
          "2013-12-20",
          "2013-12-21",
          "2013-12-22",
          "2013-12-23",
          "2013-12-24",
          "2013-12-25",
          "2013-12-26",
          "2013-12-27",
          "2013-12-28",
          "2013-12-29",
          "2013-12-30",
          "2013-12-31"
         ],
         "y": [
          0.6001150346992973,
          0.5636266568284561,
          0.584430694846796,
          0.7324695122484367,
          0.7249566984042143,
          0.1452823544389434,
          0.11525581974198408,
          0.024705918352744573,
          0.17447521802796773,
          0.1737984983273042,
          0.19562774587435708,
          0.31033381483527467,
          0.5342483417401797,
          0.18885429607404172,
          0.025530007977354524,
          0.1932583593693661,
          0.5947775099457906,
          0.7217224729919227,
          0.34432185152881495,
          0.3059816299328588,
          0.20433928785582223,
          0.2620194254990052,
          0.09592427332103655,
          0.11111051878751543,
          0.19689258541927965,
          0.33173964744215906,
          0.687030130995082,
          0.3974177283347127,
          0.30028338843608576,
          0.046421102443537386,
          0.19256911894603665,
          0.5054886345117472,
          0.7345824758686383,
          0.7439087987367435,
          0.6443131730663822,
          0.5880962730776748,
          0.22662085832913378,
          0.3051479303119632,
          0.5044794567166534,
          0.5968672745975592,
          0.30434240736143064,
          0.5739437757131792,
          0.5712940169452668,
          0.574275405006419,
          0.5782723757014004,
          0.5869324502648782,
          0.6377453562530656,
          0.6622851480947182,
          0.697356534429856,
          0.6245633642704222,
          0.2836667182013339,
          0.590972815100294,
          0.7641904694107134,
          0.4474884733262365,
          0.3608322601187772,
          0.19153341559806444,
          0.14579610473237817,
          0.16339162863264825,
          0.14872201414889208,
          0.5948040783073815,
          0.3760186384554842,
          0.43613983043790255,
          0.2130992673659523,
          0.17188930151033774,
          0.4608011449692571,
          0.3625913886865219,
          0.1765355056841619,
          0.3763874363295663,
          0.06987888694176335,
          0.43173262577996274,
          0.6198167322838011,
          0.5214665448721624,
          0.206289556596196,
          0.4975160226185004,
          0.2008609582492132,
          0.07041407349911569,
          0.4727940581745775,
          0.06009616269947957,
          0.24567176467309101,
          0.5487942001051823,
          0.6562333218697367,
          0.2075672893144227,
          0.1020479826911035,
          0.28534843164718676,
          0.45772870205377597,
          0.5903395379878951,
          0.4056210056029082,
          0.46834407303064535,
          0.5933332673236796,
          0.4034600770533366,
          0.42277941516292644,
          0.4665643674303693,
          0.5911150092213072,
          0.6132656438546125,
          0.16783948862880138,
          0.41151487132950887,
          0.13085144191753864,
          0.11756332672090754,
          0.26175840885795926,
          0.36895838864734193,
          0.3104155266777299,
          0.6524469584926698,
          0.40312226682003344,
          0.45239478803880967,
          0.6574385358734246,
          0.44482740082939237,
          0.5320592192546182,
          0.6074888113444055,
          0.48191358234549875,
          0.49709910849151967,
          0.463262000851597,
          0.27024254770945444,
          0.4889916489703951,
          0.5745650991689469,
          0.6220939362658549,
          0.4588039399418555,
          0.39572296030453985,
          0.06352722444497726,
          0.27198590236672937,
          0.36479869211009247,
          0.10931515855092332,
          0.07762011362112538,
          0.06818398615349248,
          0.12452885039295097,
          0.4657984247123783,
          0.31831370236908685,
          0.21718688834325797,
          0.27599759848591643,
          0.33377230799977936,
          0.4422677507792392,
          0.4423187742803634,
          0.20731187253072256,
          0.30436621689984006,
          0.4801841530999685,
          0.40270620741754776,
          0.35688955030614106,
          0.09409109992477356,
          0.16183629717502326,
          0.19558123416156847,
          0.18087791683116552,
          0.16313255549684585,
          0.5335948931779921,
          0.39232169208456985,
          0.2086823844450778,
          0.4784497504649325,
          0.3559754654754516,
          0.2515849590401398,
          0.23272616769573917,
          0.13038385109573744,
          0.295797340840746,
          0.3168507474928636,
          0.21779846641466405,
          0.3656961951748329,
          0.2602698014636963,
          0.08267680306627108,
          0.266099647485,
          0.4980378696843922,
          0.32918062498809664,
          0.0763340896601744,
          0.27287434868591326,
          0.11273078420900605,
          0.5334849681061427,
          0.5309654389784277,
          0.332662842644428,
          0.334725731428134,
          0.17414173479328218,
          0.08266460003840619,
          0.08554746094921466,
          0.1577990869893976,
          0.29935460135785913,
          0.18112295381435617,
          0.2922808768884657,
          0.5895543793219936,
          0.25165839916575933,
          0.3534079561991015,
          0.14352291943640236,
          0.15068901239450547,
          0.19946912964810293,
          0.1549209076924474,
          0.2996767700486099,
          0.380427551418196,
          0.09137528088345744,
          0.0706593174574892,
          0.2926952983034112
         ],
         "type": "scatter"
        }
       ],
       "layout": {
        "template": {
         "data": {
          "bar": [
           {
            "error_x": {
             "color": "#2a3f5f"
            },
            "error_y": {
             "color": "#2a3f5f"
            },
            "marker": {
             "line": {
              "color": "#E5ECF6",
              "width": 0.5
             },
             "pattern": {
              "fillmode": "overlay",
              "size": 10,
              "solidity": 0.2
             }
            },
            "type": "bar"
           }
          ],
          "barpolar": [
           {
            "marker": {
             "line": {
              "color": "#E5ECF6",
              "width": 0.5
             },
             "pattern": {
              "fillmode": "overlay",
              "size": 10,
              "solidity": 0.2
             }
            },
            "type": "barpolar"
           }
          ],
          "carpet": [
           {
            "aaxis": {
             "endlinecolor": "#2a3f5f",
             "gridcolor": "white",
             "linecolor": "white",
             "minorgridcolor": "white",
             "startlinecolor": "#2a3f5f"
            },
            "baxis": {
             "endlinecolor": "#2a3f5f",
             "gridcolor": "white",
             "linecolor": "white",
             "minorgridcolor": "white",
             "startlinecolor": "#2a3f5f"
            },
            "type": "carpet"
           }
          ],
          "choropleth": [
           {
            "colorbar": {
             "outlinewidth": 0,
             "ticks": ""
            },
            "type": "choropleth"
           }
          ],
          "contour": [
           {
            "colorbar": {
             "outlinewidth": 0,
             "ticks": ""
            },
            "colorscale": [
             [
              0,
              "#0d0887"
             ],
             [
              0.1111111111111111,
              "#46039f"
             ],
             [
              0.2222222222222222,
              "#7201a8"
             ],
             [
              0.3333333333333333,
              "#9c179e"
             ],
             [
              0.4444444444444444,
              "#bd3786"
             ],
             [
              0.5555555555555556,
              "#d8576b"
             ],
             [
              0.6666666666666666,
              "#ed7953"
             ],
             [
              0.7777777777777778,
              "#fb9f3a"
             ],
             [
              0.8888888888888888,
              "#fdca26"
             ],
             [
              1,
              "#f0f921"
             ]
            ],
            "type": "contour"
           }
          ],
          "contourcarpet": [
           {
            "colorbar": {
             "outlinewidth": 0,
             "ticks": ""
            },
            "type": "contourcarpet"
           }
          ],
          "heatmap": [
           {
            "colorbar": {
             "outlinewidth": 0,
             "ticks": ""
            },
            "colorscale": [
             [
              0,
              "#0d0887"
             ],
             [
              0.1111111111111111,
              "#46039f"
             ],
             [
              0.2222222222222222,
              "#7201a8"
             ],
             [
              0.3333333333333333,
              "#9c179e"
             ],
             [
              0.4444444444444444,
              "#bd3786"
             ],
             [
              0.5555555555555556,
              "#d8576b"
             ],
             [
              0.6666666666666666,
              "#ed7953"
             ],
             [
              0.7777777777777778,
              "#fb9f3a"
             ],
             [
              0.8888888888888888,
              "#fdca26"
             ],
             [
              1,
              "#f0f921"
             ]
            ],
            "type": "heatmap"
           }
          ],
          "heatmapgl": [
           {
            "colorbar": {
             "outlinewidth": 0,
             "ticks": ""
            },
            "colorscale": [
             [
              0,
              "#0d0887"
             ],
             [
              0.1111111111111111,
              "#46039f"
             ],
             [
              0.2222222222222222,
              "#7201a8"
             ],
             [
              0.3333333333333333,
              "#9c179e"
             ],
             [
              0.4444444444444444,
              "#bd3786"
             ],
             [
              0.5555555555555556,
              "#d8576b"
             ],
             [
              0.6666666666666666,
              "#ed7953"
             ],
             [
              0.7777777777777778,
              "#fb9f3a"
             ],
             [
              0.8888888888888888,
              "#fdca26"
             ],
             [
              1,
              "#f0f921"
             ]
            ],
            "type": "heatmapgl"
           }
          ],
          "histogram": [
           {
            "marker": {
             "pattern": {
              "fillmode": "overlay",
              "size": 10,
              "solidity": 0.2
             }
            },
            "type": "histogram"
           }
          ],
          "histogram2d": [
           {
            "colorbar": {
             "outlinewidth": 0,
             "ticks": ""
            },
            "colorscale": [
             [
              0,
              "#0d0887"
             ],
             [
              0.1111111111111111,
              "#46039f"
             ],
             [
              0.2222222222222222,
              "#7201a8"
             ],
             [
              0.3333333333333333,
              "#9c179e"
             ],
             [
              0.4444444444444444,
              "#bd3786"
             ],
             [
              0.5555555555555556,
              "#d8576b"
             ],
             [
              0.6666666666666666,
              "#ed7953"
             ],
             [
              0.7777777777777778,
              "#fb9f3a"
             ],
             [
              0.8888888888888888,
              "#fdca26"
             ],
             [
              1,
              "#f0f921"
             ]
            ],
            "type": "histogram2d"
           }
          ],
          "histogram2dcontour": [
           {
            "colorbar": {
             "outlinewidth": 0,
             "ticks": ""
            },
            "colorscale": [
             [
              0,
              "#0d0887"
             ],
             [
              0.1111111111111111,
              "#46039f"
             ],
             [
              0.2222222222222222,
              "#7201a8"
             ],
             [
              0.3333333333333333,
              "#9c179e"
             ],
             [
              0.4444444444444444,
              "#bd3786"
             ],
             [
              0.5555555555555556,
              "#d8576b"
             ],
             [
              0.6666666666666666,
              "#ed7953"
             ],
             [
              0.7777777777777778,
              "#fb9f3a"
             ],
             [
              0.8888888888888888,
              "#fdca26"
             ],
             [
              1,
              "#f0f921"
             ]
            ],
            "type": "histogram2dcontour"
           }
          ],
          "mesh3d": [
           {
            "colorbar": {
             "outlinewidth": 0,
             "ticks": ""
            },
            "type": "mesh3d"
           }
          ],
          "parcoords": [
           {
            "line": {
             "colorbar": {
              "outlinewidth": 0,
              "ticks": ""
             }
            },
            "type": "parcoords"
           }
          ],
          "pie": [
           {
            "automargin": true,
            "type": "pie"
           }
          ],
          "scatter": [
           {
            "marker": {
             "colorbar": {
              "outlinewidth": 0,
              "ticks": ""
             }
            },
            "type": "scatter"
           }
          ],
          "scatter3d": [
           {
            "line": {
             "colorbar": {
              "outlinewidth": 0,
              "ticks": ""
             }
            },
            "marker": {
             "colorbar": {
              "outlinewidth": 0,
              "ticks": ""
             }
            },
            "type": "scatter3d"
           }
          ],
          "scattercarpet": [
           {
            "marker": {
             "colorbar": {
              "outlinewidth": 0,
              "ticks": ""
             }
            },
            "type": "scattercarpet"
           }
          ],
          "scattergeo": [
           {
            "marker": {
             "colorbar": {
              "outlinewidth": 0,
              "ticks": ""
             }
            },
            "type": "scattergeo"
           }
          ],
          "scattergl": [
           {
            "marker": {
             "colorbar": {
              "outlinewidth": 0,
              "ticks": ""
             }
            },
            "type": "scattergl"
           }
          ],
          "scattermapbox": [
           {
            "marker": {
             "colorbar": {
              "outlinewidth": 0,
              "ticks": ""
             }
            },
            "type": "scattermapbox"
           }
          ],
          "scatterpolar": [
           {
            "marker": {
             "colorbar": {
              "outlinewidth": 0,
              "ticks": ""
             }
            },
            "type": "scatterpolar"
           }
          ],
          "scatterpolargl": [
           {
            "marker": {
             "colorbar": {
              "outlinewidth": 0,
              "ticks": ""
             }
            },
            "type": "scatterpolargl"
           }
          ],
          "scatterternary": [
           {
            "marker": {
             "colorbar": {
              "outlinewidth": 0,
              "ticks": ""
             }
            },
            "type": "scatterternary"
           }
          ],
          "surface": [
           {
            "colorbar": {
             "outlinewidth": 0,
             "ticks": ""
            },
            "colorscale": [
             [
              0,
              "#0d0887"
             ],
             [
              0.1111111111111111,
              "#46039f"
             ],
             [
              0.2222222222222222,
              "#7201a8"
             ],
             [
              0.3333333333333333,
              "#9c179e"
             ],
             [
              0.4444444444444444,
              "#bd3786"
             ],
             [
              0.5555555555555556,
              "#d8576b"
             ],
             [
              0.6666666666666666,
              "#ed7953"
             ],
             [
              0.7777777777777778,
              "#fb9f3a"
             ],
             [
              0.8888888888888888,
              "#fdca26"
             ],
             [
              1,
              "#f0f921"
             ]
            ],
            "type": "surface"
           }
          ],
          "table": [
           {
            "cells": {
             "fill": {
              "color": "#EBF0F8"
             },
             "line": {
              "color": "white"
             }
            },
            "header": {
             "fill": {
              "color": "#C8D4E3"
             },
             "line": {
              "color": "white"
             }
            },
            "type": "table"
           }
          ]
         },
         "layout": {
          "annotationdefaults": {
           "arrowcolor": "#2a3f5f",
           "arrowhead": 0,
           "arrowwidth": 1
          },
          "autotypenumbers": "strict",
          "coloraxis": {
           "colorbar": {
            "outlinewidth": 0,
            "ticks": ""
           }
          },
          "colorscale": {
           "diverging": [
            [
             0,
             "#8e0152"
            ],
            [
             0.1,
             "#c51b7d"
            ],
            [
             0.2,
             "#de77ae"
            ],
            [
             0.3,
             "#f1b6da"
            ],
            [
             0.4,
             "#fde0ef"
            ],
            [
             0.5,
             "#f7f7f7"
            ],
            [
             0.6,
             "#e6f5d0"
            ],
            [
             0.7,
             "#b8e186"
            ],
            [
             0.8,
             "#7fbc41"
            ],
            [
             0.9,
             "#4d9221"
            ],
            [
             1,
             "#276419"
            ]
           ],
           "sequential": [
            [
             0,
             "#0d0887"
            ],
            [
             0.1111111111111111,
             "#46039f"
            ],
            [
             0.2222222222222222,
             "#7201a8"
            ],
            [
             0.3333333333333333,
             "#9c179e"
            ],
            [
             0.4444444444444444,
             "#bd3786"
            ],
            [
             0.5555555555555556,
             "#d8576b"
            ],
            [
             0.6666666666666666,
             "#ed7953"
            ],
            [
             0.7777777777777778,
             "#fb9f3a"
            ],
            [
             0.8888888888888888,
             "#fdca26"
            ],
            [
             1,
             "#f0f921"
            ]
           ],
           "sequentialminus": [
            [
             0,
             "#0d0887"
            ],
            [
             0.1111111111111111,
             "#46039f"
            ],
            [
             0.2222222222222222,
             "#7201a8"
            ],
            [
             0.3333333333333333,
             "#9c179e"
            ],
            [
             0.4444444444444444,
             "#bd3786"
            ],
            [
             0.5555555555555556,
             "#d8576b"
            ],
            [
             0.6666666666666666,
             "#ed7953"
            ],
            [
             0.7777777777777778,
             "#fb9f3a"
            ],
            [
             0.8888888888888888,
             "#fdca26"
            ],
            [
             1,
             "#f0f921"
            ]
           ]
          },
          "colorway": [
           "#636efa",
           "#EF553B",
           "#00cc96",
           "#ab63fa",
           "#FFA15A",
           "#19d3f3",
           "#FF6692",
           "#B6E880",
           "#FF97FF",
           "#FECB52"
          ],
          "font": {
           "color": "#2a3f5f"
          },
          "geo": {
           "bgcolor": "white",
           "lakecolor": "white",
           "landcolor": "#E5ECF6",
           "showlakes": true,
           "showland": true,
           "subunitcolor": "white"
          },
          "hoverlabel": {
           "align": "left"
          },
          "hovermode": "closest",
          "mapbox": {
           "style": "light"
          },
          "paper_bgcolor": "white",
          "plot_bgcolor": "#E5ECF6",
          "polar": {
           "angularaxis": {
            "gridcolor": "white",
            "linecolor": "white",
            "ticks": ""
           },
           "bgcolor": "#E5ECF6",
           "radialaxis": {
            "gridcolor": "white",
            "linecolor": "white",
            "ticks": ""
           }
          },
          "scene": {
           "xaxis": {
            "backgroundcolor": "#E5ECF6",
            "gridcolor": "white",
            "gridwidth": 2,
            "linecolor": "white",
            "showbackground": true,
            "ticks": "",
            "zerolinecolor": "white"
           },
           "yaxis": {
            "backgroundcolor": "#E5ECF6",
            "gridcolor": "white",
            "gridwidth": 2,
            "linecolor": "white",
            "showbackground": true,
            "ticks": "",
            "zerolinecolor": "white"
           },
           "zaxis": {
            "backgroundcolor": "#E5ECF6",
            "gridcolor": "white",
            "gridwidth": 2,
            "linecolor": "white",
            "showbackground": true,
            "ticks": "",
            "zerolinecolor": "white"
           }
          },
          "shapedefaults": {
           "line": {
            "color": "#2a3f5f"
           }
          },
          "ternary": {
           "aaxis": {
            "gridcolor": "white",
            "linecolor": "white",
            "ticks": ""
           },
           "baxis": {
            "gridcolor": "white",
            "linecolor": "white",
            "ticks": ""
           },
           "bgcolor": "#E5ECF6",
           "caxis": {
            "gridcolor": "white",
            "linecolor": "white",
            "ticks": ""
           }
          },
          "title": {
           "x": 0.05
          },
          "xaxis": {
           "automargin": true,
           "gridcolor": "white",
           "linecolor": "white",
           "ticks": "",
           "title": {
            "standoff": 15
           },
           "zerolinecolor": "white",
           "zerolinewidth": 2
          },
          "yaxis": {
           "automargin": true,
           "gridcolor": "white",
           "linecolor": "white",
           "ticks": "",
           "title": {
            "standoff": 15
           },
           "zerolinecolor": "white",
           "zerolinewidth": 2
          }
         }
        }
       },
       "config": {
        "plotlyServerURL": "https://plot.ly"
       }
      }
     },
     "metadata": {}
    }
   ],
   "metadata": {}
  },
  {
   "cell_type": "code",
   "execution_count": null,
   "source": [],
   "outputs": [],
   "metadata": {}
  },
  {
   "cell_type": "code",
   "execution_count": null,
   "source": [],
   "outputs": [],
   "metadata": {}
  }
 ],
 "metadata": {
  "interpreter": {
   "hash": "6bf04853d3fd90e38dceeec9809cf8d05177fbec35bd657075794b65848902e2"
  },
  "kernelspec": {
   "name": "python3",
   "display_name": "Python 3.9.4 64-bit ('.venv': venv)"
  },
  "language_info": {
   "codemirror_mode": {
    "name": "ipython",
    "version": 3
   },
   "file_extension": ".py",
   "mimetype": "text/x-python",
   "name": "python",
   "nbconvert_exporter": "python",
   "pygments_lexer": "ipython3",
   "version": "3.9.4"
  },
  "orig_nbformat": 4
 },
 "nbformat": 4,
 "nbformat_minor": 2
}