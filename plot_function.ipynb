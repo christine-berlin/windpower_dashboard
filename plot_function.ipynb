{
 "cells": [
  {
   "cell_type": "code",
   "execution_count": 1,
   "source": [
    "import numpy as np\n",
    "import pandas as pd\n",
    "import plotly.express as px\n",
    "import plotly.graph_objects as go\n",
    "import plotly.express as px"
   ],
   "outputs": [
    {
     "output_type": "stream",
     "name": "stderr",
     "text": [
      "/Users/fklein/neuefische/capstone/Capstone_WindPowerPredicting/.venv/lib/python3.9/site-packages/pandas/compat/__init__.py:124: UserWarning: Could not import the lzma module. Your installed Python is incomplete. Attempting to use lzma compression will result in a RuntimeError.\n",
      "  warnings.warn(msg)\n"
     ]
    }
   ],
   "metadata": {}
  },
  {
   "cell_type": "code",
   "execution_count": 2,
   "source": [
    "def plot_windrose(df):\n",
    "    bins = np.linspace(0,24,13)\n",
    "    labels = [0,2,4,6,8,10,12,14,16,18,20,22]\n",
    "\n",
    "    df['WS100BIN'] = pd.cut(df['WS100'], bins=bins, labels = labels)\n",
    "\n",
    "    df_grouped = df.groupby(['WD100CARD','WS100BIN']).count().reset_index()\n",
    "    \n",
    "    wd_card=[\"N\",\"NNE\",\"NE\",\"ENE\",\"E\",\"ESE\", \"SE\", \"SSE\",\"S\",\"SSW\",\"SW\",\"WSW\",\"W\",\"WNW\",\"NW\",\"NNW\"]\n",
    "\n",
    "    wd_zeros = np.zeros(len(wd_card))\n",
    "    df_all_wd_card = pd.DataFrame([wd_card, wd_zeros, wd_zeros])\n",
    "    df_all_wd_card = df_all_wd_card.T\n",
    "    df_all_wd_card.columns = ['WD100CARD', 'WS100BIN', 'FREQUENCY']\n",
    "    \n",
    "    data_wind = df_grouped[['WD100CARD', 'WS100BIN', 'ZONEID']]\n",
    "    data_wind.columns = df_all_wd_card.columns\n",
    "    #print(data_wind.head(50))\n",
    "\n",
    "    datax = pd.concat([data_wind, df_all_wd_card], axis = 0)\n",
    "    print(datax.head())\n",
    "    datax = datax.sort_values(by='WD100CARD', key=card_sorter)\n",
    "    ws_ls = np.linspace(0,25,26)\n",
    "    wind_all_speeds = pd.DataFrame([['N']*len(ws_ls), ws_ls, np.zeros(len(ws_ls))]).T\n",
    "    wind_all_speeds.columns = ['WD100CARD', 'WS100BIN', 'FREQUENCY']\n",
    "    wind_all_speeds\n",
    "    datax = pd.concat([wind_all_speeds, df_all_wd_card, data_wind], axis = 0)\n",
    "\n",
    "    fig = px.bar_polar(datax, \n",
    "                   r=\"FREQUENCY\", \n",
    "                   theta=\"WD100CARD\",\n",
    "                   color=\"WS100BIN\", \n",
    "                   #template=\"plotly_black\",\n",
    "                   color_discrete_sequence= px.colors.sequential.Plasma_r)                      \n",
    "    #fig.show()\n",
    "    return fig\n"
   ],
   "outputs": [],
   "metadata": {}
  },
  {
   "cell_type": "code",
   "execution_count": 3,
   "source": [
    "def card_sorter(column):\n",
    "    \"\"\"Sort function\"\"\"\n",
    "    wd_card=[\"N\",\"NNE\",\"NE\",\"ENE\",\"E\",\"ESE\", \"SE\", \"SSE\",\"S\",\"SSW\",\"SW\",\"WSW\",\"W\",\"WNW\",\"NW\",\"NNW\"]\n",
    "    correspondence = {card: order for order, card in enumerate(wd_card)}\n",
    "    return column.map(correspondence)"
   ],
   "outputs": [],
   "metadata": {}
  },
  {
   "cell_type": "code",
   "execution_count": 4,
   "source": [
    "### TEST\n",
    "DATA_PATH = '../data/GEFCom2014Data/Wind/raw_data_incl_features.csv'\n",
    "data = pd.read_csv(DATA_PATH)\n",
    "plot_windrose(data)"
   ],
   "outputs": [
    {
     "output_type": "stream",
     "name": "stdout",
     "text": [
      "  WD100CARD WS100BIN FREQUENCY\n",
      "0         E        0       416\n",
      "1         E        2      1514\n",
      "2         E        4      2301\n",
      "3         E        6      2294\n",
      "4         E        8       660\n"
     ]
    },
    {
     "output_type": "display_data",
     "data": {
      "application/vnd.plotly.v1+json": {
       "data": [
        {
         "hovertemplate": "WS100BIN=0.0<br>FREQUENCY=%{r}<br>WD100CARD=%{theta}<extra></extra>",
         "legendgroup": "0.0",
         "marker": {
          "color": "#f0f921",
          "pattern": {
           "shape": ""
          }
         },
         "name": "0.0",
         "r": [
          0,
          0,
          0,
          0,
          0,
          0,
          0,
          0,
          0,
          0,
          0,
          0,
          0,
          0,
          0,
          0,
          0,
          416,
          428,
          375,
          313,
          375,
          310,
          373,
          379,
          491,
          464,
          461,
          445,
          425,
          427,
          376,
          392
         ],
         "showlegend": true,
         "subplot": "polar",
         "theta": [
          "N",
          "N",
          "NNE",
          "NE",
          "ENE",
          "E",
          "ESE",
          "SE",
          "SSE",
          "S",
          "SSW",
          "SW",
          "WSW",
          "W",
          "WNW",
          "NW",
          "NNW",
          "E",
          "ENE",
          "ESE",
          "N",
          "NE",
          "NNE",
          "NNW",
          "NW",
          "S",
          "SE",
          "SSE",
          "SSW",
          "SW",
          "W",
          "WNW",
          "WSW"
         ],
         "type": "barpolar"
        },
        {
         "hovertemplate": "WS100BIN=1.0<br>FREQUENCY=%{r}<br>WD100CARD=%{theta}<extra></extra>",
         "legendgroup": "1.0",
         "marker": {
          "color": "#fdca26",
          "pattern": {
           "shape": ""
          }
         },
         "name": "1.0",
         "r": [
          0
         ],
         "showlegend": true,
         "subplot": "polar",
         "theta": [
          "N"
         ],
         "type": "barpolar"
        },
        {
         "hovertemplate": "WS100BIN=2.0<br>FREQUENCY=%{r}<br>WD100CARD=%{theta}<extra></extra>",
         "legendgroup": "2.0",
         "marker": {
          "color": "#fb9f3a",
          "pattern": {
           "shape": ""
          }
         },
         "name": "2.0",
         "r": [
          0,
          1514,
          1183,
          1609,
          1164,
          1148,
          1190,
          1207,
          1116,
          2052,
          1939,
          2063,
          1959,
          1849,
          1429,
          1245,
          1736
         ],
         "showlegend": true,
         "subplot": "polar",
         "theta": [
          "N",
          "E",
          "ENE",
          "ESE",
          "N",
          "NE",
          "NNE",
          "NNW",
          "NW",
          "S",
          "SE",
          "SSE",
          "SSW",
          "SW",
          "W",
          "WNW",
          "WSW"
         ],
         "type": "barpolar"
        },
        {
         "hovertemplate": "WS100BIN=3.0<br>FREQUENCY=%{r}<br>WD100CARD=%{theta}<extra></extra>",
         "legendgroup": "3.0",
         "marker": {
          "color": "#ed7953",
          "pattern": {
           "shape": ""
          }
         },
         "name": "3.0",
         "r": [
          0
         ],
         "showlegend": true,
         "subplot": "polar",
         "theta": [
          "N"
         ],
         "type": "barpolar"
        },
        {
         "hovertemplate": "WS100BIN=4.0<br>FREQUENCY=%{r}<br>WD100CARD=%{theta}<extra></extra>",
         "legendgroup": "4.0",
         "marker": {
          "color": "#d8576b",
          "pattern": {
           "shape": ""
          }
         },
         "name": "4.0",
         "r": [
          0,
          2301,
          1918,
          2889,
          2116,
          1902,
          2247,
          2061,
          2058,
          4146,
          3643,
          4569,
          4307,
          3977,
          2689,
          2362,
          3564
         ],
         "showlegend": true,
         "subplot": "polar",
         "theta": [
          "N",
          "E",
          "ENE",
          "ESE",
          "N",
          "NE",
          "NNE",
          "NNW",
          "NW",
          "S",
          "SE",
          "SSE",
          "SSW",
          "SW",
          "W",
          "WNW",
          "WSW"
         ],
         "type": "barpolar"
        },
        {
         "hovertemplate": "WS100BIN=5.0<br>FREQUENCY=%{r}<br>WD100CARD=%{theta}<extra></extra>",
         "legendgroup": "5.0",
         "marker": {
          "color": "#bd3786",
          "pattern": {
           "shape": ""
          }
         },
         "name": "5.0",
         "r": [
          0
         ],
         "showlegend": true,
         "subplot": "polar",
         "theta": [
          "N"
         ],
         "type": "barpolar"
        },
        {
         "hovertemplate": "WS100BIN=6.0<br>FREQUENCY=%{r}<br>WD100CARD=%{theta}<extra></extra>",
         "legendgroup": "6.0",
         "marker": {
          "color": "#9c179e",
          "pattern": {
           "shape": ""
          }
         },
         "name": "6.0",
         "r": [
          0,
          2294,
          1794,
          2434,
          3703,
          1857,
          2937,
          3008,
          2777,
          3772,
          3218,
          3782,
          3662,
          3736,
          3334,
          3274,
          3955
         ],
         "showlegend": true,
         "subplot": "polar",
         "theta": [
          "N",
          "E",
          "ENE",
          "ESE",
          "N",
          "NE",
          "NNE",
          "NNW",
          "NW",
          "S",
          "SE",
          "SSE",
          "SSW",
          "SW",
          "W",
          "WNW",
          "WSW"
         ],
         "type": "barpolar"
        },
        {
         "hovertemplate": "WS100BIN=7.0<br>FREQUENCY=%{r}<br>WD100CARD=%{theta}<extra></extra>",
         "legendgroup": "7.0",
         "marker": {
          "color": "#7201a8",
          "pattern": {
           "shape": ""
          }
         },
         "name": "7.0",
         "r": [
          0
         ],
         "showlegend": true,
         "subplot": "polar",
         "theta": [
          "N"
         ],
         "type": "barpolar"
        },
        {
         "hovertemplate": "WS100BIN=8.0<br>FREQUENCY=%{r}<br>WD100CARD=%{theta}<extra></extra>",
         "legendgroup": "8.0",
         "marker": {
          "color": "#46039f",
          "pattern": {
           "shape": ""
          }
         },
         "name": "8.0",
         "r": [
          0,
          660,
          783,
          885,
          3183,
          818,
          2258,
          2487,
          2038,
          1315,
          1293,
          1655,
          1659,
          2241,
          2604,
          2409,
          2819
         ],
         "showlegend": true,
         "subplot": "polar",
         "theta": [
          "N",
          "E",
          "ENE",
          "ESE",
          "N",
          "NE",
          "NNE",
          "NNW",
          "NW",
          "S",
          "SE",
          "SSE",
          "SSW",
          "SW",
          "W",
          "WNW",
          "WSW"
         ],
         "type": "barpolar"
        },
        {
         "hovertemplate": "WS100BIN=9.0<br>FREQUENCY=%{r}<br>WD100CARD=%{theta}<extra></extra>",
         "legendgroup": "9.0",
         "marker": {
          "color": "#0d0887",
          "pattern": {
           "shape": ""
          }
         },
         "name": "9.0",
         "r": [
          0
         ],
         "showlegend": true,
         "subplot": "polar",
         "theta": [
          "N"
         ],
         "type": "barpolar"
        },
        {
         "hovertemplate": "WS100BIN=10.0<br>FREQUENCY=%{r}<br>WD100CARD=%{theta}<extra></extra>",
         "legendgroup": "10.0",
         "marker": {
          "color": "#f0f921",
          "pattern": {
           "shape": ""
          }
         },
         "name": "10.0",
         "r": [
          0,
          97,
          145,
          121,
          1678,
          259,
          971,
          1503,
          1291,
          246,
          113,
          309,
          557,
          1005,
          1463,
          1281,
          1552
         ],
         "showlegend": true,
         "subplot": "polar",
         "theta": [
          "N",
          "E",
          "ENE",
          "ESE",
          "N",
          "NE",
          "NNE",
          "NNW",
          "NW",
          "S",
          "SE",
          "SSE",
          "SSW",
          "SW",
          "W",
          "WNW",
          "WSW"
         ],
         "type": "barpolar"
        },
        {
         "hovertemplate": "WS100BIN=11.0<br>FREQUENCY=%{r}<br>WD100CARD=%{theta}<extra></extra>",
         "legendgroup": "11.0",
         "marker": {
          "color": "#fdca26",
          "pattern": {
           "shape": ""
          }
         },
         "name": "11.0",
         "r": [
          0
         ],
         "showlegend": true,
         "subplot": "polar",
         "theta": [
          "N"
         ],
         "type": "barpolar"
        },
        {
         "hovertemplate": "WS100BIN=12.0<br>FREQUENCY=%{r}<br>WD100CARD=%{theta}<extra></extra>",
         "legendgroup": "12.0",
         "marker": {
          "color": "#fb9f3a",
          "pattern": {
           "shape": ""
          }
         },
         "name": "12.0",
         "r": [
          0,
          3,
          9,
          5,
          495,
          43,
          187,
          539,
          500,
          40,
          15,
          78,
          124,
          339,
          727,
          621,
          941
         ],
         "showlegend": true,
         "subplot": "polar",
         "theta": [
          "N",
          "E",
          "ENE",
          "ESE",
          "N",
          "NE",
          "NNE",
          "NNW",
          "NW",
          "S",
          "SE",
          "SSE",
          "SSW",
          "SW",
          "W",
          "WNW",
          "WSW"
         ],
         "type": "barpolar"
        },
        {
         "hovertemplate": "WS100BIN=13.0<br>FREQUENCY=%{r}<br>WD100CARD=%{theta}<extra></extra>",
         "legendgroup": "13.0",
         "marker": {
          "color": "#ed7953",
          "pattern": {
           "shape": ""
          }
         },
         "name": "13.0",
         "r": [
          0
         ],
         "showlegend": true,
         "subplot": "polar",
         "theta": [
          "N"
         ],
         "type": "barpolar"
        },
        {
         "hovertemplate": "WS100BIN=14.0<br>FREQUENCY=%{r}<br>WD100CARD=%{theta}<extra></extra>",
         "legendgroup": "14.0",
         "marker": {
          "color": "#d8576b",
          "pattern": {
           "shape": ""
          }
         },
         "name": "14.0",
         "r": [
          0,
          0,
          0,
          0,
          131,
          9,
          41,
          105,
          162,
          4,
          10,
          5,
          40,
          49,
          283,
          296,
          288
         ],
         "showlegend": true,
         "subplot": "polar",
         "theta": [
          "N",
          "E",
          "ENE",
          "ESE",
          "N",
          "NE",
          "NNE",
          "NNW",
          "NW",
          "S",
          "SE",
          "SSE",
          "SSW",
          "SW",
          "W",
          "WNW",
          "WSW"
         ],
         "type": "barpolar"
        },
        {
         "hovertemplate": "WS100BIN=15.0<br>FREQUENCY=%{r}<br>WD100CARD=%{theta}<extra></extra>",
         "legendgroup": "15.0",
         "marker": {
          "color": "#bd3786",
          "pattern": {
           "shape": ""
          }
         },
         "name": "15.0",
         "r": [
          0
         ],
         "showlegend": true,
         "subplot": "polar",
         "theta": [
          "N"
         ],
         "type": "barpolar"
        },
        {
         "hovertemplate": "WS100BIN=16.0<br>FREQUENCY=%{r}<br>WD100CARD=%{theta}<extra></extra>",
         "legendgroup": "16.0",
         "marker": {
          "color": "#9c179e",
          "pattern": {
           "shape": ""
          }
         },
         "name": "16.0",
         "r": [
          0,
          0,
          0,
          0,
          10,
          0,
          0,
          43,
          40,
          0,
          0,
          0,
          2,
          4,
          121,
          74,
          98
         ],
         "showlegend": true,
         "subplot": "polar",
         "theta": [
          "N",
          "E",
          "ENE",
          "ESE",
          "N",
          "NE",
          "NNE",
          "NNW",
          "NW",
          "S",
          "SE",
          "SSE",
          "SSW",
          "SW",
          "W",
          "WNW",
          "WSW"
         ],
         "type": "barpolar"
        },
        {
         "hovertemplate": "WS100BIN=17.0<br>FREQUENCY=%{r}<br>WD100CARD=%{theta}<extra></extra>",
         "legendgroup": "17.0",
         "marker": {
          "color": "#7201a8",
          "pattern": {
           "shape": ""
          }
         },
         "name": "17.0",
         "r": [
          0
         ],
         "showlegend": true,
         "subplot": "polar",
         "theta": [
          "N"
         ],
         "type": "barpolar"
        },
        {
         "hovertemplate": "WS100BIN=18.0<br>FREQUENCY=%{r}<br>WD100CARD=%{theta}<extra></extra>",
         "legendgroup": "18.0",
         "marker": {
          "color": "#46039f",
          "pattern": {
           "shape": ""
          }
         },
         "name": "18.0",
         "r": [
          0,
          0,
          0,
          0,
          4,
          0,
          0,
          16,
          10,
          0,
          0,
          0,
          0,
          0,
          30,
          27,
          14
         ],
         "showlegend": true,
         "subplot": "polar",
         "theta": [
          "N",
          "E",
          "ENE",
          "ESE",
          "N",
          "NE",
          "NNE",
          "NNW",
          "NW",
          "S",
          "SE",
          "SSE",
          "SSW",
          "SW",
          "W",
          "WNW",
          "WSW"
         ],
         "type": "barpolar"
        },
        {
         "hovertemplate": "WS100BIN=19.0<br>FREQUENCY=%{r}<br>WD100CARD=%{theta}<extra></extra>",
         "legendgroup": "19.0",
         "marker": {
          "color": "#0d0887",
          "pattern": {
           "shape": ""
          }
         },
         "name": "19.0",
         "r": [
          0
         ],
         "showlegend": true,
         "subplot": "polar",
         "theta": [
          "N"
         ],
         "type": "barpolar"
        },
        {
         "hovertemplate": "WS100BIN=20.0<br>FREQUENCY=%{r}<br>WD100CARD=%{theta}<extra></extra>",
         "legendgroup": "20.0",
         "marker": {
          "color": "#f0f921",
          "pattern": {
           "shape": ""
          }
         },
         "name": "20.0",
         "r": [
          0,
          0,
          0,
          0,
          0,
          0,
          0,
          0,
          6,
          0,
          0,
          0,
          0,
          0,
          0,
          9,
          4
         ],
         "showlegend": true,
         "subplot": "polar",
         "theta": [
          "N",
          "E",
          "ENE",
          "ESE",
          "N",
          "NE",
          "NNE",
          "NNW",
          "NW",
          "S",
          "SE",
          "SSE",
          "SSW",
          "SW",
          "W",
          "WNW",
          "WSW"
         ],
         "type": "barpolar"
        },
        {
         "hovertemplate": "WS100BIN=21.0<br>FREQUENCY=%{r}<br>WD100CARD=%{theta}<extra></extra>",
         "legendgroup": "21.0",
         "marker": {
          "color": "#fdca26",
          "pattern": {
           "shape": ""
          }
         },
         "name": "21.0",
         "r": [
          0
         ],
         "showlegend": true,
         "subplot": "polar",
         "theta": [
          "N"
         ],
         "type": "barpolar"
        },
        {
         "hovertemplate": "WS100BIN=22.0<br>FREQUENCY=%{r}<br>WD100CARD=%{theta}<extra></extra>",
         "legendgroup": "22.0",
         "marker": {
          "color": "#fb9f3a",
          "pattern": {
           "shape": ""
          }
         },
         "name": "22.0",
         "r": [
          0,
          0,
          0,
          0,
          0,
          0,
          0,
          0,
          0,
          0,
          0,
          0,
          0,
          0,
          0,
          2,
          0
         ],
         "showlegend": true,
         "subplot": "polar",
         "theta": [
          "N",
          "E",
          "ENE",
          "ESE",
          "N",
          "NE",
          "NNE",
          "NNW",
          "NW",
          "S",
          "SE",
          "SSE",
          "SSW",
          "SW",
          "W",
          "WNW",
          "WSW"
         ],
         "type": "barpolar"
        },
        {
         "hovertemplate": "WS100BIN=23.0<br>FREQUENCY=%{r}<br>WD100CARD=%{theta}<extra></extra>",
         "legendgroup": "23.0",
         "marker": {
          "color": "#ed7953",
          "pattern": {
           "shape": ""
          }
         },
         "name": "23.0",
         "r": [
          0
         ],
         "showlegend": true,
         "subplot": "polar",
         "theta": [
          "N"
         ],
         "type": "barpolar"
        },
        {
         "hovertemplate": "WS100BIN=24.0<br>FREQUENCY=%{r}<br>WD100CARD=%{theta}<extra></extra>",
         "legendgroup": "24.0",
         "marker": {
          "color": "#d8576b",
          "pattern": {
           "shape": ""
          }
         },
         "name": "24.0",
         "r": [
          0
         ],
         "showlegend": true,
         "subplot": "polar",
         "theta": [
          "N"
         ],
         "type": "barpolar"
        },
        {
         "hovertemplate": "WS100BIN=25.0<br>FREQUENCY=%{r}<br>WD100CARD=%{theta}<extra></extra>",
         "legendgroup": "25.0",
         "marker": {
          "color": "#bd3786",
          "pattern": {
           "shape": ""
          }
         },
         "name": "25.0",
         "r": [
          0
         ],
         "showlegend": true,
         "subplot": "polar",
         "theta": [
          "N"
         ],
         "type": "barpolar"
        }
       ],
       "layout": {
        "template": {
         "data": {
          "bar": [
           {
            "error_x": {
             "color": "#2a3f5f"
            },
            "error_y": {
             "color": "#2a3f5f"
            },
            "marker": {
             "line": {
              "color": "#E5ECF6",
              "width": 0.5
             },
             "pattern": {
              "fillmode": "overlay",
              "size": 10,
              "solidity": 0.2
             }
            },
            "type": "bar"
           }
          ],
          "barpolar": [
           {
            "marker": {
             "line": {
              "color": "#E5ECF6",
              "width": 0.5
             },
             "pattern": {
              "fillmode": "overlay",
              "size": 10,
              "solidity": 0.2
             }
            },
            "type": "barpolar"
           }
          ],
          "carpet": [
           {
            "aaxis": {
             "endlinecolor": "#2a3f5f",
             "gridcolor": "white",
             "linecolor": "white",
             "minorgridcolor": "white",
             "startlinecolor": "#2a3f5f"
            },
            "baxis": {
             "endlinecolor": "#2a3f5f",
             "gridcolor": "white",
             "linecolor": "white",
             "minorgridcolor": "white",
             "startlinecolor": "#2a3f5f"
            },
            "type": "carpet"
           }
          ],
          "choropleth": [
           {
            "colorbar": {
             "outlinewidth": 0,
             "ticks": ""
            },
            "type": "choropleth"
           }
          ],
          "contour": [
           {
            "colorbar": {
             "outlinewidth": 0,
             "ticks": ""
            },
            "colorscale": [
             [
              0,
              "#0d0887"
             ],
             [
              0.1111111111111111,
              "#46039f"
             ],
             [
              0.2222222222222222,
              "#7201a8"
             ],
             [
              0.3333333333333333,
              "#9c179e"
             ],
             [
              0.4444444444444444,
              "#bd3786"
             ],
             [
              0.5555555555555556,
              "#d8576b"
             ],
             [
              0.6666666666666666,
              "#ed7953"
             ],
             [
              0.7777777777777778,
              "#fb9f3a"
             ],
             [
              0.8888888888888888,
              "#fdca26"
             ],
             [
              1,
              "#f0f921"
             ]
            ],
            "type": "contour"
           }
          ],
          "contourcarpet": [
           {
            "colorbar": {
             "outlinewidth": 0,
             "ticks": ""
            },
            "type": "contourcarpet"
           }
          ],
          "heatmap": [
           {
            "colorbar": {
             "outlinewidth": 0,
             "ticks": ""
            },
            "colorscale": [
             [
              0,
              "#0d0887"
             ],
             [
              0.1111111111111111,
              "#46039f"
             ],
             [
              0.2222222222222222,
              "#7201a8"
             ],
             [
              0.3333333333333333,
              "#9c179e"
             ],
             [
              0.4444444444444444,
              "#bd3786"
             ],
             [
              0.5555555555555556,
              "#d8576b"
             ],
             [
              0.6666666666666666,
              "#ed7953"
             ],
             [
              0.7777777777777778,
              "#fb9f3a"
             ],
             [
              0.8888888888888888,
              "#fdca26"
             ],
             [
              1,
              "#f0f921"
             ]
            ],
            "type": "heatmap"
           }
          ],
          "heatmapgl": [
           {
            "colorbar": {
             "outlinewidth": 0,
             "ticks": ""
            },
            "colorscale": [
             [
              0,
              "#0d0887"
             ],
             [
              0.1111111111111111,
              "#46039f"
             ],
             [
              0.2222222222222222,
              "#7201a8"
             ],
             [
              0.3333333333333333,
              "#9c179e"
             ],
             [
              0.4444444444444444,
              "#bd3786"
             ],
             [
              0.5555555555555556,
              "#d8576b"
             ],
             [
              0.6666666666666666,
              "#ed7953"
             ],
             [
              0.7777777777777778,
              "#fb9f3a"
             ],
             [
              0.8888888888888888,
              "#fdca26"
             ],
             [
              1,
              "#f0f921"
             ]
            ],
            "type": "heatmapgl"
           }
          ],
          "histogram": [
           {
            "marker": {
             "pattern": {
              "fillmode": "overlay",
              "size": 10,
              "solidity": 0.2
             }
            },
            "type": "histogram"
           }
          ],
          "histogram2d": [
           {
            "colorbar": {
             "outlinewidth": 0,
             "ticks": ""
            },
            "colorscale": [
             [
              0,
              "#0d0887"
             ],
             [
              0.1111111111111111,
              "#46039f"
             ],
             [
              0.2222222222222222,
              "#7201a8"
             ],
             [
              0.3333333333333333,
              "#9c179e"
             ],
             [
              0.4444444444444444,
              "#bd3786"
             ],
             [
              0.5555555555555556,
              "#d8576b"
             ],
             [
              0.6666666666666666,
              "#ed7953"
             ],
             [
              0.7777777777777778,
              "#fb9f3a"
             ],
             [
              0.8888888888888888,
              "#fdca26"
             ],
             [
              1,
              "#f0f921"
             ]
            ],
            "type": "histogram2d"
           }
          ],
          "histogram2dcontour": [
           {
            "colorbar": {
             "outlinewidth": 0,
             "ticks": ""
            },
            "colorscale": [
             [
              0,
              "#0d0887"
             ],
             [
              0.1111111111111111,
              "#46039f"
             ],
             [
              0.2222222222222222,
              "#7201a8"
             ],
             [
              0.3333333333333333,
              "#9c179e"
             ],
             [
              0.4444444444444444,
              "#bd3786"
             ],
             [
              0.5555555555555556,
              "#d8576b"
             ],
             [
              0.6666666666666666,
              "#ed7953"
             ],
             [
              0.7777777777777778,
              "#fb9f3a"
             ],
             [
              0.8888888888888888,
              "#fdca26"
             ],
             [
              1,
              "#f0f921"
             ]
            ],
            "type": "histogram2dcontour"
           }
          ],
          "mesh3d": [
           {
            "colorbar": {
             "outlinewidth": 0,
             "ticks": ""
            },
            "type": "mesh3d"
           }
          ],
          "parcoords": [
           {
            "line": {
             "colorbar": {
              "outlinewidth": 0,
              "ticks": ""
             }
            },
            "type": "parcoords"
           }
          ],
          "pie": [
           {
            "automargin": true,
            "type": "pie"
           }
          ],
          "scatter": [
           {
            "marker": {
             "colorbar": {
              "outlinewidth": 0,
              "ticks": ""
             }
            },
            "type": "scatter"
           }
          ],
          "scatter3d": [
           {
            "line": {
             "colorbar": {
              "outlinewidth": 0,
              "ticks": ""
             }
            },
            "marker": {
             "colorbar": {
              "outlinewidth": 0,
              "ticks": ""
             }
            },
            "type": "scatter3d"
           }
          ],
          "scattercarpet": [
           {
            "marker": {
             "colorbar": {
              "outlinewidth": 0,
              "ticks": ""
             }
            },
            "type": "scattercarpet"
           }
          ],
          "scattergeo": [
           {
            "marker": {
             "colorbar": {
              "outlinewidth": 0,
              "ticks": ""
             }
            },
            "type": "scattergeo"
           }
          ],
          "scattergl": [
           {
            "marker": {
             "colorbar": {
              "outlinewidth": 0,
              "ticks": ""
             }
            },
            "type": "scattergl"
           }
          ],
          "scattermapbox": [
           {
            "marker": {
             "colorbar": {
              "outlinewidth": 0,
              "ticks": ""
             }
            },
            "type": "scattermapbox"
           }
          ],
          "scatterpolar": [
           {
            "marker": {
             "colorbar": {
              "outlinewidth": 0,
              "ticks": ""
             }
            },
            "type": "scatterpolar"
           }
          ],
          "scatterpolargl": [
           {
            "marker": {
             "colorbar": {
              "outlinewidth": 0,
              "ticks": ""
             }
            },
            "type": "scatterpolargl"
           }
          ],
          "scatterternary": [
           {
            "marker": {
             "colorbar": {
              "outlinewidth": 0,
              "ticks": ""
             }
            },
            "type": "scatterternary"
           }
          ],
          "surface": [
           {
            "colorbar": {
             "outlinewidth": 0,
             "ticks": ""
            },
            "colorscale": [
             [
              0,
              "#0d0887"
             ],
             [
              0.1111111111111111,
              "#46039f"
             ],
             [
              0.2222222222222222,
              "#7201a8"
             ],
             [
              0.3333333333333333,
              "#9c179e"
             ],
             [
              0.4444444444444444,
              "#bd3786"
             ],
             [
              0.5555555555555556,
              "#d8576b"
             ],
             [
              0.6666666666666666,
              "#ed7953"
             ],
             [
              0.7777777777777778,
              "#fb9f3a"
             ],
             [
              0.8888888888888888,
              "#fdca26"
             ],
             [
              1,
              "#f0f921"
             ]
            ],
            "type": "surface"
           }
          ],
          "table": [
           {
            "cells": {
             "fill": {
              "color": "#EBF0F8"
             },
             "line": {
              "color": "white"
             }
            },
            "header": {
             "fill": {
              "color": "#C8D4E3"
             },
             "line": {
              "color": "white"
             }
            },
            "type": "table"
           }
          ]
         },
         "layout": {
          "annotationdefaults": {
           "arrowcolor": "#2a3f5f",
           "arrowhead": 0,
           "arrowwidth": 1
          },
          "autotypenumbers": "strict",
          "coloraxis": {
           "colorbar": {
            "outlinewidth": 0,
            "ticks": ""
           }
          },
          "colorscale": {
           "diverging": [
            [
             0,
             "#8e0152"
            ],
            [
             0.1,
             "#c51b7d"
            ],
            [
             0.2,
             "#de77ae"
            ],
            [
             0.3,
             "#f1b6da"
            ],
            [
             0.4,
             "#fde0ef"
            ],
            [
             0.5,
             "#f7f7f7"
            ],
            [
             0.6,
             "#e6f5d0"
            ],
            [
             0.7,
             "#b8e186"
            ],
            [
             0.8,
             "#7fbc41"
            ],
            [
             0.9,
             "#4d9221"
            ],
            [
             1,
             "#276419"
            ]
           ],
           "sequential": [
            [
             0,
             "#0d0887"
            ],
            [
             0.1111111111111111,
             "#46039f"
            ],
            [
             0.2222222222222222,
             "#7201a8"
            ],
            [
             0.3333333333333333,
             "#9c179e"
            ],
            [
             0.4444444444444444,
             "#bd3786"
            ],
            [
             0.5555555555555556,
             "#d8576b"
            ],
            [
             0.6666666666666666,
             "#ed7953"
            ],
            [
             0.7777777777777778,
             "#fb9f3a"
            ],
            [
             0.8888888888888888,
             "#fdca26"
            ],
            [
             1,
             "#f0f921"
            ]
           ],
           "sequentialminus": [
            [
             0,
             "#0d0887"
            ],
            [
             0.1111111111111111,
             "#46039f"
            ],
            [
             0.2222222222222222,
             "#7201a8"
            ],
            [
             0.3333333333333333,
             "#9c179e"
            ],
            [
             0.4444444444444444,
             "#bd3786"
            ],
            [
             0.5555555555555556,
             "#d8576b"
            ],
            [
             0.6666666666666666,
             "#ed7953"
            ],
            [
             0.7777777777777778,
             "#fb9f3a"
            ],
            [
             0.8888888888888888,
             "#fdca26"
            ],
            [
             1,
             "#f0f921"
            ]
           ]
          },
          "colorway": [
           "#636efa",
           "#EF553B",
           "#00cc96",
           "#ab63fa",
           "#FFA15A",
           "#19d3f3",
           "#FF6692",
           "#B6E880",
           "#FF97FF",
           "#FECB52"
          ],
          "font": {
           "color": "#2a3f5f"
          },
          "geo": {
           "bgcolor": "white",
           "lakecolor": "white",
           "landcolor": "#E5ECF6",
           "showlakes": true,
           "showland": true,
           "subunitcolor": "white"
          },
          "hoverlabel": {
           "align": "left"
          },
          "hovermode": "closest",
          "mapbox": {
           "style": "light"
          },
          "paper_bgcolor": "white",
          "plot_bgcolor": "#E5ECF6",
          "polar": {
           "angularaxis": {
            "gridcolor": "white",
            "linecolor": "white",
            "ticks": ""
           },
           "bgcolor": "#E5ECF6",
           "radialaxis": {
            "gridcolor": "white",
            "linecolor": "white",
            "ticks": ""
           }
          },
          "scene": {
           "xaxis": {
            "backgroundcolor": "#E5ECF6",
            "gridcolor": "white",
            "gridwidth": 2,
            "linecolor": "white",
            "showbackground": true,
            "ticks": "",
            "zerolinecolor": "white"
           },
           "yaxis": {
            "backgroundcolor": "#E5ECF6",
            "gridcolor": "white",
            "gridwidth": 2,
            "linecolor": "white",
            "showbackground": true,
            "ticks": "",
            "zerolinecolor": "white"
           },
           "zaxis": {
            "backgroundcolor": "#E5ECF6",
            "gridcolor": "white",
            "gridwidth": 2,
            "linecolor": "white",
            "showbackground": true,
            "ticks": "",
            "zerolinecolor": "white"
           }
          },
          "shapedefaults": {
           "line": {
            "color": "#2a3f5f"
           }
          },
          "ternary": {
           "aaxis": {
            "gridcolor": "white",
            "linecolor": "white",
            "ticks": ""
           },
           "baxis": {
            "gridcolor": "white",
            "linecolor": "white",
            "ticks": ""
           },
           "bgcolor": "#E5ECF6",
           "caxis": {
            "gridcolor": "white",
            "linecolor": "white",
            "ticks": ""
           }
          },
          "title": {
           "x": 0.05
          },
          "xaxis": {
           "automargin": true,
           "gridcolor": "white",
           "linecolor": "white",
           "ticks": "",
           "title": {
            "standoff": 15
           },
           "zerolinecolor": "white",
           "zerolinewidth": 2
          },
          "yaxis": {
           "automargin": true,
           "gridcolor": "white",
           "linecolor": "white",
           "ticks": "",
           "title": {
            "standoff": 15
           },
           "zerolinecolor": "white",
           "zerolinewidth": 2
          }
         }
        },
        "polar": {
         "domain": {
          "x": [
           0,
           1
          ],
          "y": [
           0,
           1
          ]
         },
         "angularaxis": {
          "direction": "clockwise",
          "rotation": 90
         }
        },
        "legend": {
         "title": {
          "text": "WS100BIN"
         },
         "tracegroupgap": 0
        },
        "margin": {
         "t": 60
        },
        "barmode": "relative"
       },
       "config": {
        "plotlyServerURL": "https://plot.ly"
       }
      }
     },
     "metadata": {}
    }
   ],
   "metadata": {}
  },
  {
   "cell_type": "code",
   "execution_count": 18,
   "source": [
    "DATA_PATH = '../data/GEFCom2014Data/Wind/raw_data_incl_features.csv'\n",
    "\n",
    "#def update_data(day):\n",
    "## read data\n",
    "data = pd.read_csv('../data/GEFCom2014Data/Wind/raw_data_incl_features.csv', parse_dates=['TIMESTAMP']) #, index_col='TIMESTAMP')\n",
    "data.interpolate(method='bfill', inplace=True)\n",
    "data.info()\n",
    "data.head()\n"
   ],
   "outputs": [
    {
     "output_type": "stream",
     "name": "stdout",
     "text": [
      "<class 'pandas.core.frame.DataFrame'>\n",
      "RangeIndex: 175440 entries, 0 to 175439\n",
      "Data columns (total 19 columns):\n",
      " #   Column      Non-Null Count   Dtype         \n",
      "---  ------      --------------   -----         \n",
      " 0   ZONEID      175440 non-null  int64         \n",
      " 1   TIMESTAMP   175440 non-null  datetime64[ns]\n",
      " 2   TARGETVAR   175434 non-null  float64       \n",
      " 3   U10         175440 non-null  float64       \n",
      " 4   V10         175440 non-null  float64       \n",
      " 5   U100        175440 non-null  float64       \n",
      " 6   V100        175440 non-null  float64       \n",
      " 7   HOUR        175440 non-null  int64         \n",
      " 8   MONTH       175440 non-null  int64         \n",
      " 9   WEEKDAY     175440 non-null  int64         \n",
      " 10  IS_HOLIDAY  175440 non-null  int64         \n",
      " 11  WS10        175440 non-null  float64       \n",
      " 12  WS100       175440 non-null  float64       \n",
      " 13  WD10        175440 non-null  float64       \n",
      " 14  WD100       175440 non-null  float64       \n",
      " 15  WD100CARD   175440 non-null  object        \n",
      " 16  WD10CARD    175440 non-null  object        \n",
      " 17  U100NORM    175440 non-null  float64       \n",
      " 18  V100NORM    175440 non-null  float64       \n",
      "dtypes: datetime64[ns](1), float64(11), int64(5), object(2)\n",
      "memory usage: 25.4+ MB\n"
     ]
    },
    {
     "output_type": "execute_result",
     "data": {
      "text/html": [
       "<div>\n",
       "<style scoped>\n",
       "    .dataframe tbody tr th:only-of-type {\n",
       "        vertical-align: middle;\n",
       "    }\n",
       "\n",
       "    .dataframe tbody tr th {\n",
       "        vertical-align: top;\n",
       "    }\n",
       "\n",
       "    .dataframe thead th {\n",
       "        text-align: right;\n",
       "    }\n",
       "</style>\n",
       "<table border=\"1\" class=\"dataframe\">\n",
       "  <thead>\n",
       "    <tr style=\"text-align: right;\">\n",
       "      <th></th>\n",
       "      <th>ZONEID</th>\n",
       "      <th>TIMESTAMP</th>\n",
       "      <th>TARGETVAR</th>\n",
       "      <th>U10</th>\n",
       "      <th>V10</th>\n",
       "      <th>U100</th>\n",
       "      <th>V100</th>\n",
       "      <th>HOUR</th>\n",
       "      <th>MONTH</th>\n",
       "      <th>WEEKDAY</th>\n",
       "      <th>IS_HOLIDAY</th>\n",
       "      <th>WS10</th>\n",
       "      <th>WS100</th>\n",
       "      <th>WD10</th>\n",
       "      <th>WD100</th>\n",
       "      <th>WD100CARD</th>\n",
       "      <th>WD10CARD</th>\n",
       "      <th>U100NORM</th>\n",
       "      <th>V100NORM</th>\n",
       "    </tr>\n",
       "  </thead>\n",
       "  <tbody>\n",
       "    <tr>\n",
       "      <th>0</th>\n",
       "      <td>1</td>\n",
       "      <td>2012-01-01 01:00:00</td>\n",
       "      <td>0.000000</td>\n",
       "      <td>2.124600</td>\n",
       "      <td>-2.681966</td>\n",
       "      <td>2.864280</td>\n",
       "      <td>-3.666076</td>\n",
       "      <td>1</td>\n",
       "      <td>1</td>\n",
       "      <td>6</td>\n",
       "      <td>1</td>\n",
       "      <td>3.421530</td>\n",
       "      <td>4.652334</td>\n",
       "      <td>321.614439</td>\n",
       "      <td>321.999735</td>\n",
       "      <td>NW</td>\n",
       "      <td>NW</td>\n",
       "      <td>0.615665</td>\n",
       "      <td>-0.788008</td>\n",
       "    </tr>\n",
       "    <tr>\n",
       "      <th>1</th>\n",
       "      <td>1</td>\n",
       "      <td>2012-01-01 02:00:00</td>\n",
       "      <td>0.054879</td>\n",
       "      <td>2.521695</td>\n",
       "      <td>-1.796960</td>\n",
       "      <td>3.344859</td>\n",
       "      <td>-2.464761</td>\n",
       "      <td>2</td>\n",
       "      <td>1</td>\n",
       "      <td>6</td>\n",
       "      <td>1</td>\n",
       "      <td>3.096451</td>\n",
       "      <td>4.154892</td>\n",
       "      <td>305.473680</td>\n",
       "      <td>306.385781</td>\n",
       "      <td>NW</td>\n",
       "      <td>NW</td>\n",
       "      <td>0.805041</td>\n",
       "      <td>-0.593219</td>\n",
       "    </tr>\n",
       "    <tr>\n",
       "      <th>2</th>\n",
       "      <td>1</td>\n",
       "      <td>2012-01-01 03:00:00</td>\n",
       "      <td>0.110234</td>\n",
       "      <td>2.672210</td>\n",
       "      <td>-0.822516</td>\n",
       "      <td>3.508448</td>\n",
       "      <td>-1.214093</td>\n",
       "      <td>3</td>\n",
       "      <td>1</td>\n",
       "      <td>6</td>\n",
       "      <td>1</td>\n",
       "      <td>2.795932</td>\n",
       "      <td>3.712577</td>\n",
       "      <td>287.108562</td>\n",
       "      <td>289.088098</td>\n",
       "      <td>WNW</td>\n",
       "      <td>WNW</td>\n",
       "      <td>0.945017</td>\n",
       "      <td>-0.327022</td>\n",
       "    </tr>\n",
       "    <tr>\n",
       "      <th>3</th>\n",
       "      <td>1</td>\n",
       "      <td>2012-01-01 04:00:00</td>\n",
       "      <td>0.165116</td>\n",
       "      <td>2.457504</td>\n",
       "      <td>-0.143642</td>\n",
       "      <td>3.215233</td>\n",
       "      <td>-0.355546</td>\n",
       "      <td>4</td>\n",
       "      <td>1</td>\n",
       "      <td>6</td>\n",
       "      <td>1</td>\n",
       "      <td>2.461699</td>\n",
       "      <td>3.234831</td>\n",
       "      <td>273.345160</td>\n",
       "      <td>276.310236</td>\n",
       "      <td>W</td>\n",
       "      <td>W</td>\n",
       "      <td>0.993941</td>\n",
       "      <td>-0.109912</td>\n",
       "    </tr>\n",
       "    <tr>\n",
       "      <th>4</th>\n",
       "      <td>1</td>\n",
       "      <td>2012-01-01 05:00:00</td>\n",
       "      <td>0.156940</td>\n",
       "      <td>2.245898</td>\n",
       "      <td>0.389576</td>\n",
       "      <td>2.957678</td>\n",
       "      <td>0.332701</td>\n",
       "      <td>5</td>\n",
       "      <td>1</td>\n",
       "      <td>6</td>\n",
       "      <td>1</td>\n",
       "      <td>2.279435</td>\n",
       "      <td>2.976332</td>\n",
       "      <td>260.159324</td>\n",
       "      <td>263.581938</td>\n",
       "      <td>W</td>\n",
       "      <td>W</td>\n",
       "      <td>0.993733</td>\n",
       "      <td>0.111782</td>\n",
       "    </tr>\n",
       "  </tbody>\n",
       "</table>\n",
       "</div>"
      ],
      "text/plain": [
       "   ZONEID           TIMESTAMP  TARGETVAR       U10       V10      U100  \\\n",
       "0       1 2012-01-01 01:00:00   0.000000  2.124600 -2.681966  2.864280   \n",
       "1       1 2012-01-01 02:00:00   0.054879  2.521695 -1.796960  3.344859   \n",
       "2       1 2012-01-01 03:00:00   0.110234  2.672210 -0.822516  3.508448   \n",
       "3       1 2012-01-01 04:00:00   0.165116  2.457504 -0.143642  3.215233   \n",
       "4       1 2012-01-01 05:00:00   0.156940  2.245898  0.389576  2.957678   \n",
       "\n",
       "       V100  HOUR  MONTH  WEEKDAY  IS_HOLIDAY      WS10     WS100        WD10  \\\n",
       "0 -3.666076     1      1        6           1  3.421530  4.652334  321.614439   \n",
       "1 -2.464761     2      1        6           1  3.096451  4.154892  305.473680   \n",
       "2 -1.214093     3      1        6           1  2.795932  3.712577  287.108562   \n",
       "3 -0.355546     4      1        6           1  2.461699  3.234831  273.345160   \n",
       "4  0.332701     5      1        6           1  2.279435  2.976332  260.159324   \n",
       "\n",
       "        WD100 WD100CARD WD10CARD  U100NORM  V100NORM  \n",
       "0  321.999735        NW       NW  0.615665 -0.788008  \n",
       "1  306.385781        NW       NW  0.805041 -0.593219  \n",
       "2  289.088098       WNW      WNW  0.945017 -0.327022  \n",
       "3  276.310236         W        W  0.993941 -0.109912  \n",
       "4  263.581938         W        W  0.993733  0.111782  "
      ]
     },
     "metadata": {},
     "execution_count": 18
    }
   ],
   "metadata": {}
  },
  {
   "cell_type": "code",
   "execution_count": 41,
   "source": [
    "day = '2013-07-01'\n",
    "\n",
    "def get_data(day):\n",
    "    day +=' 1:00:00'\n",
    "    data['TIMESTAMP']\n",
    "    forecast_start = pd.to_datetime(day)\n",
    "    forecast_end = forecast_start + pd.Timedelta(value=23, unit='hour')\n",
    "    retro_start = forecast_start - pd.Timedelta(value=24, unit='hour')\n",
    "    retro_end = retro_start + pd.Timedelta(value=23, unit='hour')\n",
    "    data_forecast = data[(data['TIMESTAMP']>=forecast_start) & (data['TIMESTAMP']<=forecast_end)]\n",
    "    data_retro = data[(data['TIMESTAMP']>=retro_start) & (data['TIMESTAMP']<=retro_end)]\n",
    "    return data_forecast, data_retro\n",
    "\n",
    "data_forecast, data_retro = get_data(day)"
   ],
   "outputs": [],
   "metadata": {}
  },
  {
   "cell_type": "code",
   "execution_count": 49,
   "source": [
    "data_retro.groupby('ZONEID').sum()/24"
   ],
   "outputs": [
    {
     "output_type": "execute_result",
     "data": {
      "text/html": [
       "<div>\n",
       "<style scoped>\n",
       "    .dataframe tbody tr th:only-of-type {\n",
       "        vertical-align: middle;\n",
       "    }\n",
       "\n",
       "    .dataframe tbody tr th {\n",
       "        vertical-align: top;\n",
       "    }\n",
       "\n",
       "    .dataframe thead th {\n",
       "        text-align: right;\n",
       "    }\n",
       "</style>\n",
       "<table border=\"1\" class=\"dataframe\">\n",
       "  <thead>\n",
       "    <tr style=\"text-align: right;\">\n",
       "      <th></th>\n",
       "      <th>TARGETVAR</th>\n",
       "      <th>U10</th>\n",
       "      <th>V10</th>\n",
       "      <th>U100</th>\n",
       "      <th>V100</th>\n",
       "      <th>HOUR</th>\n",
       "      <th>MONTH</th>\n",
       "      <th>WEEKDAY</th>\n",
       "      <th>IS_HOLIDAY</th>\n",
       "      <th>WS10</th>\n",
       "      <th>WS100</th>\n",
       "      <th>WD10</th>\n",
       "      <th>WD100</th>\n",
       "      <th>U100NORM</th>\n",
       "      <th>V100NORM</th>\n",
       "    </tr>\n",
       "    <tr>\n",
       "      <th>ZONEID</th>\n",
       "      <th></th>\n",
       "      <th></th>\n",
       "      <th></th>\n",
       "      <th></th>\n",
       "      <th></th>\n",
       "      <th></th>\n",
       "      <th></th>\n",
       "      <th></th>\n",
       "      <th></th>\n",
       "      <th></th>\n",
       "      <th></th>\n",
       "      <th></th>\n",
       "      <th></th>\n",
       "      <th></th>\n",
       "      <th></th>\n",
       "    </tr>\n",
       "  </thead>\n",
       "  <tbody>\n",
       "    <tr>\n",
       "      <th>1</th>\n",
       "      <td>0.593534</td>\n",
       "      <td>3.707042</td>\n",
       "      <td>-1.819963</td>\n",
       "      <td>6.653751</td>\n",
       "      <td>-2.893349</td>\n",
       "      <td>11.5</td>\n",
       "      <td>6.041667</td>\n",
       "      <td>5.75</td>\n",
       "      <td>0.0</td>\n",
       "      <td>4.181666</td>\n",
       "      <td>7.309076</td>\n",
       "      <td>296.765392</td>\n",
       "      <td>293.377544</td>\n",
       "      <td>0.911002</td>\n",
       "      <td>-0.394075</td>\n",
       "    </tr>\n",
       "    <tr>\n",
       "      <th>2</th>\n",
       "      <td>0.375511</td>\n",
       "      <td>3.998596</td>\n",
       "      <td>0.472942</td>\n",
       "      <td>7.199071</td>\n",
       "      <td>1.088709</td>\n",
       "      <td>11.5</td>\n",
       "      <td>6.041667</td>\n",
       "      <td>5.75</td>\n",
       "      <td>0.0</td>\n",
       "      <td>4.115849</td>\n",
       "      <td>7.400286</td>\n",
       "      <td>264.019777</td>\n",
       "      <td>260.783503</td>\n",
       "      <td>0.971207</td>\n",
       "      <td>0.157499</td>\n",
       "    </tr>\n",
       "    <tr>\n",
       "      <th>3</th>\n",
       "      <td>0.150179</td>\n",
       "      <td>3.464878</td>\n",
       "      <td>-1.332586</td>\n",
       "      <td>6.218612</td>\n",
       "      <td>-2.131158</td>\n",
       "      <td>11.5</td>\n",
       "      <td>6.041667</td>\n",
       "      <td>5.75</td>\n",
       "      <td>0.0</td>\n",
       "      <td>3.768464</td>\n",
       "      <td>6.635192</td>\n",
       "      <td>291.358034</td>\n",
       "      <td>288.385272</td>\n",
       "      <td>0.939285</td>\n",
       "      <td>-0.312943</td>\n",
       "    </tr>\n",
       "    <tr>\n",
       "      <th>4</th>\n",
       "      <td>0.265700</td>\n",
       "      <td>3.787608</td>\n",
       "      <td>1.614314</td>\n",
       "      <td>6.165237</td>\n",
       "      <td>2.862546</td>\n",
       "      <td>11.5</td>\n",
       "      <td>6.041667</td>\n",
       "      <td>5.75</td>\n",
       "      <td>0.0</td>\n",
       "      <td>4.147104</td>\n",
       "      <td>6.854207</td>\n",
       "      <td>247.331271</td>\n",
       "      <td>245.297255</td>\n",
       "      <td>0.900427</td>\n",
       "      <td>0.414163</td>\n",
       "    </tr>\n",
       "    <tr>\n",
       "      <th>5</th>\n",
       "      <td>0.293427</td>\n",
       "      <td>3.787608</td>\n",
       "      <td>1.614314</td>\n",
       "      <td>6.165237</td>\n",
       "      <td>2.862546</td>\n",
       "      <td>11.5</td>\n",
       "      <td>6.041667</td>\n",
       "      <td>5.75</td>\n",
       "      <td>0.0</td>\n",
       "      <td>4.147104</td>\n",
       "      <td>6.854207</td>\n",
       "      <td>247.331271</td>\n",
       "      <td>245.297255</td>\n",
       "      <td>0.900427</td>\n",
       "      <td>0.414163</td>\n",
       "    </tr>\n",
       "    <tr>\n",
       "      <th>6</th>\n",
       "      <td>0.374759</td>\n",
       "      <td>3.716034</td>\n",
       "      <td>0.328386</td>\n",
       "      <td>6.180457</td>\n",
       "      <td>1.033762</td>\n",
       "      <td>11.5</td>\n",
       "      <td>6.041667</td>\n",
       "      <td>5.75</td>\n",
       "      <td>0.0</td>\n",
       "      <td>3.848963</td>\n",
       "      <td>6.420608</td>\n",
       "      <td>267.684019</td>\n",
       "      <td>261.261136</td>\n",
       "      <td>0.964099</td>\n",
       "      <td>0.148730</td>\n",
       "    </tr>\n",
       "    <tr>\n",
       "      <th>7</th>\n",
       "      <td>0.690229</td>\n",
       "      <td>5.558717</td>\n",
       "      <td>-0.982004</td>\n",
       "      <td>9.460361</td>\n",
       "      <td>-1.453928</td>\n",
       "      <td>11.5</td>\n",
       "      <td>6.041667</td>\n",
       "      <td>5.75</td>\n",
       "      <td>0.0</td>\n",
       "      <td>5.653308</td>\n",
       "      <td>9.582102</td>\n",
       "      <td>280.282302</td>\n",
       "      <td>278.818706</td>\n",
       "      <td>0.987128</td>\n",
       "      <td>-0.153152</td>\n",
       "    </tr>\n",
       "    <tr>\n",
       "      <th>8</th>\n",
       "      <td>0.731638</td>\n",
       "      <td>5.558717</td>\n",
       "      <td>-0.982004</td>\n",
       "      <td>9.460361</td>\n",
       "      <td>-1.453928</td>\n",
       "      <td>11.5</td>\n",
       "      <td>6.041667</td>\n",
       "      <td>5.75</td>\n",
       "      <td>0.0</td>\n",
       "      <td>5.653308</td>\n",
       "      <td>9.582102</td>\n",
       "      <td>280.282302</td>\n",
       "      <td>278.818706</td>\n",
       "      <td>0.987128</td>\n",
       "      <td>-0.153152</td>\n",
       "    </tr>\n",
       "    <tr>\n",
       "      <th>9</th>\n",
       "      <td>0.373918</td>\n",
       "      <td>3.964297</td>\n",
       "      <td>-1.847696</td>\n",
       "      <td>7.144898</td>\n",
       "      <td>-3.084388</td>\n",
       "      <td>11.5</td>\n",
       "      <td>6.041667</td>\n",
       "      <td>5.75</td>\n",
       "      <td>0.0</td>\n",
       "      <td>4.436010</td>\n",
       "      <td>7.851026</td>\n",
       "      <td>295.813966</td>\n",
       "      <td>293.242126</td>\n",
       "      <td>0.910696</td>\n",
       "      <td>-0.391425</td>\n",
       "    </tr>\n",
       "    <tr>\n",
       "      <th>10</th>\n",
       "      <td>0.243962</td>\n",
       "      <td>2.406773</td>\n",
       "      <td>-0.001484</td>\n",
       "      <td>4.911573</td>\n",
       "      <td>0.471465</td>\n",
       "      <td>11.5</td>\n",
       "      <td>6.041667</td>\n",
       "      <td>5.75</td>\n",
       "      <td>0.0</td>\n",
       "      <td>3.004021</td>\n",
       "      <td>5.516761</td>\n",
       "      <td>279.791646</td>\n",
       "      <td>269.246517</td>\n",
       "      <td>0.878673</td>\n",
       "      <td>0.026572</td>\n",
       "    </tr>\n",
       "  </tbody>\n",
       "</table>\n",
       "</div>"
      ],
      "text/plain": [
       "        TARGETVAR       U10       V10      U100      V100  HOUR     MONTH  \\\n",
       "ZONEID                                                                      \n",
       "1        0.593534  3.707042 -1.819963  6.653751 -2.893349  11.5  6.041667   \n",
       "2        0.375511  3.998596  0.472942  7.199071  1.088709  11.5  6.041667   \n",
       "3        0.150179  3.464878 -1.332586  6.218612 -2.131158  11.5  6.041667   \n",
       "4        0.265700  3.787608  1.614314  6.165237  2.862546  11.5  6.041667   \n",
       "5        0.293427  3.787608  1.614314  6.165237  2.862546  11.5  6.041667   \n",
       "6        0.374759  3.716034  0.328386  6.180457  1.033762  11.5  6.041667   \n",
       "7        0.690229  5.558717 -0.982004  9.460361 -1.453928  11.5  6.041667   \n",
       "8        0.731638  5.558717 -0.982004  9.460361 -1.453928  11.5  6.041667   \n",
       "9        0.373918  3.964297 -1.847696  7.144898 -3.084388  11.5  6.041667   \n",
       "10       0.243962  2.406773 -0.001484  4.911573  0.471465  11.5  6.041667   \n",
       "\n",
       "        WEEKDAY  IS_HOLIDAY      WS10     WS100        WD10       WD100  \\\n",
       "ZONEID                                                                    \n",
       "1          5.75         0.0  4.181666  7.309076  296.765392  293.377544   \n",
       "2          5.75         0.0  4.115849  7.400286  264.019777  260.783503   \n",
       "3          5.75         0.0  3.768464  6.635192  291.358034  288.385272   \n",
       "4          5.75         0.0  4.147104  6.854207  247.331271  245.297255   \n",
       "5          5.75         0.0  4.147104  6.854207  247.331271  245.297255   \n",
       "6          5.75         0.0  3.848963  6.420608  267.684019  261.261136   \n",
       "7          5.75         0.0  5.653308  9.582102  280.282302  278.818706   \n",
       "8          5.75         0.0  5.653308  9.582102  280.282302  278.818706   \n",
       "9          5.75         0.0  4.436010  7.851026  295.813966  293.242126   \n",
       "10         5.75         0.0  3.004021  5.516761  279.791646  269.246517   \n",
       "\n",
       "        U100NORM  V100NORM  \n",
       "ZONEID                      \n",
       "1       0.911002 -0.394075  \n",
       "2       0.971207  0.157499  \n",
       "3       0.939285 -0.312943  \n",
       "4       0.900427  0.414163  \n",
       "5       0.900427  0.414163  \n",
       "6       0.964099  0.148730  \n",
       "7       0.987128 -0.153152  \n",
       "8       0.987128 -0.153152  \n",
       "9       0.910696 -0.391425  \n",
       "10      0.878673  0.026572  "
      ]
     },
     "metadata": {},
     "execution_count": 49
    }
   ],
   "metadata": {}
  },
  {
   "cell_type": "code",
   "execution_count": null,
   "source": [],
   "outputs": [],
   "metadata": {}
  }
 ],
 "metadata": {
  "interpreter": {
   "hash": "6bf04853d3fd90e38dceeec9809cf8d05177fbec35bd657075794b65848902e2"
  },
  "kernelspec": {
   "name": "python3",
   "display_name": "Python 3.9.4 64-bit ('.venv': venv)"
  },
  "language_info": {
   "codemirror_mode": {
    "name": "ipython",
    "version": 3
   },
   "file_extension": ".py",
   "mimetype": "text/x-python",
   "name": "python",
   "nbconvert_exporter": "python",
   "pygments_lexer": "ipython3",
   "version": "3.9.4"
  },
  "orig_nbformat": 4
 },
 "nbformat": 4,
 "nbformat_minor": 2
}