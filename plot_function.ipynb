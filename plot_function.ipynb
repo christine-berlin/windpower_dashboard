{
 "cells": [
  {
   "cell_type": "code",
   "execution_count": 30,
   "metadata": {},
   "outputs": [],
   "source": [
    "import numpy as np\n",
    "import pandas as pd\n",
    "import plotly.express as px\n",
    "import plotly.graph_objects as go\n",
    "import plotly.express as px"
   ]
  },
  {
   "cell_type": "code",
   "execution_count": 31,
   "metadata": {},
   "outputs": [],
   "source": [
    "def plot_windrose(df):\n",
    "    bins = np.linspace(0,24,13)\n",
    "    labels = [0,2,4,6,8,10,12,14,16,18,20,22]\n",
    "\n",
    "    df['WS100BIN'] = pd.cut(df['WS100'], bins=bins, labels = labels)\n",
    "\n",
    "    df_grouped = df.groupby(['WD100CARD','WS100BIN']).count().reset_index()\n",
    "    \n",
    "    wd_card=[\"N\",\"NNE\",\"NE\",\"ENE\",\"E\",\"ESE\", \"SE\", \"SSE\",\"S\",\"SSW\",\"SW\",\"WSW\",\"W\",\"WNW\",\"NW\",\"NNW\"]\n",
    "\n",
    "    wd_zeros = np.zeros(len(wd_card))\n",
    "    df_all_wd_card = pd.DataFrame([wd_card, wd_zeros, wd_zeros])\n",
    "    df_all_wd_card = df_all_wd_card.T\n",
    "    df_all_wd_card.columns = ['WD100CARD', 'WS100BIN', 'FREQUENCY']\n",
    "    \n",
    "    data_wind = df_grouped[['WD100CARD', 'WS100BIN', 'ZONEID']]\n",
    "    data_wind.columns = df_all_wd_card.columns\n",
    "    #print(data_wind.head(50))\n",
    "\n",
    "    datax = pd.concat([data_wind, df_all_wd_card], axis = 0)\n",
    "    print(datax.head())\n",
    "    datax = datax.sort_values(by='WD100CARD', key=card_sorter)\n",
    "    ws_ls = np.linspace(0,25,26)\n",
    "    wind_all_speeds = pd.DataFrame([['N']*len(ws_ls), ws_ls, np.zeros(len(ws_ls))]).T\n",
    "    wind_all_speeds.columns = ['WD100CARD', 'WS100BIN', 'FREQUENCY']\n",
    "    wind_all_speeds\n",
    "    datax = pd.concat([wind_all_speeds, df_all_wd_card, data_wind], axis = 0)\n",
    "\n",
    "    fig = px.bar_polar(datax, \n",
    "                   r=\"FREQUENCY\", \n",
    "                   theta=\"WD100CARD\",\n",
    "                   color=\"WS100BIN\", \n",
    "                   #template=\"plotly_black\",\n",
    "                   color_discrete_sequence= px.colors.sequential.Plasma_r)                      \n",
    "    #fig.show()\n",
    "    return fig\n"
   ]
  },
  {
   "cell_type": "code",
   "execution_count": 26,
   "metadata": {},
   "outputs": [],
   "source": [
    "def card_sorter(column):\n",
    "    \"\"\"Sort function\"\"\"\n",
    "    wd_card=[\"N\",\"NNE\",\"NE\",\"ENE\",\"E\",\"ESE\", \"SE\", \"SSE\",\"S\",\"SSW\",\"SW\",\"WSW\",\"W\",\"WNW\",\"NW\",\"NNW\"]\n",
    "    correspondence = {card: order for order, card in enumerate(wd_card)}\n",
    "    return column.map(correspondence)"
   ]
  },
  {
   "cell_type": "code",
   "execution_count": 32,
   "metadata": {},
   "outputs": [
    {
     "name": "stdout",
     "output_type": "stream",
     "text": [
      "  WD100CARD WS100BIN FREQUENCY\n",
      "0         E        0       416\n",
      "1         E        2      1514\n",
      "2         E        4      2301\n",
      "3         E        6      2294\n",
      "4         E        8       660\n"
     ]
    },
    {
     "data": {
      "application/vnd.plotly.v1+json": {
       "config": {
        "plotlyServerURL": "https://plot.ly"
       },
       "data": [
        {
         "hovertemplate": "WS100BIN=0.0<br>FREQUENCY=%{r}<br>WD100CARD=%{theta}<extra></extra>",
         "legendgroup": "0.0",
         "marker": {
          "color": "#f0f921",
          "pattern": {
           "shape": ""
          }
         },
         "name": "0.0",
         "r": [
          0,
          0,
          0,
          0,
          0,
          0,
          0,
          0,
          0,
          0,
          0,
          0,
          0,
          0,
          0,
          0,
          0,
          416,
          428,
          375,
          313,
          375,
          310,
          373,
          379,
          491,
          464,
          461,
          445,
          425,
          427,
          376,
          392
         ],
         "showlegend": true,
         "subplot": "polar",
         "theta": [
          "N",
          "N",
          "NNE",
          "NE",
          "ENE",
          "E",
          "ESE",
          "SE",
          "SSE",
          "S",
          "SSW",
          "SW",
          "WSW",
          "W",
          "WNW",
          "NW",
          "NNW",
          "E",
          "ENE",
          "ESE",
          "N",
          "NE",
          "NNE",
          "NNW",
          "NW",
          "S",
          "SE",
          "SSE",
          "SSW",
          "SW",
          "W",
          "WNW",
          "WSW"
         ],
         "type": "barpolar"
        },
        {
         "hovertemplate": "WS100BIN=1.0<br>FREQUENCY=%{r}<br>WD100CARD=%{theta}<extra></extra>",
         "legendgroup": "1.0",
         "marker": {
          "color": "#fdca26",
          "pattern": {
           "shape": ""
          }
         },
         "name": "1.0",
         "r": [
          0
         ],
         "showlegend": true,
         "subplot": "polar",
         "theta": [
          "N"
         ],
         "type": "barpolar"
        },
        {
         "hovertemplate": "WS100BIN=2.0<br>FREQUENCY=%{r}<br>WD100CARD=%{theta}<extra></extra>",
         "legendgroup": "2.0",
         "marker": {
          "color": "#fb9f3a",
          "pattern": {
           "shape": ""
          }
         },
         "name": "2.0",
         "r": [
          0,
          1514,
          1183,
          1609,
          1164,
          1148,
          1190,
          1207,
          1116,
          2052,
          1939,
          2063,
          1959,
          1849,
          1429,
          1245,
          1736
         ],
         "showlegend": true,
         "subplot": "polar",
         "theta": [
          "N",
          "E",
          "ENE",
          "ESE",
          "N",
          "NE",
          "NNE",
          "NNW",
          "NW",
          "S",
          "SE",
          "SSE",
          "SSW",
          "SW",
          "W",
          "WNW",
          "WSW"
         ],
         "type": "barpolar"
        },
        {
         "hovertemplate": "WS100BIN=3.0<br>FREQUENCY=%{r}<br>WD100CARD=%{theta}<extra></extra>",
         "legendgroup": "3.0",
         "marker": {
          "color": "#ed7953",
          "pattern": {
           "shape": ""
          }
         },
         "name": "3.0",
         "r": [
          0
         ],
         "showlegend": true,
         "subplot": "polar",
         "theta": [
          "N"
         ],
         "type": "barpolar"
        },
        {
         "hovertemplate": "WS100BIN=4.0<br>FREQUENCY=%{r}<br>WD100CARD=%{theta}<extra></extra>",
         "legendgroup": "4.0",
         "marker": {
          "color": "#d8576b",
          "pattern": {
           "shape": ""
          }
         },
         "name": "4.0",
         "r": [
          0,
          2301,
          1918,
          2889,
          2116,
          1902,
          2247,
          2061,
          2058,
          4146,
          3643,
          4569,
          4307,
          3977,
          2689,
          2362,
          3564
         ],
         "showlegend": true,
         "subplot": "polar",
         "theta": [
          "N",
          "E",
          "ENE",
          "ESE",
          "N",
          "NE",
          "NNE",
          "NNW",
          "NW",
          "S",
          "SE",
          "SSE",
          "SSW",
          "SW",
          "W",
          "WNW",
          "WSW"
         ],
         "type": "barpolar"
        },
        {
         "hovertemplate": "WS100BIN=5.0<br>FREQUENCY=%{r}<br>WD100CARD=%{theta}<extra></extra>",
         "legendgroup": "5.0",
         "marker": {
          "color": "#bd3786",
          "pattern": {
           "shape": ""
          }
         },
         "name": "5.0",
         "r": [
          0
         ],
         "showlegend": true,
         "subplot": "polar",
         "theta": [
          "N"
         ],
         "type": "barpolar"
        },
        {
         "hovertemplate": "WS100BIN=6.0<br>FREQUENCY=%{r}<br>WD100CARD=%{theta}<extra></extra>",
         "legendgroup": "6.0",
         "marker": {
          "color": "#9c179e",
          "pattern": {
           "shape": ""
          }
         },
         "name": "6.0",
         "r": [
          0,
          2294,
          1794,
          2434,
          3703,
          1857,
          2937,
          3008,
          2777,
          3772,
          3218,
          3782,
          3662,
          3736,
          3334,
          3274,
          3955
         ],
         "showlegend": true,
         "subplot": "polar",
         "theta": [
          "N",
          "E",
          "ENE",
          "ESE",
          "N",
          "NE",
          "NNE",
          "NNW",
          "NW",
          "S",
          "SE",
          "SSE",
          "SSW",
          "SW",
          "W",
          "WNW",
          "WSW"
         ],
         "type": "barpolar"
        },
        {
         "hovertemplate": "WS100BIN=7.0<br>FREQUENCY=%{r}<br>WD100CARD=%{theta}<extra></extra>",
         "legendgroup": "7.0",
         "marker": {
          "color": "#7201a8",
          "pattern": {
           "shape": ""
          }
         },
         "name": "7.0",
         "r": [
          0
         ],
         "showlegend": true,
         "subplot": "polar",
         "theta": [
          "N"
         ],
         "type": "barpolar"
        },
        {
         "hovertemplate": "WS100BIN=8.0<br>FREQUENCY=%{r}<br>WD100CARD=%{theta}<extra></extra>",
         "legendgroup": "8.0",
         "marker": {
          "color": "#46039f",
          "pattern": {
           "shape": ""
          }
         },
         "name": "8.0",
         "r": [
          0,
          660,
          783,
          885,
          3183,
          818,
          2258,
          2487,
          2038,
          1315,
          1293,
          1655,
          1659,
          2241,
          2604,
          2409,
          2819
         ],
         "showlegend": true,
         "subplot": "polar",
         "theta": [
          "N",
          "E",
          "ENE",
          "ESE",
          "N",
          "NE",
          "NNE",
          "NNW",
          "NW",
          "S",
          "SE",
          "SSE",
          "SSW",
          "SW",
          "W",
          "WNW",
          "WSW"
         ],
         "type": "barpolar"
        },
        {
         "hovertemplate": "WS100BIN=9.0<br>FREQUENCY=%{r}<br>WD100CARD=%{theta}<extra></extra>",
         "legendgroup": "9.0",
         "marker": {
          "color": "#0d0887",
          "pattern": {
           "shape": ""
          }
         },
         "name": "9.0",
         "r": [
          0
         ],
         "showlegend": true,
         "subplot": "polar",
         "theta": [
          "N"
         ],
         "type": "barpolar"
        },
        {
         "hovertemplate": "WS100BIN=10.0<br>FREQUENCY=%{r}<br>WD100CARD=%{theta}<extra></extra>",
         "legendgroup": "10.0",
         "marker": {
          "color": "#f0f921",
          "pattern": {
           "shape": ""
          }
         },
         "name": "10.0",
         "r": [
          0,
          97,
          145,
          121,
          1678,
          259,
          971,
          1503,
          1291,
          246,
          113,
          309,
          557,
          1005,
          1463,
          1281,
          1552
         ],
         "showlegend": true,
         "subplot": "polar",
         "theta": [
          "N",
          "E",
          "ENE",
          "ESE",
          "N",
          "NE",
          "NNE",
          "NNW",
          "NW",
          "S",
          "SE",
          "SSE",
          "SSW",
          "SW",
          "W",
          "WNW",
          "WSW"
         ],
         "type": "barpolar"
        },
        {
         "hovertemplate": "WS100BIN=11.0<br>FREQUENCY=%{r}<br>WD100CARD=%{theta}<extra></extra>",
         "legendgroup": "11.0",
         "marker": {
          "color": "#fdca26",
          "pattern": {
           "shape": ""
          }
         },
         "name": "11.0",
         "r": [
          0
         ],
         "showlegend": true,
         "subplot": "polar",
         "theta": [
          "N"
         ],
         "type": "barpolar"
        },
        {
         "hovertemplate": "WS100BIN=12.0<br>FREQUENCY=%{r}<br>WD100CARD=%{theta}<extra></extra>",
         "legendgroup": "12.0",
         "marker": {
          "color": "#fb9f3a",
          "pattern": {
           "shape": ""
          }
         },
         "name": "12.0",
         "r": [
          0,
          3,
          9,
          5,
          495,
          43,
          187,
          539,
          500,
          40,
          15,
          78,
          124,
          339,
          727,
          621,
          941
         ],
         "showlegend": true,
         "subplot": "polar",
         "theta": [
          "N",
          "E",
          "ENE",
          "ESE",
          "N",
          "NE",
          "NNE",
          "NNW",
          "NW",
          "S",
          "SE",
          "SSE",
          "SSW",
          "SW",
          "W",
          "WNW",
          "WSW"
         ],
         "type": "barpolar"
        },
        {
         "hovertemplate": "WS100BIN=13.0<br>FREQUENCY=%{r}<br>WD100CARD=%{theta}<extra></extra>",
         "legendgroup": "13.0",
         "marker": {
          "color": "#ed7953",
          "pattern": {
           "shape": ""
          }
         },
         "name": "13.0",
         "r": [
          0
         ],
         "showlegend": true,
         "subplot": "polar",
         "theta": [
          "N"
         ],
         "type": "barpolar"
        },
        {
         "hovertemplate": "WS100BIN=14.0<br>FREQUENCY=%{r}<br>WD100CARD=%{theta}<extra></extra>",
         "legendgroup": "14.0",
         "marker": {
          "color": "#d8576b",
          "pattern": {
           "shape": ""
          }
         },
         "name": "14.0",
         "r": [
          0,
          0,
          0,
          0,
          131,
          9,
          41,
          105,
          162,
          4,
          10,
          5,
          40,
          49,
          283,
          296,
          288
         ],
         "showlegend": true,
         "subplot": "polar",
         "theta": [
          "N",
          "E",
          "ENE",
          "ESE",
          "N",
          "NE",
          "NNE",
          "NNW",
          "NW",
          "S",
          "SE",
          "SSE",
          "SSW",
          "SW",
          "W",
          "WNW",
          "WSW"
         ],
         "type": "barpolar"
        },
        {
         "hovertemplate": "WS100BIN=15.0<br>FREQUENCY=%{r}<br>WD100CARD=%{theta}<extra></extra>",
         "legendgroup": "15.0",
         "marker": {
          "color": "#bd3786",
          "pattern": {
           "shape": ""
          }
         },
         "name": "15.0",
         "r": [
          0
         ],
         "showlegend": true,
         "subplot": "polar",
         "theta": [
          "N"
         ],
         "type": "barpolar"
        },
        {
         "hovertemplate": "WS100BIN=16.0<br>FREQUENCY=%{r}<br>WD100CARD=%{theta}<extra></extra>",
         "legendgroup": "16.0",
         "marker": {
          "color": "#9c179e",
          "pattern": {
           "shape": ""
          }
         },
         "name": "16.0",
         "r": [
          0,
          0,
          0,
          0,
          10,
          0,
          0,
          43,
          40,
          0,
          0,
          0,
          2,
          4,
          121,
          74,
          98
         ],
         "showlegend": true,
         "subplot": "polar",
         "theta": [
          "N",
          "E",
          "ENE",
          "ESE",
          "N",
          "NE",
          "NNE",
          "NNW",
          "NW",
          "S",
          "SE",
          "SSE",
          "SSW",
          "SW",
          "W",
          "WNW",
          "WSW"
         ],
         "type": "barpolar"
        },
        {
         "hovertemplate": "WS100BIN=17.0<br>FREQUENCY=%{r}<br>WD100CARD=%{theta}<extra></extra>",
         "legendgroup": "17.0",
         "marker": {
          "color": "#7201a8",
          "pattern": {
           "shape": ""
          }
         },
         "name": "17.0",
         "r": [
          0
         ],
         "showlegend": true,
         "subplot": "polar",
         "theta": [
          "N"
         ],
         "type": "barpolar"
        },
        {
         "hovertemplate": "WS100BIN=18.0<br>FREQUENCY=%{r}<br>WD100CARD=%{theta}<extra></extra>",
         "legendgroup": "18.0",
         "marker": {
          "color": "#46039f",
          "pattern": {
           "shape": ""
          }
         },
         "name": "18.0",
         "r": [
          0,
          0,
          0,
          0,
          4,
          0,
          0,
          16,
          10,
          0,
          0,
          0,
          0,
          0,
          30,
          27,
          14
         ],
         "showlegend": true,
         "subplot": "polar",
         "theta": [
          "N",
          "E",
          "ENE",
          "ESE",
          "N",
          "NE",
          "NNE",
          "NNW",
          "NW",
          "S",
          "SE",
          "SSE",
          "SSW",
          "SW",
          "W",
          "WNW",
          "WSW"
         ],
         "type": "barpolar"
        },
        {
         "hovertemplate": "WS100BIN=19.0<br>FREQUENCY=%{r}<br>WD100CARD=%{theta}<extra></extra>",
         "legendgroup": "19.0",
         "marker": {
          "color": "#0d0887",
          "pattern": {
           "shape": ""
          }
         },
         "name": "19.0",
         "r": [
          0
         ],
         "showlegend": true,
         "subplot": "polar",
         "theta": [
          "N"
         ],
         "type": "barpolar"
        },
        {
         "hovertemplate": "WS100BIN=20.0<br>FREQUENCY=%{r}<br>WD100CARD=%{theta}<extra></extra>",
         "legendgroup": "20.0",
         "marker": {
          "color": "#f0f921",
          "pattern": {
           "shape": ""
          }
         },
         "name": "20.0",
         "r": [
          0,
          0,
          0,
          0,
          0,
          0,
          0,
          0,
          6,
          0,
          0,
          0,
          0,
          0,
          0,
          9,
          4
         ],
         "showlegend": true,
         "subplot": "polar",
         "theta": [
          "N",
          "E",
          "ENE",
          "ESE",
          "N",
          "NE",
          "NNE",
          "NNW",
          "NW",
          "S",
          "SE",
          "SSE",
          "SSW",
          "SW",
          "W",
          "WNW",
          "WSW"
         ],
         "type": "barpolar"
        },
        {
         "hovertemplate": "WS100BIN=21.0<br>FREQUENCY=%{r}<br>WD100CARD=%{theta}<extra></extra>",
         "legendgroup": "21.0",
         "marker": {
          "color": "#fdca26",
          "pattern": {
           "shape": ""
          }
         },
         "name": "21.0",
         "r": [
          0
         ],
         "showlegend": true,
         "subplot": "polar",
         "theta": [
          "N"
         ],
         "type": "barpolar"
        },
        {
         "hovertemplate": "WS100BIN=22.0<br>FREQUENCY=%{r}<br>WD100CARD=%{theta}<extra></extra>",
         "legendgroup": "22.0",
         "marker": {
          "color": "#fb9f3a",
          "pattern": {
           "shape": ""
          }
         },
         "name": "22.0",
         "r": [
          0,
          0,
          0,
          0,
          0,
          0,
          0,
          0,
          0,
          0,
          0,
          0,
          0,
          0,
          0,
          2,
          0
         ],
         "showlegend": true,
         "subplot": "polar",
         "theta": [
          "N",
          "E",
          "ENE",
          "ESE",
          "N",
          "NE",
          "NNE",
          "NNW",
          "NW",
          "S",
          "SE",
          "SSE",
          "SSW",
          "SW",
          "W",
          "WNW",
          "WSW"
         ],
         "type": "barpolar"
        },
        {
         "hovertemplate": "WS100BIN=23.0<br>FREQUENCY=%{r}<br>WD100CARD=%{theta}<extra></extra>",
         "legendgroup": "23.0",
         "marker": {
          "color": "#ed7953",
          "pattern": {
           "shape": ""
          }
         },
         "name": "23.0",
         "r": [
          0
         ],
         "showlegend": true,
         "subplot": "polar",
         "theta": [
          "N"
         ],
         "type": "barpolar"
        },
        {
         "hovertemplate": "WS100BIN=24.0<br>FREQUENCY=%{r}<br>WD100CARD=%{theta}<extra></extra>",
         "legendgroup": "24.0",
         "marker": {
          "color": "#d8576b",
          "pattern": {
           "shape": ""
          }
         },
         "name": "24.0",
         "r": [
          0
         ],
         "showlegend": true,
         "subplot": "polar",
         "theta": [
          "N"
         ],
         "type": "barpolar"
        },
        {
         "hovertemplate": "WS100BIN=25.0<br>FREQUENCY=%{r}<br>WD100CARD=%{theta}<extra></extra>",
         "legendgroup": "25.0",
         "marker": {
          "color": "#bd3786",
          "pattern": {
           "shape": ""
          }
         },
         "name": "25.0",
         "r": [
          0
         ],
         "showlegend": true,
         "subplot": "polar",
         "theta": [
          "N"
         ],
         "type": "barpolar"
        }
       ],
       "layout": {
        "barmode": "relative",
        "legend": {
         "title": {
          "text": "WS100BIN"
         },
         "tracegroupgap": 0
        },
        "margin": {
         "t": 60
        },
        "polar": {
         "angularaxis": {
          "direction": "clockwise",
          "rotation": 90
         },
         "domain": {
          "x": [
           0,
           1
          ],
          "y": [
           0,
           1
          ]
         }
        },
        "template": {
         "data": {
          "bar": [
           {
            "error_x": {
             "color": "#2a3f5f"
            },
            "error_y": {
             "color": "#2a3f5f"
            },
            "marker": {
             "line": {
              "color": "#E5ECF6",
              "width": 0.5
             },
             "pattern": {
              "fillmode": "overlay",
              "size": 10,
              "solidity": 0.2
             }
            },
            "type": "bar"
           }
          ],
          "barpolar": [
           {
            "marker": {
             "line": {
              "color": "#E5ECF6",
              "width": 0.5
             },
             "pattern": {
              "fillmode": "overlay",
              "size": 10,
              "solidity": 0.2
             }
            },
            "type": "barpolar"
           }
          ],
          "carpet": [
           {
            "aaxis": {
             "endlinecolor": "#2a3f5f",
             "gridcolor": "white",
             "linecolor": "white",
             "minorgridcolor": "white",
             "startlinecolor": "#2a3f5f"
            },
            "baxis": {
             "endlinecolor": "#2a3f5f",
             "gridcolor": "white",
             "linecolor": "white",
             "minorgridcolor": "white",
             "startlinecolor": "#2a3f5f"
            },
            "type": "carpet"
           }
          ],
          "choropleth": [
           {
            "colorbar": {
             "outlinewidth": 0,
             "ticks": ""
            },
            "type": "choropleth"
           }
          ],
          "contour": [
           {
            "colorbar": {
             "outlinewidth": 0,
             "ticks": ""
            },
            "colorscale": [
             [
              0,
              "#0d0887"
             ],
             [
              0.1111111111111111,
              "#46039f"
             ],
             [
              0.2222222222222222,
              "#7201a8"
             ],
             [
              0.3333333333333333,
              "#9c179e"
             ],
             [
              0.4444444444444444,
              "#bd3786"
             ],
             [
              0.5555555555555556,
              "#d8576b"
             ],
             [
              0.6666666666666666,
              "#ed7953"
             ],
             [
              0.7777777777777778,
              "#fb9f3a"
             ],
             [
              0.8888888888888888,
              "#fdca26"
             ],
             [
              1,
              "#f0f921"
             ]
            ],
            "type": "contour"
           }
          ],
          "contourcarpet": [
           {
            "colorbar": {
             "outlinewidth": 0,
             "ticks": ""
            },
            "type": "contourcarpet"
           }
          ],
          "heatmap": [
           {
            "colorbar": {
             "outlinewidth": 0,
             "ticks": ""
            },
            "colorscale": [
             [
              0,
              "#0d0887"
             ],
             [
              0.1111111111111111,
              "#46039f"
             ],
             [
              0.2222222222222222,
              "#7201a8"
             ],
             [
              0.3333333333333333,
              "#9c179e"
             ],
             [
              0.4444444444444444,
              "#bd3786"
             ],
             [
              0.5555555555555556,
              "#d8576b"
             ],
             [
              0.6666666666666666,
              "#ed7953"
             ],
             [
              0.7777777777777778,
              "#fb9f3a"
             ],
             [
              0.8888888888888888,
              "#fdca26"
             ],
             [
              1,
              "#f0f921"
             ]
            ],
            "type": "heatmap"
           }
          ],
          "heatmapgl": [
           {
            "colorbar": {
             "outlinewidth": 0,
             "ticks": ""
            },
            "colorscale": [
             [
              0,
              "#0d0887"
             ],
             [
              0.1111111111111111,
              "#46039f"
             ],
             [
              0.2222222222222222,
              "#7201a8"
             ],
             [
              0.3333333333333333,
              "#9c179e"
             ],
             [
              0.4444444444444444,
              "#bd3786"
             ],
             [
              0.5555555555555556,
              "#d8576b"
             ],
             [
              0.6666666666666666,
              "#ed7953"
             ],
             [
              0.7777777777777778,
              "#fb9f3a"
             ],
             [
              0.8888888888888888,
              "#fdca26"
             ],
             [
              1,
              "#f0f921"
             ]
            ],
            "type": "heatmapgl"
           }
          ],
          "histogram": [
           {
            "marker": {
             "pattern": {
              "fillmode": "overlay",
              "size": 10,
              "solidity": 0.2
             }
            },
            "type": "histogram"
           }
          ],
          "histogram2d": [
           {
            "colorbar": {
             "outlinewidth": 0,
             "ticks": ""
            },
            "colorscale": [
             [
              0,
              "#0d0887"
             ],
             [
              0.1111111111111111,
              "#46039f"
             ],
             [
              0.2222222222222222,
              "#7201a8"
             ],
             [
              0.3333333333333333,
              "#9c179e"
             ],
             [
              0.4444444444444444,
              "#bd3786"
             ],
             [
              0.5555555555555556,
              "#d8576b"
             ],
             [
              0.6666666666666666,
              "#ed7953"
             ],
             [
              0.7777777777777778,
              "#fb9f3a"
             ],
             [
              0.8888888888888888,
              "#fdca26"
             ],
             [
              1,
              "#f0f921"
             ]
            ],
            "type": "histogram2d"
           }
          ],
          "histogram2dcontour": [
           {
            "colorbar": {
             "outlinewidth": 0,
             "ticks": ""
            },
            "colorscale": [
             [
              0,
              "#0d0887"
             ],
             [
              0.1111111111111111,
              "#46039f"
             ],
             [
              0.2222222222222222,
              "#7201a8"
             ],
             [
              0.3333333333333333,
              "#9c179e"
             ],
             [
              0.4444444444444444,
              "#bd3786"
             ],
             [
              0.5555555555555556,
              "#d8576b"
             ],
             [
              0.6666666666666666,
              "#ed7953"
             ],
             [
              0.7777777777777778,
              "#fb9f3a"
             ],
             [
              0.8888888888888888,
              "#fdca26"
             ],
             [
              1,
              "#f0f921"
             ]
            ],
            "type": "histogram2dcontour"
           }
          ],
          "mesh3d": [
           {
            "colorbar": {
             "outlinewidth": 0,
             "ticks": ""
            },
            "type": "mesh3d"
           }
          ],
          "parcoords": [
           {
            "line": {
             "colorbar": {
              "outlinewidth": 0,
              "ticks": ""
             }
            },
            "type": "parcoords"
           }
          ],
          "pie": [
           {
            "automargin": true,
            "type": "pie"
           }
          ],
          "scatter": [
           {
            "marker": {
             "colorbar": {
              "outlinewidth": 0,
              "ticks": ""
             }
            },
            "type": "scatter"
           }
          ],
          "scatter3d": [
           {
            "line": {
             "colorbar": {
              "outlinewidth": 0,
              "ticks": ""
             }
            },
            "marker": {
             "colorbar": {
              "outlinewidth": 0,
              "ticks": ""
             }
            },
            "type": "scatter3d"
           }
          ],
          "scattercarpet": [
           {
            "marker": {
             "colorbar": {
              "outlinewidth": 0,
              "ticks": ""
             }
            },
            "type": "scattercarpet"
           }
          ],
          "scattergeo": [
           {
            "marker": {
             "colorbar": {
              "outlinewidth": 0,
              "ticks": ""
             }
            },
            "type": "scattergeo"
           }
          ],
          "scattergl": [
           {
            "marker": {
             "colorbar": {
              "outlinewidth": 0,
              "ticks": ""
             }
            },
            "type": "scattergl"
           }
          ],
          "scattermapbox": [
           {
            "marker": {
             "colorbar": {
              "outlinewidth": 0,
              "ticks": ""
             }
            },
            "type": "scattermapbox"
           }
          ],
          "scatterpolar": [
           {
            "marker": {
             "colorbar": {
              "outlinewidth": 0,
              "ticks": ""
             }
            },
            "type": "scatterpolar"
           }
          ],
          "scatterpolargl": [
           {
            "marker": {
             "colorbar": {
              "outlinewidth": 0,
              "ticks": ""
             }
            },
            "type": "scatterpolargl"
           }
          ],
          "scatterternary": [
           {
            "marker": {
             "colorbar": {
              "outlinewidth": 0,
              "ticks": ""
             }
            },
            "type": "scatterternary"
           }
          ],
          "surface": [
           {
            "colorbar": {
             "outlinewidth": 0,
             "ticks": ""
            },
            "colorscale": [
             [
              0,
              "#0d0887"
             ],
             [
              0.1111111111111111,
              "#46039f"
             ],
             [
              0.2222222222222222,
              "#7201a8"
             ],
             [
              0.3333333333333333,
              "#9c179e"
             ],
             [
              0.4444444444444444,
              "#bd3786"
             ],
             [
              0.5555555555555556,
              "#d8576b"
             ],
             [
              0.6666666666666666,
              "#ed7953"
             ],
             [
              0.7777777777777778,
              "#fb9f3a"
             ],
             [
              0.8888888888888888,
              "#fdca26"
             ],
             [
              1,
              "#f0f921"
             ]
            ],
            "type": "surface"
           }
          ],
          "table": [
           {
            "cells": {
             "fill": {
              "color": "#EBF0F8"
             },
             "line": {
              "color": "white"
             }
            },
            "header": {
             "fill": {
              "color": "#C8D4E3"
             },
             "line": {
              "color": "white"
             }
            },
            "type": "table"
           }
          ]
         },
         "layout": {
          "annotationdefaults": {
           "arrowcolor": "#2a3f5f",
           "arrowhead": 0,
           "arrowwidth": 1
          },
          "autotypenumbers": "strict",
          "coloraxis": {
           "colorbar": {
            "outlinewidth": 0,
            "ticks": ""
           }
          },
          "colorscale": {
           "diverging": [
            [
             0,
             "#8e0152"
            ],
            [
             0.1,
             "#c51b7d"
            ],
            [
             0.2,
             "#de77ae"
            ],
            [
             0.3,
             "#f1b6da"
            ],
            [
             0.4,
             "#fde0ef"
            ],
            [
             0.5,
             "#f7f7f7"
            ],
            [
             0.6,
             "#e6f5d0"
            ],
            [
             0.7,
             "#b8e186"
            ],
            [
             0.8,
             "#7fbc41"
            ],
            [
             0.9,
             "#4d9221"
            ],
            [
             1,
             "#276419"
            ]
           ],
           "sequential": [
            [
             0,
             "#0d0887"
            ],
            [
             0.1111111111111111,
             "#46039f"
            ],
            [
             0.2222222222222222,
             "#7201a8"
            ],
            [
             0.3333333333333333,
             "#9c179e"
            ],
            [
             0.4444444444444444,
             "#bd3786"
            ],
            [
             0.5555555555555556,
             "#d8576b"
            ],
            [
             0.6666666666666666,
             "#ed7953"
            ],
            [
             0.7777777777777778,
             "#fb9f3a"
            ],
            [
             0.8888888888888888,
             "#fdca26"
            ],
            [
             1,
             "#f0f921"
            ]
           ],
           "sequentialminus": [
            [
             0,
             "#0d0887"
            ],
            [
             0.1111111111111111,
             "#46039f"
            ],
            [
             0.2222222222222222,
             "#7201a8"
            ],
            [
             0.3333333333333333,
             "#9c179e"
            ],
            [
             0.4444444444444444,
             "#bd3786"
            ],
            [
             0.5555555555555556,
             "#d8576b"
            ],
            [
             0.6666666666666666,
             "#ed7953"
            ],
            [
             0.7777777777777778,
             "#fb9f3a"
            ],
            [
             0.8888888888888888,
             "#fdca26"
            ],
            [
             1,
             "#f0f921"
            ]
           ]
          },
          "colorway": [
           "#636efa",
           "#EF553B",
           "#00cc96",
           "#ab63fa",
           "#FFA15A",
           "#19d3f3",
           "#FF6692",
           "#B6E880",
           "#FF97FF",
           "#FECB52"
          ],
          "font": {
           "color": "#2a3f5f"
          },
          "geo": {
           "bgcolor": "white",
           "lakecolor": "white",
           "landcolor": "#E5ECF6",
           "showlakes": true,
           "showland": true,
           "subunitcolor": "white"
          },
          "hoverlabel": {
           "align": "left"
          },
          "hovermode": "closest",
          "mapbox": {
           "style": "light"
          },
          "paper_bgcolor": "white",
          "plot_bgcolor": "#E5ECF6",
          "polar": {
           "angularaxis": {
            "gridcolor": "white",
            "linecolor": "white",
            "ticks": ""
           },
           "bgcolor": "#E5ECF6",
           "radialaxis": {
            "gridcolor": "white",
            "linecolor": "white",
            "ticks": ""
           }
          },
          "scene": {
           "xaxis": {
            "backgroundcolor": "#E5ECF6",
            "gridcolor": "white",
            "gridwidth": 2,
            "linecolor": "white",
            "showbackground": true,
            "ticks": "",
            "zerolinecolor": "white"
           },
           "yaxis": {
            "backgroundcolor": "#E5ECF6",
            "gridcolor": "white",
            "gridwidth": 2,
            "linecolor": "white",
            "showbackground": true,
            "ticks": "",
            "zerolinecolor": "white"
           },
           "zaxis": {
            "backgroundcolor": "#E5ECF6",
            "gridcolor": "white",
            "gridwidth": 2,
            "linecolor": "white",
            "showbackground": true,
            "ticks": "",
            "zerolinecolor": "white"
           }
          },
          "shapedefaults": {
           "line": {
            "color": "#2a3f5f"
           }
          },
          "ternary": {
           "aaxis": {
            "gridcolor": "white",
            "linecolor": "white",
            "ticks": ""
           },
           "baxis": {
            "gridcolor": "white",
            "linecolor": "white",
            "ticks": ""
           },
           "bgcolor": "#E5ECF6",
           "caxis": {
            "gridcolor": "white",
            "linecolor": "white",
            "ticks": ""
           }
          },
          "title": {
           "x": 0.05
          },
          "xaxis": {
           "automargin": true,
           "gridcolor": "white",
           "linecolor": "white",
           "ticks": "",
           "title": {
            "standoff": 15
           },
           "zerolinecolor": "white",
           "zerolinewidth": 2
          },
          "yaxis": {
           "automargin": true,
           "gridcolor": "white",
           "linecolor": "white",
           "ticks": "",
           "title": {
            "standoff": 15
           },
           "zerolinecolor": "white",
           "zerolinewidth": 2
          }
         }
        }
       }
      }
     },
     "metadata": {},
     "output_type": "display_data"
    }
   ],
   "source": [
    "### TEST\n",
    "DATA_PATH = '../data/GEFCom2014Data/Wind/raw_data_incl_features.csv'\n",
    "data = pd.read_csv(DATA_PATH)\n",
    "plot_windrose(data)"
   ]
  }
 ],
 "metadata": {
  "interpreter": {
   "hash": "16a9e09184f7b13ede002064a82db186011a9731d28fc32ebad93a6f94154a2a"
  },
  "kernelspec": {
   "display_name": "Python 3.9.4 64-bit ('.venv': venv)",
   "language": "python",
   "name": "python3"
  },
  "language_info": {
   "codemirror_mode": {
    "name": "ipython",
    "version": 3
   },
   "file_extension": ".py",
   "mimetype": "text/x-python",
   "name": "python",
   "nbconvert_exporter": "python",
   "pygments_lexer": "ipython3",
   "version": "3.9.4"
  },
  "orig_nbformat": 4
 },
 "nbformat": 4,
 "nbformat_minor": 2
}
