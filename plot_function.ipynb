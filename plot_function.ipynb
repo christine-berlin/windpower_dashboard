{
 "cells": [
  {
   "cell_type": "code",
   "execution_count": 126,
   "metadata": {},
   "outputs": [],
   "source": [
    "import numpy as np\n",
    "import pandas as pd\n",
    "import plotly.express as px\n",
    "import plotly.graph_objects as go\n",
    "import plotly.express as px"
   ]
  },
  {
   "cell_type": "code",
   "execution_count": 127,
   "metadata": {},
   "outputs": [],
   "source": [
    "DATA_PATH = '../data/GEFCom2014Data/Wind/raw_data_incl_features.csv'\n",
    "\n",
    "#def update_data(day):\n",
    "## read data\n",
    "data = pd.read_csv('../data/GEFCom2014Data/Wind/raw_data_incl_features.csv', parse_dates=['TIMESTAMP']) #, index_col='TIMESTAMP')\n",
    "data.interpolate(method='bfill', inplace=True)\n",
    "# data.info()\n",
    "# data.head()\n"
   ]
  },
  {
   "cell_type": "code",
   "execution_count": 128,
   "metadata": {},
   "outputs": [],
   "source": [
    "day = '2013-07-15'\n",
    "\n",
    "data_forecast = pd.read_csv('RandomForest_Predictions.csv', parse_dates=['TIMESTAMP'])\n",
    "features_forecast = ['ZONEID', 'TIMESTAMP', 'HOUR', 'WEEKDAY', 'WS100', 'WD100']\n",
    "data_all = pd.read_csv('../data/GEFCom2014Data/Wind/raw_data_incl_features.csv', parse_dates=['TIMESTAMP'])\n",
    "\n",
    "## get the required data\n",
    "def get_data(day, \n",
    "             data,\n",
    "             features=None,\n",
    "             delta_days=None):\n",
    "    day +=' 1:00:00'\n",
    "    time_start = pd.to_datetime(day)\n",
    "    time_end = time_start + pd.Timedelta(value=23, unit='hour')\n",
    "    if delta_days is not None:\n",
    "        time_delta = pd.Timedelta(value=1, unit='day')\n",
    "        time_start += time_delta*delta_days\n",
    "        time_end += time_delta*delta_days\n",
    "    data = data[(data['TIMESTAMP']>=time_start) & (data['TIMESTAMP']<=time_end)]\n",
    "    if features is not None and len(features)>0:\n",
    "        if all(x in data.columns for x in features):\n",
    "            data = data[features]\n",
    "    return data"
   ]
  },
  {
   "cell_type": "code",
   "execution_count": 129,
   "metadata": {},
   "outputs": [],
   "source": [
    "def add_HOUR_column(df):\n",
    "    if 'HOUR' not in df.columns and 'TIMESTAMP' in df.columns:\n",
    "        df['HOUR'] = df['TIMESTAMP'].dt.hour\n",
    "    "
   ]
  },
  {
   "cell_type": "code",
   "execution_count": 177,
   "metadata": {},
   "outputs": [],
   "source": [
    "PATH_PREDICTIONS = 'RandomForest_Predictions.csv'\n",
    "PATH_DATA_ALL = 'raw_data_incl_features.csv'\n",
    "data_forecast = pd.read_csv(PATH_PREDICTIONS, parse_dates=['TIMESTAMP'])\n",
    "add_HOUR_column(data_forecast)\n",
    "data_retro = pd.read_csv(PATH_DATA_ALL, parse_dates=['TIMESTAMP'])\n",
    "add_HOUR_column(data_retro)\n",
    "#data_forecast.info()"
   ]
  },
  {
   "cell_type": "code",
   "execution_count": 192,
   "metadata": {},
   "outputs": [
    {
     "data": {
      "text/html": [
       "<div>\n",
       "<style scoped>\n",
       "    .dataframe tbody tr th:only-of-type {\n",
       "        vertical-align: middle;\n",
       "    }\n",
       "\n",
       "    .dataframe tbody tr th {\n",
       "        vertical-align: top;\n",
       "    }\n",
       "\n",
       "    .dataframe thead th {\n",
       "        text-align: right;\n",
       "    }\n",
       "</style>\n",
       "<table border=\"1\" class=\"dataframe\">\n",
       "  <thead>\n",
       "    <tr style=\"text-align: right;\">\n",
       "      <th></th>\n",
       "      <th>ZONEID</th>\n",
       "      <th>TARGETVAR</th>\n",
       "    </tr>\n",
       "  </thead>\n",
       "  <tbody>\n",
       "    <tr>\n",
       "      <th>0</th>\n",
       "      <td>Zone 1</td>\n",
       "      <td>0.075101</td>\n",
       "    </tr>\n",
       "    <tr>\n",
       "      <th>1</th>\n",
       "      <td>Zone 2</td>\n",
       "      <td>0.321632</td>\n",
       "    </tr>\n",
       "    <tr>\n",
       "      <th>2</th>\n",
       "      <td>Zone 3</td>\n",
       "      <td>0.396583</td>\n",
       "    </tr>\n",
       "    <tr>\n",
       "      <th>3</th>\n",
       "      <td>Zone 4</td>\n",
       "      <td>0.321204</td>\n",
       "    </tr>\n",
       "    <tr>\n",
       "      <th>4</th>\n",
       "      <td>Zone 5</td>\n",
       "      <td>0.473059</td>\n",
       "    </tr>\n",
       "    <tr>\n",
       "      <th>5</th>\n",
       "      <td>Zone 6</td>\n",
       "      <td>0.558990</td>\n",
       "    </tr>\n",
       "    <tr>\n",
       "      <th>6</th>\n",
       "      <td>Zone 7</td>\n",
       "      <td>0.089144</td>\n",
       "    </tr>\n",
       "    <tr>\n",
       "      <th>7</th>\n",
       "      <td>Zone 8</td>\n",
       "      <td>0.110136</td>\n",
       "    </tr>\n",
       "    <tr>\n",
       "      <th>8</th>\n",
       "      <td>Zone 9</td>\n",
       "      <td>0.267250</td>\n",
       "    </tr>\n",
       "    <tr>\n",
       "      <th>9</th>\n",
       "      <td>Zone 10</td>\n",
       "      <td>0.354470</td>\n",
       "    </tr>\n",
       "  </tbody>\n",
       "</table>\n",
       "</div>"
      ],
      "text/plain": [
       "    ZONEID  TARGETVAR\n",
       "0   Zone 1   0.075101\n",
       "1   Zone 2   0.321632\n",
       "2   Zone 3   0.396583\n",
       "3   Zone 4   0.321204\n",
       "4   Zone 5   0.473059\n",
       "5   Zone 6   0.558990\n",
       "6   Zone 7   0.089144\n",
       "7   Zone 8   0.110136\n",
       "8   Zone 9   0.267250\n",
       "9  Zone 10   0.354470"
      ]
     },
     "execution_count": 192,
     "metadata": {},
     "output_type": "execute_result"
    }
   ],
   "source": [
    "dff = get_data(day, data_forecast)\n",
    "dff_yesterday = get_data(day, data_retro, features=['ZONEID', 'TIMESTAMP', 'TARGETVAR'], delta_days=-1)\n",
    "dff_yesterday = dff_yesterday.groupby('ZONEID').mean().reset_index()\n",
    "dff_yesterday['ZONEID'] = ['Zone '+str(ii) for ii in range(1,11)]\n",
    "dff_yesterday"
   ]
  },
  {
   "cell_type": "code",
   "execution_count": 171,
   "metadata": {},
   "outputs": [],
   "source": [
    "colors = px.colors.qualitative.Plotly\n",
    "color_dict = {'Zone '+str(z): c for z,c in zip(range(1,11), colors)}\n",
    "from PIL import ImageColor\n",
    "color_dict_light = { k:ImageColor.getcolor(v, \"RGB\") for k,v in color_dict.items()}\n",
    "color_dict_light = { k:\"rgba({}, {}, {}, {})\".format(v[0], v[1], v[2], 0.4) for k,v in color_dict_light.items()}\n",
    "\n",
    "\n",
    "#color_dict_light"
   ]
  },
  {
   "cell_type": "code",
   "execution_count": 187,
   "metadata": {},
   "outputs": [
    {
     "data": {
      "text/html": [
       "<div>\n",
       "<style scoped>\n",
       "    .dataframe tbody tr th:only-of-type {\n",
       "        vertical-align: middle;\n",
       "    }\n",
       "\n",
       "    .dataframe tbody tr th {\n",
       "        vertical-align: top;\n",
       "    }\n",
       "\n",
       "    .dataframe thead th {\n",
       "        text-align: right;\n",
       "    }\n",
       "</style>\n",
       "<table border=\"1\" class=\"dataframe\">\n",
       "  <thead>\n",
       "    <tr style=\"text-align: right;\">\n",
       "      <th></th>\n",
       "      <th>0</th>\n",
       "    </tr>\n",
       "  </thead>\n",
       "  <tbody>\n",
       "    <tr>\n",
       "      <th>Zone 1</th>\n",
       "      <td>0.048209</td>\n",
       "    </tr>\n",
       "    <tr>\n",
       "      <th>Zone 2</th>\n",
       "      <td>0.088525</td>\n",
       "    </tr>\n",
       "    <tr>\n",
       "      <th>Zone 3</th>\n",
       "      <td>0.030019</td>\n",
       "    </tr>\n",
       "    <tr>\n",
       "      <th>Zone 4</th>\n",
       "      <td>0.062117</td>\n",
       "    </tr>\n",
       "    <tr>\n",
       "      <th>Zone 5</th>\n",
       "      <td>0.096730</td>\n",
       "    </tr>\n",
       "    <tr>\n",
       "      <th>Zone 6</th>\n",
       "      <td>0.097216</td>\n",
       "    </tr>\n",
       "    <tr>\n",
       "      <th>Zone 7</th>\n",
       "      <td>0.023915</td>\n",
       "    </tr>\n",
       "    <tr>\n",
       "      <th>Zone 8</th>\n",
       "      <td>0.025530</td>\n",
       "    </tr>\n",
       "    <tr>\n",
       "      <th>Zone 9</th>\n",
       "      <td>0.019897</td>\n",
       "    </tr>\n",
       "    <tr>\n",
       "      <th>Zone 10</th>\n",
       "      <td>0.113885</td>\n",
       "    </tr>\n",
       "  </tbody>\n",
       "</table>\n",
       "</div>"
      ],
      "text/plain": [
       "                0\n",
       "Zone 1   0.048209\n",
       "Zone 2   0.088525\n",
       "Zone 3   0.030019\n",
       "Zone 4   0.062117\n",
       "Zone 5   0.096730\n",
       "Zone 6   0.097216\n",
       "Zone 7   0.023915\n",
       "Zone 8   0.025530\n",
       "Zone 9   0.019897\n",
       "Zone 10  0.113885"
      ]
     },
     "execution_count": 187,
     "metadata": {},
     "output_type": "execute_result"
    }
   ],
   "source": [
    "selected_zone = ['Zone '+str(ii) for ii in range(1,11)]\n",
    "df_forecast = dff\n",
    "\n",
    "\n",
    "selected_zone = sorted(selected_zone, key=lambda x : x[-2:])\n",
    "df_forecast = df_forecast[selected_zone]\n",
    "df = pd.DataFrame(df_forecast.mean())\n",
    "df"
   ]
  },
  {
   "cell_type": "code",
   "execution_count": 200,
   "metadata": {},
   "outputs": [
    {
     "data": {
      "text/html": [
       "<div>\n",
       "<style scoped>\n",
       "    .dataframe tbody tr th:only-of-type {\n",
       "        vertical-align: middle;\n",
       "    }\n",
       "\n",
       "    .dataframe tbody tr th {\n",
       "        vertical-align: top;\n",
       "    }\n",
       "\n",
       "    .dataframe thead th {\n",
       "        text-align: right;\n",
       "    }\n",
       "</style>\n",
       "<table border=\"1\" class=\"dataframe\">\n",
       "  <thead>\n",
       "    <tr style=\"text-align: right;\">\n",
       "      <th></th>\n",
       "      <th>TARGETVAR</th>\n",
       "    </tr>\n",
       "  </thead>\n",
       "  <tbody>\n",
       "    <tr>\n",
       "      <th>Zone 1</th>\n",
       "      <td>0.075101</td>\n",
       "    </tr>\n",
       "    <tr>\n",
       "      <th>Zone 2</th>\n",
       "      <td>0.321632</td>\n",
       "    </tr>\n",
       "    <tr>\n",
       "      <th>Zone 3</th>\n",
       "      <td>0.396583</td>\n",
       "    </tr>\n",
       "    <tr>\n",
       "      <th>Zone 4</th>\n",
       "      <td>0.321204</td>\n",
       "    </tr>\n",
       "    <tr>\n",
       "      <th>Zone 5</th>\n",
       "      <td>0.473059</td>\n",
       "    </tr>\n",
       "    <tr>\n",
       "      <th>Zone 6</th>\n",
       "      <td>0.558990</td>\n",
       "    </tr>\n",
       "    <tr>\n",
       "      <th>Zone 7</th>\n",
       "      <td>0.089144</td>\n",
       "    </tr>\n",
       "    <tr>\n",
       "      <th>Zone 8</th>\n",
       "      <td>0.110136</td>\n",
       "    </tr>\n",
       "    <tr>\n",
       "      <th>Zone 9</th>\n",
       "      <td>0.267250</td>\n",
       "    </tr>\n",
       "    <tr>\n",
       "      <th>Zone 10</th>\n",
       "      <td>0.354470</td>\n",
       "    </tr>\n",
       "  </tbody>\n",
       "</table>\n",
       "</div>"
      ],
      "text/plain": [
       "         TARGETVAR\n",
       "Zone 1    0.075101\n",
       "Zone 2    0.321632\n",
       "Zone 3    0.396583\n",
       "Zone 4    0.321204\n",
       "Zone 5    0.473059\n",
       "Zone 6    0.558990\n",
       "Zone 7    0.089144\n",
       "Zone 8    0.110136\n",
       "Zone 9    0.267250\n",
       "Zone 10   0.354470"
      ]
     },
     "execution_count": 200,
     "metadata": {},
     "output_type": "execute_result"
    }
   ],
   "source": [
    "dff = get_data(day, data_forecast)\n",
    "dff_yesterday = get_data(day, data_retro, features=['ZONEID', 'TIMESTAMP', 'TARGETVAR'], delta_days=-1)\n",
    "dff_yesterday = dff_yesterday.groupby('ZONEID').mean()\n",
    "dff_yesterday.index = ['Zone '+str(ii) for ii in range(1,11)]\n",
    "dff_yesterday"
   ]
  },
  {
   "cell_type": "code",
   "execution_count": 356,
   "metadata": {},
   "outputs": [],
   "source": [
    "def get_figure_cumulated_energy(df_forecast, df_yesterday, selected_zone):\n",
    "    selected_zone = sorted(selected_zone, key=lambda x : x[-2:])\n",
    "    # forecast data\n",
    "    df_forecast = pd.DataFrame(df_forecast[selected_zone].mean())\n",
    "    df_forecast.columns = ['TARGETVAR']\n",
    "    # yesterday's data\n",
    "    df_yesterday = df_yesterday.groupby('ZONEID').mean()\n",
    "    \n",
    "    bars = []\n",
    "    for zone in selected_zone[0:]:\n",
    "        bars.append( \n",
    "            go.Bar( \n",
    "                x=[zone, zone+' yesterday'], \n",
    "                y=[df_forecast.loc[zone]['TARGETVAR'], df_yesterday.loc[zone]['TARGETVAR']],\n",
    "                marker={'color': [color_dict[zone], color_dict_light[zone]]}\n",
    "            )\n",
    "        )\n",
    "    fig = go.Figure(data=bars)\n",
    "    fig.update_yaxes(range = [0,1])\n",
    "    fig.layout.template = 'plotly_white'\n",
    "    fig.update_layout( \n",
    "            title='Forecasted Energy Output over the whole day')\n",
    "    fig.layout.showlegend = False\n",
    "    print(range(0,2*len(selected_zone)))\n",
    "    fig.update_layout(\n",
    "        xaxis = dict(\n",
    "        tickmode = 'array',\n",
    "        tickvals = list(range(0,2*len(selected_zone))),\n",
    "        ticktext = [selected_zone[ii//2] if ii%2==0 else '' for ii in range(0,2*len(selected_zone))]\n",
    "        )\n",
    "    )\n",
    "    return fig"
   ]
  },
  {
   "cell_type": "code",
   "execution_count": 360,
   "metadata": {},
   "outputs": [
    {
     "name": "stdout",
     "output_type": "stream",
     "text": [
      "range(0, 20)\n"
     ]
    },
    {
     "data": {
      "application/vnd.plotly.v1+json": {
       "config": {
        "plotlyServerURL": "https://plot.ly"
       },
       "data": [
        {
         "marker": {
          "color": [
           "#636EFA",
           "rgba(99, 110, 250, 0.4)"
          ]
         },
         "type": "bar",
         "x": [
          "Zone 1",
          "Zone 1 yesterday"
         ],
         "y": [
          0.048209369467127096,
          0.07510124304983448
         ]
        },
        {
         "marker": {
          "color": [
           "#EF553B",
           "rgba(239, 85, 59, 0.4)"
          ]
         },
         "type": "bar",
         "x": [
          "Zone 2",
          "Zone 2 yesterday"
         ],
         "y": [
          0.08852500194070219,
          0.3216320675265588
         ]
        },
        {
         "marker": {
          "color": [
           "#00CC96",
           "rgba(0, 204, 150, 0.4)"
          ]
         },
         "type": "bar",
         "x": [
          "Zone 3",
          "Zone 3 yesterday"
         ],
         "y": [
          0.03001903566460226,
          0.3965834228362371
         ]
        },
        {
         "marker": {
          "color": [
           "#AB63FA",
           "rgba(171, 99, 250, 0.4)"
          ]
         },
         "type": "bar",
         "x": [
          "Zone 4",
          "Zone 4 yesterday"
         ],
         "y": [
          0.06211706683414495,
          0.3212035286704473
         ]
        },
        {
         "marker": {
          "color": [
           "#FFA15A",
           "rgba(255, 161, 90, 0.4)"
          ]
         },
         "type": "bar",
         "x": [
          "Zone 5",
          "Zone 5 yesterday"
         ],
         "y": [
          0.09672971388525416,
          0.4730591699315864
         ]
        },
        {
         "marker": {
          "color": [
           "#19D3F3",
           "rgba(25, 211, 243, 0.4)"
          ]
         },
         "type": "bar",
         "x": [
          "Zone 6",
          "Zone 6 yesterday"
         ],
         "y": [
          0.09721562005122837,
          0.558990479116689
         ]
        },
        {
         "marker": {
          "color": [
           "#FF6692",
           "rgba(255, 102, 146, 0.4)"
          ]
         },
         "type": "bar",
         "x": [
          "Zone 7",
          "Zone 7 yesterday"
         ],
         "y": [
          0.023914837827451057,
          0.08914407421823144
         ]
        },
        {
         "marker": {
          "color": [
           "#B6E880",
           "rgba(182, 232, 128, 0.4)"
          ]
         },
         "type": "bar",
         "x": [
          "Zone 8",
          "Zone 8 yesterday"
         ],
         "y": [
          0.025530007977354524,
          0.11013607024457998
         ]
        },
        {
         "marker": {
          "color": [
           "#FF97FF",
           "rgba(255, 151, 255, 0.4)"
          ]
         },
         "type": "bar",
         "x": [
          "Zone 9",
          "Zone 9 yesterday"
         ],
         "y": [
          0.0198969021604736,
          0.26725029073523704
         ]
        },
        {
         "marker": {
          "color": [
           "#FECB52",
           "rgba(254, 203, 82, 0.4)"
          ]
         },
         "type": "bar",
         "x": [
          "Zone 10",
          "Zone 10 yesterday"
         ],
         "y": [
          0.11388537101856333,
          0.35447010779131416
         ]
        }
       ],
       "layout": {
        "showlegend": false,
        "template": {
         "data": {
          "bar": [
           {
            "error_x": {
             "color": "#2a3f5f"
            },
            "error_y": {
             "color": "#2a3f5f"
            },
            "marker": {
             "line": {
              "color": "white",
              "width": 0.5
             },
             "pattern": {
              "fillmode": "overlay",
              "size": 10,
              "solidity": 0.2
             }
            },
            "type": "bar"
           }
          ],
          "barpolar": [
           {
            "marker": {
             "line": {
              "color": "white",
              "width": 0.5
             },
             "pattern": {
              "fillmode": "overlay",
              "size": 10,
              "solidity": 0.2
             }
            },
            "type": "barpolar"
           }
          ],
          "carpet": [
           {
            "aaxis": {
             "endlinecolor": "#2a3f5f",
             "gridcolor": "#C8D4E3",
             "linecolor": "#C8D4E3",
             "minorgridcolor": "#C8D4E3",
             "startlinecolor": "#2a3f5f"
            },
            "baxis": {
             "endlinecolor": "#2a3f5f",
             "gridcolor": "#C8D4E3",
             "linecolor": "#C8D4E3",
             "minorgridcolor": "#C8D4E3",
             "startlinecolor": "#2a3f5f"
            },
            "type": "carpet"
           }
          ],
          "choropleth": [
           {
            "colorbar": {
             "outlinewidth": 0,
             "ticks": ""
            },
            "type": "choropleth"
           }
          ],
          "contour": [
           {
            "colorbar": {
             "outlinewidth": 0,
             "ticks": ""
            },
            "colorscale": [
             [
              0,
              "#0d0887"
             ],
             [
              0.1111111111111111,
              "#46039f"
             ],
             [
              0.2222222222222222,
              "#7201a8"
             ],
             [
              0.3333333333333333,
              "#9c179e"
             ],
             [
              0.4444444444444444,
              "#bd3786"
             ],
             [
              0.5555555555555556,
              "#d8576b"
             ],
             [
              0.6666666666666666,
              "#ed7953"
             ],
             [
              0.7777777777777778,
              "#fb9f3a"
             ],
             [
              0.8888888888888888,
              "#fdca26"
             ],
             [
              1,
              "#f0f921"
             ]
            ],
            "type": "contour"
           }
          ],
          "contourcarpet": [
           {
            "colorbar": {
             "outlinewidth": 0,
             "ticks": ""
            },
            "type": "contourcarpet"
           }
          ],
          "heatmap": [
           {
            "colorbar": {
             "outlinewidth": 0,
             "ticks": ""
            },
            "colorscale": [
             [
              0,
              "#0d0887"
             ],
             [
              0.1111111111111111,
              "#46039f"
             ],
             [
              0.2222222222222222,
              "#7201a8"
             ],
             [
              0.3333333333333333,
              "#9c179e"
             ],
             [
              0.4444444444444444,
              "#bd3786"
             ],
             [
              0.5555555555555556,
              "#d8576b"
             ],
             [
              0.6666666666666666,
              "#ed7953"
             ],
             [
              0.7777777777777778,
              "#fb9f3a"
             ],
             [
              0.8888888888888888,
              "#fdca26"
             ],
             [
              1,
              "#f0f921"
             ]
            ],
            "type": "heatmap"
           }
          ],
          "heatmapgl": [
           {
            "colorbar": {
             "outlinewidth": 0,
             "ticks": ""
            },
            "colorscale": [
             [
              0,
              "#0d0887"
             ],
             [
              0.1111111111111111,
              "#46039f"
             ],
             [
              0.2222222222222222,
              "#7201a8"
             ],
             [
              0.3333333333333333,
              "#9c179e"
             ],
             [
              0.4444444444444444,
              "#bd3786"
             ],
             [
              0.5555555555555556,
              "#d8576b"
             ],
             [
              0.6666666666666666,
              "#ed7953"
             ],
             [
              0.7777777777777778,
              "#fb9f3a"
             ],
             [
              0.8888888888888888,
              "#fdca26"
             ],
             [
              1,
              "#f0f921"
             ]
            ],
            "type": "heatmapgl"
           }
          ],
          "histogram": [
           {
            "marker": {
             "pattern": {
              "fillmode": "overlay",
              "size": 10,
              "solidity": 0.2
             }
            },
            "type": "histogram"
           }
          ],
          "histogram2d": [
           {
            "colorbar": {
             "outlinewidth": 0,
             "ticks": ""
            },
            "colorscale": [
             [
              0,
              "#0d0887"
             ],
             [
              0.1111111111111111,
              "#46039f"
             ],
             [
              0.2222222222222222,
              "#7201a8"
             ],
             [
              0.3333333333333333,
              "#9c179e"
             ],
             [
              0.4444444444444444,
              "#bd3786"
             ],
             [
              0.5555555555555556,
              "#d8576b"
             ],
             [
              0.6666666666666666,
              "#ed7953"
             ],
             [
              0.7777777777777778,
              "#fb9f3a"
             ],
             [
              0.8888888888888888,
              "#fdca26"
             ],
             [
              1,
              "#f0f921"
             ]
            ],
            "type": "histogram2d"
           }
          ],
          "histogram2dcontour": [
           {
            "colorbar": {
             "outlinewidth": 0,
             "ticks": ""
            },
            "colorscale": [
             [
              0,
              "#0d0887"
             ],
             [
              0.1111111111111111,
              "#46039f"
             ],
             [
              0.2222222222222222,
              "#7201a8"
             ],
             [
              0.3333333333333333,
              "#9c179e"
             ],
             [
              0.4444444444444444,
              "#bd3786"
             ],
             [
              0.5555555555555556,
              "#d8576b"
             ],
             [
              0.6666666666666666,
              "#ed7953"
             ],
             [
              0.7777777777777778,
              "#fb9f3a"
             ],
             [
              0.8888888888888888,
              "#fdca26"
             ],
             [
              1,
              "#f0f921"
             ]
            ],
            "type": "histogram2dcontour"
           }
          ],
          "mesh3d": [
           {
            "colorbar": {
             "outlinewidth": 0,
             "ticks": ""
            },
            "type": "mesh3d"
           }
          ],
          "parcoords": [
           {
            "line": {
             "colorbar": {
              "outlinewidth": 0,
              "ticks": ""
             }
            },
            "type": "parcoords"
           }
          ],
          "pie": [
           {
            "automargin": true,
            "type": "pie"
           }
          ],
          "scatter": [
           {
            "marker": {
             "colorbar": {
              "outlinewidth": 0,
              "ticks": ""
             }
            },
            "type": "scatter"
           }
          ],
          "scatter3d": [
           {
            "line": {
             "colorbar": {
              "outlinewidth": 0,
              "ticks": ""
             }
            },
            "marker": {
             "colorbar": {
              "outlinewidth": 0,
              "ticks": ""
             }
            },
            "type": "scatter3d"
           }
          ],
          "scattercarpet": [
           {
            "marker": {
             "colorbar": {
              "outlinewidth": 0,
              "ticks": ""
             }
            },
            "type": "scattercarpet"
           }
          ],
          "scattergeo": [
           {
            "marker": {
             "colorbar": {
              "outlinewidth": 0,
              "ticks": ""
             }
            },
            "type": "scattergeo"
           }
          ],
          "scattergl": [
           {
            "marker": {
             "colorbar": {
              "outlinewidth": 0,
              "ticks": ""
             }
            },
            "type": "scattergl"
           }
          ],
          "scattermapbox": [
           {
            "marker": {
             "colorbar": {
              "outlinewidth": 0,
              "ticks": ""
             }
            },
            "type": "scattermapbox"
           }
          ],
          "scatterpolar": [
           {
            "marker": {
             "colorbar": {
              "outlinewidth": 0,
              "ticks": ""
             }
            },
            "type": "scatterpolar"
           }
          ],
          "scatterpolargl": [
           {
            "marker": {
             "colorbar": {
              "outlinewidth": 0,
              "ticks": ""
             }
            },
            "type": "scatterpolargl"
           }
          ],
          "scatterternary": [
           {
            "marker": {
             "colorbar": {
              "outlinewidth": 0,
              "ticks": ""
             }
            },
            "type": "scatterternary"
           }
          ],
          "surface": [
           {
            "colorbar": {
             "outlinewidth": 0,
             "ticks": ""
            },
            "colorscale": [
             [
              0,
              "#0d0887"
             ],
             [
              0.1111111111111111,
              "#46039f"
             ],
             [
              0.2222222222222222,
              "#7201a8"
             ],
             [
              0.3333333333333333,
              "#9c179e"
             ],
             [
              0.4444444444444444,
              "#bd3786"
             ],
             [
              0.5555555555555556,
              "#d8576b"
             ],
             [
              0.6666666666666666,
              "#ed7953"
             ],
             [
              0.7777777777777778,
              "#fb9f3a"
             ],
             [
              0.8888888888888888,
              "#fdca26"
             ],
             [
              1,
              "#f0f921"
             ]
            ],
            "type": "surface"
           }
          ],
          "table": [
           {
            "cells": {
             "fill": {
              "color": "#EBF0F8"
             },
             "line": {
              "color": "white"
             }
            },
            "header": {
             "fill": {
              "color": "#C8D4E3"
             },
             "line": {
              "color": "white"
             }
            },
            "type": "table"
           }
          ]
         },
         "layout": {
          "annotationdefaults": {
           "arrowcolor": "#2a3f5f",
           "arrowhead": 0,
           "arrowwidth": 1
          },
          "autotypenumbers": "strict",
          "coloraxis": {
           "colorbar": {
            "outlinewidth": 0,
            "ticks": ""
           }
          },
          "colorscale": {
           "diverging": [
            [
             0,
             "#8e0152"
            ],
            [
             0.1,
             "#c51b7d"
            ],
            [
             0.2,
             "#de77ae"
            ],
            [
             0.3,
             "#f1b6da"
            ],
            [
             0.4,
             "#fde0ef"
            ],
            [
             0.5,
             "#f7f7f7"
            ],
            [
             0.6,
             "#e6f5d0"
            ],
            [
             0.7,
             "#b8e186"
            ],
            [
             0.8,
             "#7fbc41"
            ],
            [
             0.9,
             "#4d9221"
            ],
            [
             1,
             "#276419"
            ]
           ],
           "sequential": [
            [
             0,
             "#0d0887"
            ],
            [
             0.1111111111111111,
             "#46039f"
            ],
            [
             0.2222222222222222,
             "#7201a8"
            ],
            [
             0.3333333333333333,
             "#9c179e"
            ],
            [
             0.4444444444444444,
             "#bd3786"
            ],
            [
             0.5555555555555556,
             "#d8576b"
            ],
            [
             0.6666666666666666,
             "#ed7953"
            ],
            [
             0.7777777777777778,
             "#fb9f3a"
            ],
            [
             0.8888888888888888,
             "#fdca26"
            ],
            [
             1,
             "#f0f921"
            ]
           ],
           "sequentialminus": [
            [
             0,
             "#0d0887"
            ],
            [
             0.1111111111111111,
             "#46039f"
            ],
            [
             0.2222222222222222,
             "#7201a8"
            ],
            [
             0.3333333333333333,
             "#9c179e"
            ],
            [
             0.4444444444444444,
             "#bd3786"
            ],
            [
             0.5555555555555556,
             "#d8576b"
            ],
            [
             0.6666666666666666,
             "#ed7953"
            ],
            [
             0.7777777777777778,
             "#fb9f3a"
            ],
            [
             0.8888888888888888,
             "#fdca26"
            ],
            [
             1,
             "#f0f921"
            ]
           ]
          },
          "colorway": [
           "#636efa",
           "#EF553B",
           "#00cc96",
           "#ab63fa",
           "#FFA15A",
           "#19d3f3",
           "#FF6692",
           "#B6E880",
           "#FF97FF",
           "#FECB52"
          ],
          "font": {
           "color": "#2a3f5f"
          },
          "geo": {
           "bgcolor": "white",
           "lakecolor": "white",
           "landcolor": "white",
           "showlakes": true,
           "showland": true,
           "subunitcolor": "#C8D4E3"
          },
          "hoverlabel": {
           "align": "left"
          },
          "hovermode": "closest",
          "mapbox": {
           "style": "light"
          },
          "paper_bgcolor": "white",
          "plot_bgcolor": "white",
          "polar": {
           "angularaxis": {
            "gridcolor": "#EBF0F8",
            "linecolor": "#EBF0F8",
            "ticks": ""
           },
           "bgcolor": "white",
           "radialaxis": {
            "gridcolor": "#EBF0F8",
            "linecolor": "#EBF0F8",
            "ticks": ""
           }
          },
          "scene": {
           "xaxis": {
            "backgroundcolor": "white",
            "gridcolor": "#DFE8F3",
            "gridwidth": 2,
            "linecolor": "#EBF0F8",
            "showbackground": true,
            "ticks": "",
            "zerolinecolor": "#EBF0F8"
           },
           "yaxis": {
            "backgroundcolor": "white",
            "gridcolor": "#DFE8F3",
            "gridwidth": 2,
            "linecolor": "#EBF0F8",
            "showbackground": true,
            "ticks": "",
            "zerolinecolor": "#EBF0F8"
           },
           "zaxis": {
            "backgroundcolor": "white",
            "gridcolor": "#DFE8F3",
            "gridwidth": 2,
            "linecolor": "#EBF0F8",
            "showbackground": true,
            "ticks": "",
            "zerolinecolor": "#EBF0F8"
           }
          },
          "shapedefaults": {
           "line": {
            "color": "#2a3f5f"
           }
          },
          "ternary": {
           "aaxis": {
            "gridcolor": "#DFE8F3",
            "linecolor": "#A2B1C6",
            "ticks": ""
           },
           "baxis": {
            "gridcolor": "#DFE8F3",
            "linecolor": "#A2B1C6",
            "ticks": ""
           },
           "bgcolor": "white",
           "caxis": {
            "gridcolor": "#DFE8F3",
            "linecolor": "#A2B1C6",
            "ticks": ""
           }
          },
          "title": {
           "x": 0.05
          },
          "xaxis": {
           "automargin": true,
           "gridcolor": "#EBF0F8",
           "linecolor": "#EBF0F8",
           "ticks": "",
           "title": {
            "standoff": 15
           },
           "zerolinecolor": "#EBF0F8",
           "zerolinewidth": 2
          },
          "yaxis": {
           "automargin": true,
           "gridcolor": "#EBF0F8",
           "linecolor": "#EBF0F8",
           "ticks": "",
           "title": {
            "standoff": 15
           },
           "zerolinecolor": "#EBF0F8",
           "zerolinewidth": 2
          }
         }
        },
        "title": {
         "text": "Forecasted Energy Output over the whole day"
        },
        "xaxis": {
         "tickmode": "array",
         "ticktext": [
          "Zone 1",
          "",
          "Zone 2",
          "",
          "Zone 3",
          "",
          "Zone 4",
          "",
          "Zone 5",
          "",
          "Zone 6",
          "",
          "Zone 7",
          "",
          "Zone 8",
          "",
          "Zone 9",
          "",
          "Zone 10",
          ""
         ],
         "tickvals": [
          0,
          1,
          2,
          3,
          4,
          5,
          6,
          7,
          8,
          9,
          10,
          11,
          12,
          13,
          14,
          15,
          16,
          17,
          18,
          19
         ]
        },
        "yaxis": {
         "range": [
          0,
          1
         ]
        }
       }
      }
     },
     "metadata": {},
     "output_type": "display_data"
    }
   ],
   "source": [
    "selected_zone = ['Zone '+str(ii) for ii in range(1,11)]\n",
    "df_forecast = dff\n",
    "\n",
    "dff = get_data(day, data_forecast)\n",
    "df_yesterday = get_data(day, data_retro, features=['ZONEID', 'TIMESTAMP', 'TARGETVAR'], delta_days=-1)\n",
    "df_yesterday['ZONEID'] = df_yesterday['ZONEID'].apply(lambda x: 'Zone '+str(x))\n",
    "\n",
    "selected_zone = sorted(selected_zone, key=lambda x : x[-2:])\n",
    "fig = get_figure_cumulated_energy(df_forecast, df_yesterday, selected_zone);\n",
    "fig.show()"
   ]
  },
  {
   "cell_type": "code",
   "execution_count": 361,
   "metadata": {},
   "outputs": [],
   "source": [
    "data = pd.read_csv('../data/GEFCom2014Data/Wind/raw_data_incl_features.csv', parse_dates=['TIMESTAMP']) #, index_col='TIMESTAMP')\n",
    "data.interpolate(method='bfill', inplace=True)"
   ]
  },
  {
   "cell_type": "code",
   "execution_count": 366,
   "metadata": {},
   "outputs": [
    {
     "name": "stdout",
     "output_type": "stream",
     "text": [
      "<class 'pandas.core.frame.DataFrame'>\n",
      "Int64Index: 44400 entries, 13104 to 175439\n",
      "Data columns (total 19 columns):\n",
      " #   Column      Non-Null Count  Dtype         \n",
      "---  ------      --------------  -----         \n",
      " 0   ZONEID      44400 non-null  int64         \n",
      " 1   TIMESTAMP   44400 non-null  datetime64[ns]\n",
      " 2   TARGETVAR   44394 non-null  float64       \n",
      " 3   U10         44400 non-null  float64       \n",
      " 4   V10         44400 non-null  float64       \n",
      " 5   U100        44400 non-null  float64       \n",
      " 6   V100        44400 non-null  float64       \n",
      " 7   HOUR        44400 non-null  int64         \n",
      " 8   MONTH       44400 non-null  int64         \n",
      " 9   WEEKDAY     44400 non-null  int64         \n",
      " 10  IS_HOLIDAY  44400 non-null  int64         \n",
      " 11  WS10        44400 non-null  float64       \n",
      " 12  WS100       44400 non-null  float64       \n",
      " 13  WD10        44400 non-null  float64       \n",
      " 14  WD100       44400 non-null  float64       \n",
      " 15  WD100CARD   44400 non-null  object        \n",
      " 16  WD10CARD    44400 non-null  object        \n",
      " 17  U100NORM    44400 non-null  float64       \n",
      " 18  V100NORM    44400 non-null  float64       \n",
      "dtypes: datetime64[ns](1), float64(11), int64(5), object(2)\n",
      "memory usage: 6.8+ MB\n"
     ]
    }
   ],
   "source": [
    "day = '2013-06-30'\n",
    "day +=' 1:00:00'\n",
    "time_start = pd.to_datetime(day)\n",
    "time_end = time_start + pd.Timedelta(value=23, unit='hour')\n",
    "data = data[(data['TIMESTAMP']>=time_start)]\n",
    "data.info()"
   ]
  },
  {
   "cell_type": "code",
   "execution_count": 367,
   "metadata": {},
   "outputs": [],
   "source": [
    "data.to_csv('raw_data_incl_features_test.csv', index=False)"
   ]
  },
  {
   "cell_type": "code",
   "execution_count": null,
   "metadata": {},
   "outputs": [],
   "source": []
  }
 ],
 "metadata": {
  "interpreter": {
   "hash": "6bf04853d3fd90e38dceeec9809cf8d05177fbec35bd657075794b65848902e2"
  },
  "kernelspec": {
   "display_name": "Python 3.9.4 64-bit ('.venv': venv)",
   "name": "python3"
  },
  "language_info": {
   "codemirror_mode": {
    "name": "ipython",
    "version": 3
   },
   "file_extension": ".py",
   "mimetype": "text/x-python",
   "name": "python",
   "nbconvert_exporter": "python",
   "pygments_lexer": "ipython3",
   "version": "3.9.4"
  },
  "orig_nbformat": 4
 },
 "nbformat": 4,
 "nbformat_minor": 2
}
