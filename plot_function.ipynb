{
 "cells": [
  {
   "cell_type": "code",
   "execution_count": 1,
   "source": [
    "import numpy as np\n",
    "import pandas as pd\n",
    "import plotly.express as px\n",
    "import plotly.graph_objects as go\n",
    "import plotly.express as px"
   ],
   "outputs": [
    {
     "output_type": "stream",
     "name": "stderr",
     "text": [
      "/Users/fklein/neuefische/capstone/Capstone_WindPowerPredicting/.venv/lib/python3.9/site-packages/pandas/compat/__init__.py:124: UserWarning: Could not import the lzma module. Your installed Python is incomplete. Attempting to use lzma compression will result in a RuntimeError.\n",
      "  warnings.warn(msg)\n"
     ]
    }
   ],
   "metadata": {}
  },
  {
   "cell_type": "code",
   "execution_count": 2,
   "source": [
    "from io import SEEK_CUR\n",
    "import pandas as pd\n",
    "import numpy as np\n",
    "\n",
    "import dash\n",
    "from datetime import date\n",
    "import dash_bootstrap_components as dbc\n",
    "from dash import dcc\n",
    "from dash import html\n",
    "import plotly.graph_objects as go\n",
    "import plotly.express as px\n",
    "\n",
    "from PIL import ImageColor\n",
    "\n",
    "from dash.dependencies import Input, Output, State\n",
    "\n",
    "from dashboard_main import *"
   ],
   "outputs": [],
   "metadata": {}
  },
  {
   "cell_type": "code",
   "execution_count": 3,
   "source": [
    "\n",
    "features_forecast = ['ZONEID', 'TIMESTAMP', 'HOUR', 'WEEKDAY', 'WS100', 'WD100']\n",
    "features_retro = ['ZONEID', 'TIMESTAMP', 'HOUR', 'WEEKDAY', 'TARGETVAR']\n",
    "\n",
    "PATH_PREDICTIONS = 'RandomForest_Predictions.csv'\n",
    "PATH_DATA_ALL = 'raw_data_incl_features_test.csv'\n",
    "\n",
    "initial_date = '2013-07-01'"
   ],
   "outputs": [],
   "metadata": {}
  },
  {
   "cell_type": "code",
   "execution_count": 4,
   "source": [
    "data_forecast = pd.read_csv(PATH_PREDICTIONS, parse_dates=['TIMESTAMP'])\n",
    "data_forecast.rename(\n",
    "    columns={x: 'Wind Farm '+x.split()[-1] \n",
    "    for x in data_forecast.columns if x.startswith('Zone')}, \n",
    "    inplace=True)\n",
    "add_HOUR_column(data_forecast)\n",
    "data_all = pd.read_csv(PATH_DATA_ALL, parse_dates=['TIMESTAMP'])\n",
    "data_all.interpolate(method='bfill', inplace=True)\n",
    "data_all['ZONEID'] = data_all['ZONEID'].apply(lambda x: 'Wind Farm '+str(x))\n",
    "data_all['HOUR'].replace(0,24, inplace=True)\n",
    "data_all.replace('Zone', 'Wind Farm', inplace=True)\n",
    "data_all.reset_index(inplace=True)"
   ],
   "outputs": [],
   "metadata": {}
  },
  {
   "cell_type": "code",
   "execution_count": 5,
   "source": [
    "day = '2013-08-15'\n",
    "zone = 'Wind Farm 8'"
   ],
   "outputs": [],
   "metadata": {}
  },
  {
   "cell_type": "code",
   "execution_count": 6,
   "source": [
    "delta_minute = pd.Timedelta(1, unit='min')"
   ],
   "outputs": [],
   "metadata": {}
  },
  {
   "cell_type": "code",
   "execution_count": 7,
   "source": [
    "data_forecast['TIMESTAMP'] = data_forecast['TIMESTAMP'].apply(lambda x: x-delta_minute)\n",
    "data_forecast.drop('HOUR', axis=1, inplace=True)"
   ],
   "outputs": [],
   "metadata": {}
  },
  {
   "cell_type": "code",
   "execution_count": 8,
   "source": [
    "data_forecast = data_forecast[['TIMESTAMP', zone]]"
   ],
   "outputs": [],
   "metadata": {}
  },
  {
   "cell_type": "code",
   "execution_count": 9,
   "source": [
    "data_forecast['DATE'] = data_forecast['TIMESTAMP'].dt.date "
   ],
   "outputs": [],
   "metadata": {}
  },
  {
   "cell_type": "code",
   "execution_count": 10,
   "source": [
    "data_forecast = data_forecast.groupby('DATE').mean()"
   ],
   "outputs": [],
   "metadata": {}
  },
  {
   "cell_type": "code",
   "execution_count": 11,
   "source": [
    "data_forecast_mean = data_forecast.mean(axis=1)\n",
    "data_forecast_mean\n",
    "df_forecast_mean = pd.DataFrame(data_forecast_mean)"
   ],
   "outputs": [],
   "metadata": {}
  },
  {
   "cell_type": "code",
   "execution_count": 12,
   "source": [
    "df_forecast_mean.columns = ['TARGETVAR_PREDICTED']\n",
    "df_forecast_mean"
   ],
   "outputs": [
    {
     "output_type": "execute_result",
     "data": {
      "text/html": [
       "<div>\n",
       "<style scoped>\n",
       "    .dataframe tbody tr th:only-of-type {\n",
       "        vertical-align: middle;\n",
       "    }\n",
       "\n",
       "    .dataframe tbody tr th {\n",
       "        vertical-align: top;\n",
       "    }\n",
       "\n",
       "    .dataframe thead th {\n",
       "        text-align: right;\n",
       "    }\n",
       "</style>\n",
       "<table border=\"1\" class=\"dataframe\">\n",
       "  <thead>\n",
       "    <tr style=\"text-align: right;\">\n",
       "      <th></th>\n",
       "      <th>TARGETVAR_PREDICTED</th>\n",
       "    </tr>\n",
       "    <tr>\n",
       "      <th>DATE</th>\n",
       "      <th></th>\n",
       "    </tr>\n",
       "  </thead>\n",
       "  <tbody>\n",
       "    <tr>\n",
       "      <th>2013-07-01</th>\n",
       "      <td>0.600115</td>\n",
       "    </tr>\n",
       "    <tr>\n",
       "      <th>2013-07-02</th>\n",
       "      <td>0.563627</td>\n",
       "    </tr>\n",
       "    <tr>\n",
       "      <th>2013-07-03</th>\n",
       "      <td>0.584431</td>\n",
       "    </tr>\n",
       "    <tr>\n",
       "      <th>2013-07-04</th>\n",
       "      <td>0.732470</td>\n",
       "    </tr>\n",
       "    <tr>\n",
       "      <th>2013-07-05</th>\n",
       "      <td>0.724957</td>\n",
       "    </tr>\n",
       "    <tr>\n",
       "      <th>...</th>\n",
       "      <td>...</td>\n",
       "    </tr>\n",
       "    <tr>\n",
       "      <th>2013-12-27</th>\n",
       "      <td>0.299677</td>\n",
       "    </tr>\n",
       "    <tr>\n",
       "      <th>2013-12-28</th>\n",
       "      <td>0.380428</td>\n",
       "    </tr>\n",
       "    <tr>\n",
       "      <th>2013-12-29</th>\n",
       "      <td>0.091375</td>\n",
       "    </tr>\n",
       "    <tr>\n",
       "      <th>2013-12-30</th>\n",
       "      <td>0.070659</td>\n",
       "    </tr>\n",
       "    <tr>\n",
       "      <th>2013-12-31</th>\n",
       "      <td>0.292695</td>\n",
       "    </tr>\n",
       "  </tbody>\n",
       "</table>\n",
       "<p>184 rows × 1 columns</p>\n",
       "</div>"
      ],
      "text/plain": [
       "            TARGETVAR_PREDICTED\n",
       "DATE                           \n",
       "2013-07-01             0.600115\n",
       "2013-07-02             0.563627\n",
       "2013-07-03             0.584431\n",
       "2013-07-04             0.732470\n",
       "2013-07-05             0.724957\n",
       "...                         ...\n",
       "2013-12-27             0.299677\n",
       "2013-12-28             0.380428\n",
       "2013-12-29             0.091375\n",
       "2013-12-30             0.070659\n",
       "2013-12-31             0.292695\n",
       "\n",
       "[184 rows x 1 columns]"
      ]
     },
     "metadata": {},
     "execution_count": 12
    }
   ],
   "metadata": {}
  },
  {
   "cell_type": "markdown",
   "source": [
    "## observed values"
   ],
   "metadata": {}
  },
  {
   "cell_type": "code",
   "execution_count": 13,
   "source": [
    "data_all"
   ],
   "outputs": [
    {
     "output_type": "execute_result",
     "data": {
      "text/html": [
       "<div>\n",
       "<style scoped>\n",
       "    .dataframe tbody tr th:only-of-type {\n",
       "        vertical-align: middle;\n",
       "    }\n",
       "\n",
       "    .dataframe tbody tr th {\n",
       "        vertical-align: top;\n",
       "    }\n",
       "\n",
       "    .dataframe thead th {\n",
       "        text-align: right;\n",
       "    }\n",
       "</style>\n",
       "<table border=\"1\" class=\"dataframe\">\n",
       "  <thead>\n",
       "    <tr style=\"text-align: right;\">\n",
       "      <th></th>\n",
       "      <th>index</th>\n",
       "      <th>ZONEID</th>\n",
       "      <th>TIMESTAMP</th>\n",
       "      <th>TARGETVAR</th>\n",
       "      <th>U10</th>\n",
       "      <th>V10</th>\n",
       "      <th>U100</th>\n",
       "      <th>V100</th>\n",
       "      <th>HOUR</th>\n",
       "      <th>MONTH</th>\n",
       "      <th>WEEKDAY</th>\n",
       "      <th>IS_HOLIDAY</th>\n",
       "      <th>WS10</th>\n",
       "      <th>WS100</th>\n",
       "      <th>WD10</th>\n",
       "      <th>WD100</th>\n",
       "      <th>WD100CARD</th>\n",
       "      <th>WD10CARD</th>\n",
       "      <th>U100NORM</th>\n",
       "      <th>V100NORM</th>\n",
       "    </tr>\n",
       "  </thead>\n",
       "  <tbody>\n",
       "    <tr>\n",
       "      <th>0</th>\n",
       "      <td>0</td>\n",
       "      <td>Wind Farm 1</td>\n",
       "      <td>2013-06-30 01:00:00</td>\n",
       "      <td>0.375811</td>\n",
       "      <td>4.519248</td>\n",
       "      <td>-1.559637</td>\n",
       "      <td>6.913626</td>\n",
       "      <td>-2.293687</td>\n",
       "      <td>1</td>\n",
       "      <td>6</td>\n",
       "      <td>6</td>\n",
       "      <td>0</td>\n",
       "      <td>4.780803</td>\n",
       "      <td>7.284176</td>\n",
       "      <td>289.040056</td>\n",
       "      <td>288.353946</td>\n",
       "      <td>WNW</td>\n",
       "      <td>WNW</td>\n",
       "      <td>0.949129</td>\n",
       "      <td>-0.314886</td>\n",
       "    </tr>\n",
       "    <tr>\n",
       "      <th>1</th>\n",
       "      <td>1</td>\n",
       "      <td>Wind Farm 1</td>\n",
       "      <td>2013-06-30 02:00:00</td>\n",
       "      <td>0.519688</td>\n",
       "      <td>4.810528</td>\n",
       "      <td>-1.128186</td>\n",
       "      <td>6.989617</td>\n",
       "      <td>-1.628825</td>\n",
       "      <td>2</td>\n",
       "      <td>6</td>\n",
       "      <td>6</td>\n",
       "      <td>0</td>\n",
       "      <td>4.941051</td>\n",
       "      <td>7.176895</td>\n",
       "      <td>283.198721</td>\n",
       "      <td>283.117810</td>\n",
       "      <td>WNW</td>\n",
       "      <td>WNW</td>\n",
       "      <td>0.973905</td>\n",
       "      <td>-0.226954</td>\n",
       "    </tr>\n",
       "    <tr>\n",
       "      <th>2</th>\n",
       "      <td>2</td>\n",
       "      <td>Wind Farm 1</td>\n",
       "      <td>2013-06-30 03:00:00</td>\n",
       "      <td>0.520346</td>\n",
       "      <td>4.560787</td>\n",
       "      <td>-0.831092</td>\n",
       "      <td>6.590505</td>\n",
       "      <td>-1.121018</td>\n",
       "      <td>3</td>\n",
       "      <td>6</td>\n",
       "      <td>6</td>\n",
       "      <td>0</td>\n",
       "      <td>4.635892</td>\n",
       "      <td>6.685165</td>\n",
       "      <td>280.327442</td>\n",
       "      <td>279.653384</td>\n",
       "      <td>W</td>\n",
       "      <td>W</td>\n",
       "      <td>0.985840</td>\n",
       "      <td>-0.167687</td>\n",
       "    </tr>\n",
       "    <tr>\n",
       "      <th>3</th>\n",
       "      <td>3</td>\n",
       "      <td>Wind Farm 1</td>\n",
       "      <td>2013-06-30 04:00:00</td>\n",
       "      <td>0.428907</td>\n",
       "      <td>4.875876</td>\n",
       "      <td>-0.787637</td>\n",
       "      <td>7.088597</td>\n",
       "      <td>-1.173369</td>\n",
       "      <td>4</td>\n",
       "      <td>6</td>\n",
       "      <td>6</td>\n",
       "      <td>0</td>\n",
       "      <td>4.939083</td>\n",
       "      <td>7.185054</td>\n",
       "      <td>279.176149</td>\n",
       "      <td>279.398894</td>\n",
       "      <td>W</td>\n",
       "      <td>W</td>\n",
       "      <td>0.986575</td>\n",
       "      <td>-0.163307</td>\n",
       "    </tr>\n",
       "    <tr>\n",
       "      <th>4</th>\n",
       "      <td>4</td>\n",
       "      <td>Wind Farm 1</td>\n",
       "      <td>2013-06-30 05:00:00</td>\n",
       "      <td>0.665915</td>\n",
       "      <td>4.956422</td>\n",
       "      <td>-0.793845</td>\n",
       "      <td>7.314015</td>\n",
       "      <td>-1.150858</td>\n",
       "      <td>5</td>\n",
       "      <td>6</td>\n",
       "      <td>6</td>\n",
       "      <td>0</td>\n",
       "      <td>5.019592</td>\n",
       "      <td>7.404005</td>\n",
       "      <td>279.099489</td>\n",
       "      <td>278.942154</td>\n",
       "      <td>W</td>\n",
       "      <td>W</td>\n",
       "      <td>0.987846</td>\n",
       "      <td>-0.155437</td>\n",
       "    </tr>\n",
       "    <tr>\n",
       "      <th>...</th>\n",
       "      <td>...</td>\n",
       "      <td>...</td>\n",
       "      <td>...</td>\n",
       "      <td>...</td>\n",
       "      <td>...</td>\n",
       "      <td>...</td>\n",
       "      <td>...</td>\n",
       "      <td>...</td>\n",
       "      <td>...</td>\n",
       "      <td>...</td>\n",
       "      <td>...</td>\n",
       "      <td>...</td>\n",
       "      <td>...</td>\n",
       "      <td>...</td>\n",
       "      <td>...</td>\n",
       "      <td>...</td>\n",
       "      <td>...</td>\n",
       "      <td>...</td>\n",
       "      <td>...</td>\n",
       "      <td>...</td>\n",
       "    </tr>\n",
       "    <tr>\n",
       "      <th>44395</th>\n",
       "      <td>44395</td>\n",
       "      <td>Wind Farm 10</td>\n",
       "      <td>2013-12-31 20:00:00</td>\n",
       "      <td>NaN</td>\n",
       "      <td>1.032363</td>\n",
       "      <td>-6.281558</td>\n",
       "      <td>2.041033</td>\n",
       "      <td>-11.220655</td>\n",
       "      <td>20</td>\n",
       "      <td>12</td>\n",
       "      <td>1</td>\n",
       "      <td>0</td>\n",
       "      <td>6.365826</td>\n",
       "      <td>11.404776</td>\n",
       "      <td>350.666975</td>\n",
       "      <td>349.690637</td>\n",
       "      <td>N</td>\n",
       "      <td>N</td>\n",
       "      <td>0.178963</td>\n",
       "      <td>-0.983856</td>\n",
       "    </tr>\n",
       "    <tr>\n",
       "      <th>44396</th>\n",
       "      <td>44396</td>\n",
       "      <td>Wind Farm 10</td>\n",
       "      <td>2013-12-31 21:00:00</td>\n",
       "      <td>NaN</td>\n",
       "      <td>1.702361</td>\n",
       "      <td>-6.202448</td>\n",
       "      <td>2.846245</td>\n",
       "      <td>-10.486079</td>\n",
       "      <td>21</td>\n",
       "      <td>12</td>\n",
       "      <td>1</td>\n",
       "      <td>0</td>\n",
       "      <td>6.431827</td>\n",
       "      <td>10.865494</td>\n",
       "      <td>344.652195</td>\n",
       "      <td>344.814040</td>\n",
       "      <td>NNW</td>\n",
       "      <td>NNW</td>\n",
       "      <td>0.261953</td>\n",
       "      <td>-0.965081</td>\n",
       "    </tr>\n",
       "    <tr>\n",
       "      <th>44397</th>\n",
       "      <td>44397</td>\n",
       "      <td>Wind Farm 10</td>\n",
       "      <td>2013-12-31 22:00:00</td>\n",
       "      <td>NaN</td>\n",
       "      <td>5.086629</td>\n",
       "      <td>-1.261378</td>\n",
       "      <td>7.382256</td>\n",
       "      <td>-3.097656</td>\n",
       "      <td>22</td>\n",
       "      <td>12</td>\n",
       "      <td>1</td>\n",
       "      <td>0</td>\n",
       "      <td>5.240694</td>\n",
       "      <td>8.005821</td>\n",
       "      <td>283.927218</td>\n",
       "      <td>292.763328</td>\n",
       "      <td>WNW</td>\n",
       "      <td>WNW</td>\n",
       "      <td>0.922111</td>\n",
       "      <td>-0.386925</td>\n",
       "    </tr>\n",
       "    <tr>\n",
       "      <th>44398</th>\n",
       "      <td>44398</td>\n",
       "      <td>Wind Farm 10</td>\n",
       "      <td>2013-12-31 23:00:00</td>\n",
       "      <td>NaN</td>\n",
       "      <td>4.183751</td>\n",
       "      <td>-1.580172</td>\n",
       "      <td>5.789054</td>\n",
       "      <td>-2.116548</td>\n",
       "      <td>23</td>\n",
       "      <td>12</td>\n",
       "      <td>1</td>\n",
       "      <td>0</td>\n",
       "      <td>4.472216</td>\n",
       "      <td>6.163840</td>\n",
       "      <td>290.691183</td>\n",
       "      <td>290.083020</td>\n",
       "      <td>WNW</td>\n",
       "      <td>WNW</td>\n",
       "      <td>0.939196</td>\n",
       "      <td>-0.343381</td>\n",
       "    </tr>\n",
       "    <tr>\n",
       "      <th>44399</th>\n",
       "      <td>44399</td>\n",
       "      <td>Wind Farm 10</td>\n",
       "      <td>2014-01-01 00:00:00</td>\n",
       "      <td>NaN</td>\n",
       "      <td>2.903382</td>\n",
       "      <td>-2.663695</td>\n",
       "      <td>4.041454</td>\n",
       "      <td>-3.471531</td>\n",
       "      <td>24</td>\n",
       "      <td>1</td>\n",
       "      <td>2</td>\n",
       "      <td>0</td>\n",
       "      <td>3.940164</td>\n",
       "      <td>5.327746</td>\n",
       "      <td>312.534683</td>\n",
       "      <td>310.661944</td>\n",
       "      <td>NW</td>\n",
       "      <td>NW</td>\n",
       "      <td>0.758567</td>\n",
       "      <td>-0.651595</td>\n",
       "    </tr>\n",
       "  </tbody>\n",
       "</table>\n",
       "<p>44400 rows × 20 columns</p>\n",
       "</div>"
      ],
      "text/plain": [
       "       index        ZONEID           TIMESTAMP  TARGETVAR       U10       V10  \\\n",
       "0          0   Wind Farm 1 2013-06-30 01:00:00   0.375811  4.519248 -1.559637   \n",
       "1          1   Wind Farm 1 2013-06-30 02:00:00   0.519688  4.810528 -1.128186   \n",
       "2          2   Wind Farm 1 2013-06-30 03:00:00   0.520346  4.560787 -0.831092   \n",
       "3          3   Wind Farm 1 2013-06-30 04:00:00   0.428907  4.875876 -0.787637   \n",
       "4          4   Wind Farm 1 2013-06-30 05:00:00   0.665915  4.956422 -0.793845   \n",
       "...      ...           ...                 ...        ...       ...       ...   \n",
       "44395  44395  Wind Farm 10 2013-12-31 20:00:00        NaN  1.032363 -6.281558   \n",
       "44396  44396  Wind Farm 10 2013-12-31 21:00:00        NaN  1.702361 -6.202448   \n",
       "44397  44397  Wind Farm 10 2013-12-31 22:00:00        NaN  5.086629 -1.261378   \n",
       "44398  44398  Wind Farm 10 2013-12-31 23:00:00        NaN  4.183751 -1.580172   \n",
       "44399  44399  Wind Farm 10 2014-01-01 00:00:00        NaN  2.903382 -2.663695   \n",
       "\n",
       "           U100       V100  HOUR  MONTH  WEEKDAY  IS_HOLIDAY      WS10  \\\n",
       "0      6.913626  -2.293687     1      6        6           0  4.780803   \n",
       "1      6.989617  -1.628825     2      6        6           0  4.941051   \n",
       "2      6.590505  -1.121018     3      6        6           0  4.635892   \n",
       "3      7.088597  -1.173369     4      6        6           0  4.939083   \n",
       "4      7.314015  -1.150858     5      6        6           0  5.019592   \n",
       "...         ...        ...   ...    ...      ...         ...       ...   \n",
       "44395  2.041033 -11.220655    20     12        1           0  6.365826   \n",
       "44396  2.846245 -10.486079    21     12        1           0  6.431827   \n",
       "44397  7.382256  -3.097656    22     12        1           0  5.240694   \n",
       "44398  5.789054  -2.116548    23     12        1           0  4.472216   \n",
       "44399  4.041454  -3.471531    24      1        2           0  3.940164   \n",
       "\n",
       "           WS100        WD10       WD100 WD100CARD WD10CARD  U100NORM  \\\n",
       "0       7.284176  289.040056  288.353946       WNW      WNW  0.949129   \n",
       "1       7.176895  283.198721  283.117810       WNW      WNW  0.973905   \n",
       "2       6.685165  280.327442  279.653384         W        W  0.985840   \n",
       "3       7.185054  279.176149  279.398894         W        W  0.986575   \n",
       "4       7.404005  279.099489  278.942154         W        W  0.987846   \n",
       "...          ...         ...         ...       ...      ...       ...   \n",
       "44395  11.404776  350.666975  349.690637         N        N  0.178963   \n",
       "44396  10.865494  344.652195  344.814040       NNW      NNW  0.261953   \n",
       "44397   8.005821  283.927218  292.763328       WNW      WNW  0.922111   \n",
       "44398   6.163840  290.691183  290.083020       WNW      WNW  0.939196   \n",
       "44399   5.327746  312.534683  310.661944        NW       NW  0.758567   \n",
       "\n",
       "       V100NORM  \n",
       "0     -0.314886  \n",
       "1     -0.226954  \n",
       "2     -0.167687  \n",
       "3     -0.163307  \n",
       "4     -0.155437  \n",
       "...         ...  \n",
       "44395 -0.983856  \n",
       "44396 -0.965081  \n",
       "44397 -0.386925  \n",
       "44398 -0.343381  \n",
       "44399 -0.651595  \n",
       "\n",
       "[44400 rows x 20 columns]"
      ]
     },
     "metadata": {},
     "execution_count": 13
    }
   ],
   "metadata": {}
  },
  {
   "cell_type": "code",
   "execution_count": 14,
   "source": [
    "# data_all = data_all[data_all['ZONEID'] == zone]\n",
    "data_all"
   ],
   "outputs": [
    {
     "output_type": "execute_result",
     "data": {
      "text/html": [
       "<div>\n",
       "<style scoped>\n",
       "    .dataframe tbody tr th:only-of-type {\n",
       "        vertical-align: middle;\n",
       "    }\n",
       "\n",
       "    .dataframe tbody tr th {\n",
       "        vertical-align: top;\n",
       "    }\n",
       "\n",
       "    .dataframe thead th {\n",
       "        text-align: right;\n",
       "    }\n",
       "</style>\n",
       "<table border=\"1\" class=\"dataframe\">\n",
       "  <thead>\n",
       "    <tr style=\"text-align: right;\">\n",
       "      <th></th>\n",
       "      <th>index</th>\n",
       "      <th>ZONEID</th>\n",
       "      <th>TIMESTAMP</th>\n",
       "      <th>TARGETVAR</th>\n",
       "      <th>U10</th>\n",
       "      <th>V10</th>\n",
       "      <th>U100</th>\n",
       "      <th>V100</th>\n",
       "      <th>HOUR</th>\n",
       "      <th>MONTH</th>\n",
       "      <th>WEEKDAY</th>\n",
       "      <th>IS_HOLIDAY</th>\n",
       "      <th>WS10</th>\n",
       "      <th>WS100</th>\n",
       "      <th>WD10</th>\n",
       "      <th>WD100</th>\n",
       "      <th>WD100CARD</th>\n",
       "      <th>WD10CARD</th>\n",
       "      <th>U100NORM</th>\n",
       "      <th>V100NORM</th>\n",
       "    </tr>\n",
       "  </thead>\n",
       "  <tbody>\n",
       "    <tr>\n",
       "      <th>0</th>\n",
       "      <td>0</td>\n",
       "      <td>Wind Farm 1</td>\n",
       "      <td>2013-06-30 01:00:00</td>\n",
       "      <td>0.375811</td>\n",
       "      <td>4.519248</td>\n",
       "      <td>-1.559637</td>\n",
       "      <td>6.913626</td>\n",
       "      <td>-2.293687</td>\n",
       "      <td>1</td>\n",
       "      <td>6</td>\n",
       "      <td>6</td>\n",
       "      <td>0</td>\n",
       "      <td>4.780803</td>\n",
       "      <td>7.284176</td>\n",
       "      <td>289.040056</td>\n",
       "      <td>288.353946</td>\n",
       "      <td>WNW</td>\n",
       "      <td>WNW</td>\n",
       "      <td>0.949129</td>\n",
       "      <td>-0.314886</td>\n",
       "    </tr>\n",
       "    <tr>\n",
       "      <th>1</th>\n",
       "      <td>1</td>\n",
       "      <td>Wind Farm 1</td>\n",
       "      <td>2013-06-30 02:00:00</td>\n",
       "      <td>0.519688</td>\n",
       "      <td>4.810528</td>\n",
       "      <td>-1.128186</td>\n",
       "      <td>6.989617</td>\n",
       "      <td>-1.628825</td>\n",
       "      <td>2</td>\n",
       "      <td>6</td>\n",
       "      <td>6</td>\n",
       "      <td>0</td>\n",
       "      <td>4.941051</td>\n",
       "      <td>7.176895</td>\n",
       "      <td>283.198721</td>\n",
       "      <td>283.117810</td>\n",
       "      <td>WNW</td>\n",
       "      <td>WNW</td>\n",
       "      <td>0.973905</td>\n",
       "      <td>-0.226954</td>\n",
       "    </tr>\n",
       "    <tr>\n",
       "      <th>2</th>\n",
       "      <td>2</td>\n",
       "      <td>Wind Farm 1</td>\n",
       "      <td>2013-06-30 03:00:00</td>\n",
       "      <td>0.520346</td>\n",
       "      <td>4.560787</td>\n",
       "      <td>-0.831092</td>\n",
       "      <td>6.590505</td>\n",
       "      <td>-1.121018</td>\n",
       "      <td>3</td>\n",
       "      <td>6</td>\n",
       "      <td>6</td>\n",
       "      <td>0</td>\n",
       "      <td>4.635892</td>\n",
       "      <td>6.685165</td>\n",
       "      <td>280.327442</td>\n",
       "      <td>279.653384</td>\n",
       "      <td>W</td>\n",
       "      <td>W</td>\n",
       "      <td>0.985840</td>\n",
       "      <td>-0.167687</td>\n",
       "    </tr>\n",
       "    <tr>\n",
       "      <th>3</th>\n",
       "      <td>3</td>\n",
       "      <td>Wind Farm 1</td>\n",
       "      <td>2013-06-30 04:00:00</td>\n",
       "      <td>0.428907</td>\n",
       "      <td>4.875876</td>\n",
       "      <td>-0.787637</td>\n",
       "      <td>7.088597</td>\n",
       "      <td>-1.173369</td>\n",
       "      <td>4</td>\n",
       "      <td>6</td>\n",
       "      <td>6</td>\n",
       "      <td>0</td>\n",
       "      <td>4.939083</td>\n",
       "      <td>7.185054</td>\n",
       "      <td>279.176149</td>\n",
       "      <td>279.398894</td>\n",
       "      <td>W</td>\n",
       "      <td>W</td>\n",
       "      <td>0.986575</td>\n",
       "      <td>-0.163307</td>\n",
       "    </tr>\n",
       "    <tr>\n",
       "      <th>4</th>\n",
       "      <td>4</td>\n",
       "      <td>Wind Farm 1</td>\n",
       "      <td>2013-06-30 05:00:00</td>\n",
       "      <td>0.665915</td>\n",
       "      <td>4.956422</td>\n",
       "      <td>-0.793845</td>\n",
       "      <td>7.314015</td>\n",
       "      <td>-1.150858</td>\n",
       "      <td>5</td>\n",
       "      <td>6</td>\n",
       "      <td>6</td>\n",
       "      <td>0</td>\n",
       "      <td>5.019592</td>\n",
       "      <td>7.404005</td>\n",
       "      <td>279.099489</td>\n",
       "      <td>278.942154</td>\n",
       "      <td>W</td>\n",
       "      <td>W</td>\n",
       "      <td>0.987846</td>\n",
       "      <td>-0.155437</td>\n",
       "    </tr>\n",
       "    <tr>\n",
       "      <th>...</th>\n",
       "      <td>...</td>\n",
       "      <td>...</td>\n",
       "      <td>...</td>\n",
       "      <td>...</td>\n",
       "      <td>...</td>\n",
       "      <td>...</td>\n",
       "      <td>...</td>\n",
       "      <td>...</td>\n",
       "      <td>...</td>\n",
       "      <td>...</td>\n",
       "      <td>...</td>\n",
       "      <td>...</td>\n",
       "      <td>...</td>\n",
       "      <td>...</td>\n",
       "      <td>...</td>\n",
       "      <td>...</td>\n",
       "      <td>...</td>\n",
       "      <td>...</td>\n",
       "      <td>...</td>\n",
       "      <td>...</td>\n",
       "    </tr>\n",
       "    <tr>\n",
       "      <th>44395</th>\n",
       "      <td>44395</td>\n",
       "      <td>Wind Farm 10</td>\n",
       "      <td>2013-12-31 20:00:00</td>\n",
       "      <td>NaN</td>\n",
       "      <td>1.032363</td>\n",
       "      <td>-6.281558</td>\n",
       "      <td>2.041033</td>\n",
       "      <td>-11.220655</td>\n",
       "      <td>20</td>\n",
       "      <td>12</td>\n",
       "      <td>1</td>\n",
       "      <td>0</td>\n",
       "      <td>6.365826</td>\n",
       "      <td>11.404776</td>\n",
       "      <td>350.666975</td>\n",
       "      <td>349.690637</td>\n",
       "      <td>N</td>\n",
       "      <td>N</td>\n",
       "      <td>0.178963</td>\n",
       "      <td>-0.983856</td>\n",
       "    </tr>\n",
       "    <tr>\n",
       "      <th>44396</th>\n",
       "      <td>44396</td>\n",
       "      <td>Wind Farm 10</td>\n",
       "      <td>2013-12-31 21:00:00</td>\n",
       "      <td>NaN</td>\n",
       "      <td>1.702361</td>\n",
       "      <td>-6.202448</td>\n",
       "      <td>2.846245</td>\n",
       "      <td>-10.486079</td>\n",
       "      <td>21</td>\n",
       "      <td>12</td>\n",
       "      <td>1</td>\n",
       "      <td>0</td>\n",
       "      <td>6.431827</td>\n",
       "      <td>10.865494</td>\n",
       "      <td>344.652195</td>\n",
       "      <td>344.814040</td>\n",
       "      <td>NNW</td>\n",
       "      <td>NNW</td>\n",
       "      <td>0.261953</td>\n",
       "      <td>-0.965081</td>\n",
       "    </tr>\n",
       "    <tr>\n",
       "      <th>44397</th>\n",
       "      <td>44397</td>\n",
       "      <td>Wind Farm 10</td>\n",
       "      <td>2013-12-31 22:00:00</td>\n",
       "      <td>NaN</td>\n",
       "      <td>5.086629</td>\n",
       "      <td>-1.261378</td>\n",
       "      <td>7.382256</td>\n",
       "      <td>-3.097656</td>\n",
       "      <td>22</td>\n",
       "      <td>12</td>\n",
       "      <td>1</td>\n",
       "      <td>0</td>\n",
       "      <td>5.240694</td>\n",
       "      <td>8.005821</td>\n",
       "      <td>283.927218</td>\n",
       "      <td>292.763328</td>\n",
       "      <td>WNW</td>\n",
       "      <td>WNW</td>\n",
       "      <td>0.922111</td>\n",
       "      <td>-0.386925</td>\n",
       "    </tr>\n",
       "    <tr>\n",
       "      <th>44398</th>\n",
       "      <td>44398</td>\n",
       "      <td>Wind Farm 10</td>\n",
       "      <td>2013-12-31 23:00:00</td>\n",
       "      <td>NaN</td>\n",
       "      <td>4.183751</td>\n",
       "      <td>-1.580172</td>\n",
       "      <td>5.789054</td>\n",
       "      <td>-2.116548</td>\n",
       "      <td>23</td>\n",
       "      <td>12</td>\n",
       "      <td>1</td>\n",
       "      <td>0</td>\n",
       "      <td>4.472216</td>\n",
       "      <td>6.163840</td>\n",
       "      <td>290.691183</td>\n",
       "      <td>290.083020</td>\n",
       "      <td>WNW</td>\n",
       "      <td>WNW</td>\n",
       "      <td>0.939196</td>\n",
       "      <td>-0.343381</td>\n",
       "    </tr>\n",
       "    <tr>\n",
       "      <th>44399</th>\n",
       "      <td>44399</td>\n",
       "      <td>Wind Farm 10</td>\n",
       "      <td>2014-01-01 00:00:00</td>\n",
       "      <td>NaN</td>\n",
       "      <td>2.903382</td>\n",
       "      <td>-2.663695</td>\n",
       "      <td>4.041454</td>\n",
       "      <td>-3.471531</td>\n",
       "      <td>24</td>\n",
       "      <td>1</td>\n",
       "      <td>2</td>\n",
       "      <td>0</td>\n",
       "      <td>3.940164</td>\n",
       "      <td>5.327746</td>\n",
       "      <td>312.534683</td>\n",
       "      <td>310.661944</td>\n",
       "      <td>NW</td>\n",
       "      <td>NW</td>\n",
       "      <td>0.758567</td>\n",
       "      <td>-0.651595</td>\n",
       "    </tr>\n",
       "  </tbody>\n",
       "</table>\n",
       "<p>44400 rows × 20 columns</p>\n",
       "</div>"
      ],
      "text/plain": [
       "       index        ZONEID           TIMESTAMP  TARGETVAR       U10       V10  \\\n",
       "0          0   Wind Farm 1 2013-06-30 01:00:00   0.375811  4.519248 -1.559637   \n",
       "1          1   Wind Farm 1 2013-06-30 02:00:00   0.519688  4.810528 -1.128186   \n",
       "2          2   Wind Farm 1 2013-06-30 03:00:00   0.520346  4.560787 -0.831092   \n",
       "3          3   Wind Farm 1 2013-06-30 04:00:00   0.428907  4.875876 -0.787637   \n",
       "4          4   Wind Farm 1 2013-06-30 05:00:00   0.665915  4.956422 -0.793845   \n",
       "...      ...           ...                 ...        ...       ...       ...   \n",
       "44395  44395  Wind Farm 10 2013-12-31 20:00:00        NaN  1.032363 -6.281558   \n",
       "44396  44396  Wind Farm 10 2013-12-31 21:00:00        NaN  1.702361 -6.202448   \n",
       "44397  44397  Wind Farm 10 2013-12-31 22:00:00        NaN  5.086629 -1.261378   \n",
       "44398  44398  Wind Farm 10 2013-12-31 23:00:00        NaN  4.183751 -1.580172   \n",
       "44399  44399  Wind Farm 10 2014-01-01 00:00:00        NaN  2.903382 -2.663695   \n",
       "\n",
       "           U100       V100  HOUR  MONTH  WEEKDAY  IS_HOLIDAY      WS10  \\\n",
       "0      6.913626  -2.293687     1      6        6           0  4.780803   \n",
       "1      6.989617  -1.628825     2      6        6           0  4.941051   \n",
       "2      6.590505  -1.121018     3      6        6           0  4.635892   \n",
       "3      7.088597  -1.173369     4      6        6           0  4.939083   \n",
       "4      7.314015  -1.150858     5      6        6           0  5.019592   \n",
       "...         ...        ...   ...    ...      ...         ...       ...   \n",
       "44395  2.041033 -11.220655    20     12        1           0  6.365826   \n",
       "44396  2.846245 -10.486079    21     12        1           0  6.431827   \n",
       "44397  7.382256  -3.097656    22     12        1           0  5.240694   \n",
       "44398  5.789054  -2.116548    23     12        1           0  4.472216   \n",
       "44399  4.041454  -3.471531    24      1        2           0  3.940164   \n",
       "\n",
       "           WS100        WD10       WD100 WD100CARD WD10CARD  U100NORM  \\\n",
       "0       7.284176  289.040056  288.353946       WNW      WNW  0.949129   \n",
       "1       7.176895  283.198721  283.117810       WNW      WNW  0.973905   \n",
       "2       6.685165  280.327442  279.653384         W        W  0.985840   \n",
       "3       7.185054  279.176149  279.398894         W        W  0.986575   \n",
       "4       7.404005  279.099489  278.942154         W        W  0.987846   \n",
       "...          ...         ...         ...       ...      ...       ...   \n",
       "44395  11.404776  350.666975  349.690637         N        N  0.178963   \n",
       "44396  10.865494  344.652195  344.814040       NNW      NNW  0.261953   \n",
       "44397   8.005821  283.927218  292.763328       WNW      WNW  0.922111   \n",
       "44398   6.163840  290.691183  290.083020       WNW      WNW  0.939196   \n",
       "44399   5.327746  312.534683  310.661944        NW       NW  0.758567   \n",
       "\n",
       "       V100NORM  \n",
       "0     -0.314886  \n",
       "1     -0.226954  \n",
       "2     -0.167687  \n",
       "3     -0.163307  \n",
       "4     -0.155437  \n",
       "...         ...  \n",
       "44395 -0.983856  \n",
       "44396 -0.965081  \n",
       "44397 -0.386925  \n",
       "44398 -0.343381  \n",
       "44399 -0.651595  \n",
       "\n",
       "[44400 rows x 20 columns]"
      ]
     },
     "metadata": {},
     "execution_count": 14
    }
   ],
   "metadata": {}
  },
  {
   "cell_type": "code",
   "execution_count": 15,
   "source": [
    "## observed values\n",
    "data_all['TIMESTAMP'] = data_all['TIMESTAMP'].apply(lambda x: x-delta_minute)"
   ],
   "outputs": [],
   "metadata": {}
  },
  {
   "cell_type": "code",
   "execution_count": 16,
   "source": [
    "data_all['DATE'] = data_all['TIMESTAMP'].dt.date"
   ],
   "outputs": [],
   "metadata": {}
  },
  {
   "cell_type": "code",
   "execution_count": 17,
   "source": [
    "data_all_mean = data_all.groupby('DATE').mean()['TARGETVAR']"
   ],
   "outputs": [],
   "metadata": {}
  },
  {
   "cell_type": "code",
   "execution_count": 18,
   "source": [
    "df_all_mean = pd.DataFrame(data_all_mean)"
   ],
   "outputs": [],
   "metadata": {}
  },
  {
   "cell_type": "code",
   "execution_count": 19,
   "source": [
    "df_all_mean.columns = ['TARGETVAR_OBSERVED']\n",
    "df_all_mean"
   ],
   "outputs": [
    {
     "output_type": "execute_result",
     "data": {
      "text/html": [
       "<div>\n",
       "<style scoped>\n",
       "    .dataframe tbody tr th:only-of-type {\n",
       "        vertical-align: middle;\n",
       "    }\n",
       "\n",
       "    .dataframe tbody tr th {\n",
       "        vertical-align: top;\n",
       "    }\n",
       "\n",
       "    .dataframe thead th {\n",
       "        text-align: right;\n",
       "    }\n",
       "</style>\n",
       "<table border=\"1\" class=\"dataframe\">\n",
       "  <thead>\n",
       "    <tr style=\"text-align: right;\">\n",
       "      <th></th>\n",
       "      <th>TARGETVAR_OBSERVED</th>\n",
       "    </tr>\n",
       "    <tr>\n",
       "      <th>DATE</th>\n",
       "      <th></th>\n",
       "    </tr>\n",
       "  </thead>\n",
       "  <tbody>\n",
       "    <tr>\n",
       "      <th>2013-06-30</th>\n",
       "      <td>0.409286</td>\n",
       "    </tr>\n",
       "    <tr>\n",
       "      <th>2013-07-01</th>\n",
       "      <td>0.478447</td>\n",
       "    </tr>\n",
       "    <tr>\n",
       "      <th>2013-07-02</th>\n",
       "      <td>0.461625</td>\n",
       "    </tr>\n",
       "    <tr>\n",
       "      <th>2013-07-03</th>\n",
       "      <td>0.775218</td>\n",
       "    </tr>\n",
       "    <tr>\n",
       "      <th>2013-07-04</th>\n",
       "      <td>0.793554</td>\n",
       "    </tr>\n",
       "    <tr>\n",
       "      <th>...</th>\n",
       "      <td>...</td>\n",
       "    </tr>\n",
       "    <tr>\n",
       "      <th>2013-12-27</th>\n",
       "      <td>0.352287</td>\n",
       "    </tr>\n",
       "    <tr>\n",
       "      <th>2013-12-28</th>\n",
       "      <td>0.651090</td>\n",
       "    </tr>\n",
       "    <tr>\n",
       "      <th>2013-12-29</th>\n",
       "      <td>0.185031</td>\n",
       "    </tr>\n",
       "    <tr>\n",
       "      <th>2013-12-30</th>\n",
       "      <td>0.159519</td>\n",
       "    </tr>\n",
       "    <tr>\n",
       "      <th>2013-12-31</th>\n",
       "      <td>0.314820</td>\n",
       "    </tr>\n",
       "  </tbody>\n",
       "</table>\n",
       "<p>185 rows × 1 columns</p>\n",
       "</div>"
      ],
      "text/plain": [
       "            TARGETVAR_OBSERVED\n",
       "DATE                          \n",
       "2013-06-30            0.409286\n",
       "2013-07-01            0.478447\n",
       "2013-07-02            0.461625\n",
       "2013-07-03            0.775218\n",
       "2013-07-04            0.793554\n",
       "...                        ...\n",
       "2013-12-27            0.352287\n",
       "2013-12-28            0.651090\n",
       "2013-12-29            0.185031\n",
       "2013-12-30            0.159519\n",
       "2013-12-31            0.314820\n",
       "\n",
       "[185 rows x 1 columns]"
      ]
     },
     "metadata": {},
     "execution_count": 19
    }
   ],
   "metadata": {}
  },
  {
   "cell_type": "code",
   "execution_count": 20,
   "source": [
    "df_comparison = df_all_mean.merge(df_forecast_mean, how='inner', on='DATE')"
   ],
   "outputs": [],
   "metadata": {}
  },
  {
   "cell_type": "code",
   "execution_count": 21,
   "source": [
    "df_comparison.columns = ['TARGETVAR_OBSERVED', 'TARGETVAR_PREDICTED']\n",
    "df_comparison"
   ],
   "outputs": [
    {
     "output_type": "execute_result",
     "data": {
      "text/html": [
       "<div>\n",
       "<style scoped>\n",
       "    .dataframe tbody tr th:only-of-type {\n",
       "        vertical-align: middle;\n",
       "    }\n",
       "\n",
       "    .dataframe tbody tr th {\n",
       "        vertical-align: top;\n",
       "    }\n",
       "\n",
       "    .dataframe thead th {\n",
       "        text-align: right;\n",
       "    }\n",
       "</style>\n",
       "<table border=\"1\" class=\"dataframe\">\n",
       "  <thead>\n",
       "    <tr style=\"text-align: right;\">\n",
       "      <th></th>\n",
       "      <th>TARGETVAR_OBSERVED</th>\n",
       "      <th>TARGETVAR_PREDICTED</th>\n",
       "    </tr>\n",
       "    <tr>\n",
       "      <th>DATE</th>\n",
       "      <th></th>\n",
       "      <th></th>\n",
       "    </tr>\n",
       "  </thead>\n",
       "  <tbody>\n",
       "    <tr>\n",
       "      <th>2013-07-01</th>\n",
       "      <td>0.478447</td>\n",
       "      <td>0.600115</td>\n",
       "    </tr>\n",
       "    <tr>\n",
       "      <th>2013-07-02</th>\n",
       "      <td>0.461625</td>\n",
       "      <td>0.563627</td>\n",
       "    </tr>\n",
       "    <tr>\n",
       "      <th>2013-07-03</th>\n",
       "      <td>0.775218</td>\n",
       "      <td>0.584431</td>\n",
       "    </tr>\n",
       "    <tr>\n",
       "      <th>2013-07-04</th>\n",
       "      <td>0.793554</td>\n",
       "      <td>0.732470</td>\n",
       "    </tr>\n",
       "    <tr>\n",
       "      <th>2013-07-05</th>\n",
       "      <td>0.678502</td>\n",
       "      <td>0.724957</td>\n",
       "    </tr>\n",
       "    <tr>\n",
       "      <th>...</th>\n",
       "      <td>...</td>\n",
       "      <td>...</td>\n",
       "    </tr>\n",
       "    <tr>\n",
       "      <th>2013-12-27</th>\n",
       "      <td>0.352287</td>\n",
       "      <td>0.299677</td>\n",
       "    </tr>\n",
       "    <tr>\n",
       "      <th>2013-12-28</th>\n",
       "      <td>0.651090</td>\n",
       "      <td>0.380428</td>\n",
       "    </tr>\n",
       "    <tr>\n",
       "      <th>2013-12-29</th>\n",
       "      <td>0.185031</td>\n",
       "      <td>0.091375</td>\n",
       "    </tr>\n",
       "    <tr>\n",
       "      <th>2013-12-30</th>\n",
       "      <td>0.159519</td>\n",
       "      <td>0.070659</td>\n",
       "    </tr>\n",
       "    <tr>\n",
       "      <th>2013-12-31</th>\n",
       "      <td>0.314820</td>\n",
       "      <td>0.292695</td>\n",
       "    </tr>\n",
       "  </tbody>\n",
       "</table>\n",
       "<p>184 rows × 2 columns</p>\n",
       "</div>"
      ],
      "text/plain": [
       "            TARGETVAR_OBSERVED  TARGETVAR_PREDICTED\n",
       "DATE                                               \n",
       "2013-07-01            0.478447             0.600115\n",
       "2013-07-02            0.461625             0.563627\n",
       "2013-07-03            0.775218             0.584431\n",
       "2013-07-04            0.793554             0.732470\n",
       "2013-07-05            0.678502             0.724957\n",
       "...                        ...                  ...\n",
       "2013-12-27            0.352287             0.299677\n",
       "2013-12-28            0.651090             0.380428\n",
       "2013-12-29            0.185031             0.091375\n",
       "2013-12-30            0.159519             0.070659\n",
       "2013-12-31            0.314820             0.292695\n",
       "\n",
       "[184 rows x 2 columns]"
      ]
     },
     "metadata": {},
     "execution_count": 21
    }
   ],
   "metadata": {}
  },
  {
   "cell_type": "code",
   "execution_count": 22,
   "source": [
    "\n",
    "fig = go.Figure()\n",
    "\n",
    "fig.add_traces(\n",
    "    go.Scatter(x=df_comparison.index, y = df_comparison['TARGETVAR_OBSERVED'], \n",
    "        mode = 'lines', line=dict(color='red',), name='observed',\n",
    "    )\n",
    ")\n",
    "\n",
    "fig.add_traces(\n",
    "    go.Scatter(x=df_comparison.index, y = df_comparison['TARGETVAR_PREDICTED'], \n",
    "        mode = 'lines', line=dict(color='blue',), name='predicted',\n",
    "    )\n",
    ")"
   ],
   "outputs": [
    {
     "output_type": "display_data",
     "data": {
      "application/vnd.plotly.v1+json": {
       "data": [
        {
         "line": {
          "color": "red"
         },
         "mode": "lines",
         "name": "observed",
         "x": [
          "2013-07-01",
          "2013-07-02",
          "2013-07-03",
          "2013-07-04",
          "2013-07-05",
          "2013-07-06",
          "2013-07-07",
          "2013-07-08",
          "2013-07-09",
          "2013-07-10",
          "2013-07-11",
          "2013-07-12",
          "2013-07-13",
          "2013-07-14",
          "2013-07-15",
          "2013-07-16",
          "2013-07-17",
          "2013-07-18",
          "2013-07-19",
          "2013-07-20",
          "2013-07-21",
          "2013-07-22",
          "2013-07-23",
          "2013-07-24",
          "2013-07-25",
          "2013-07-26",
          "2013-07-27",
          "2013-07-28",
          "2013-07-29",
          "2013-07-30",
          "2013-07-31",
          "2013-08-01",
          "2013-08-02",
          "2013-08-03",
          "2013-08-04",
          "2013-08-05",
          "2013-08-06",
          "2013-08-07",
          "2013-08-08",
          "2013-08-09",
          "2013-08-10",
          "2013-08-11",
          "2013-08-12",
          "2013-08-13",
          "2013-08-14",
          "2013-08-15",
          "2013-08-16",
          "2013-08-17",
          "2013-08-18",
          "2013-08-19",
          "2013-08-20",
          "2013-08-21",
          "2013-08-22",
          "2013-08-23",
          "2013-08-24",
          "2013-08-25",
          "2013-08-26",
          "2013-08-27",
          "2013-08-28",
          "2013-08-29",
          "2013-08-30",
          "2013-08-31",
          "2013-09-01",
          "2013-09-02",
          "2013-09-03",
          "2013-09-04",
          "2013-09-05",
          "2013-09-06",
          "2013-09-07",
          "2013-09-08",
          "2013-09-09",
          "2013-09-10",
          "2013-09-11",
          "2013-09-12",
          "2013-09-13",
          "2013-09-14",
          "2013-09-15",
          "2013-09-16",
          "2013-09-17",
          "2013-09-18",
          "2013-09-19",
          "2013-09-20",
          "2013-09-21",
          "2013-09-22",
          "2013-09-23",
          "2013-09-24",
          "2013-09-25",
          "2013-09-26",
          "2013-09-27",
          "2013-09-28",
          "2013-09-29",
          "2013-09-30",
          "2013-10-01",
          "2013-10-02",
          "2013-10-03",
          "2013-10-04",
          "2013-10-05",
          "2013-10-06",
          "2013-10-07",
          "2013-10-08",
          "2013-10-09",
          "2013-10-10",
          "2013-10-11",
          "2013-10-12",
          "2013-10-13",
          "2013-10-14",
          "2013-10-15",
          "2013-10-16",
          "2013-10-17",
          "2013-10-18",
          "2013-10-19",
          "2013-10-20",
          "2013-10-21",
          "2013-10-22",
          "2013-10-23",
          "2013-10-24",
          "2013-10-25",
          "2013-10-26",
          "2013-10-27",
          "2013-10-28",
          "2013-10-29",
          "2013-10-30",
          "2013-10-31",
          "2013-11-01",
          "2013-11-02",
          "2013-11-03",
          "2013-11-04",
          "2013-11-05",
          "2013-11-06",
          "2013-11-07",
          "2013-11-08",
          "2013-11-09",
          "2013-11-10",
          "2013-11-11",
          "2013-11-12",
          "2013-11-13",
          "2013-11-14",
          "2013-11-15",
          "2013-11-16",
          "2013-11-17",
          "2013-11-18",
          "2013-11-19",
          "2013-11-20",
          "2013-11-21",
          "2013-11-22",
          "2013-11-23",
          "2013-11-24",
          "2013-11-25",
          "2013-11-26",
          "2013-11-27",
          "2013-11-28",
          "2013-11-29",
          "2013-11-30",
          "2013-12-01",
          "2013-12-02",
          "2013-12-03",
          "2013-12-04",
          "2013-12-05",
          "2013-12-06",
          "2013-12-07",
          "2013-12-08",
          "2013-12-09",
          "2013-12-10",
          "2013-12-11",
          "2013-12-12",
          "2013-12-13",
          "2013-12-14",
          "2013-12-15",
          "2013-12-16",
          "2013-12-17",
          "2013-12-18",
          "2013-12-19",
          "2013-12-20",
          "2013-12-21",
          "2013-12-22",
          "2013-12-23",
          "2013-12-24",
          "2013-12-25",
          "2013-12-26",
          "2013-12-27",
          "2013-12-28",
          "2013-12-29",
          "2013-12-30",
          "2013-12-31"
         ],
         "y": [
          0.47844675845662404,
          0.46162507316799223,
          0.7752180268016441,
          0.7935540556241659,
          0.6785023783381651,
          0.32792837550405124,
          0.10595329620130249,
          0.08628520924735143,
          0.2216669434940711,
          0.3054191271047893,
          0.3449426197418443,
          0.46150815726556343,
          0.7189104915821833,
          0.2967570454120716,
          0.048824264560889855,
          0.2799194896695701,
          0.7720029310538438,
          0.7785144213569385,
          0.5958785504566394,
          0.5991198362480997,
          0.49961094019152447,
          0.3709629814991046,
          0.21446888896585542,
          0.20968330354582648,
          0.386669960999393,
          0.42743663745359634,
          0.8465004389058083,
          0.44849299737380594,
          0.3639502952306639,
          0.02730092495892457,
          0.09391398151258895,
          0.5480665796564779,
          0.660941509642623,
          0.6775071679423748,
          0.5813677107905003,
          0.7712829665009412,
          0.2993774352990465,
          0.3868859170747591,
          0.6159316219603383,
          0.541767989770697,
          0.15140324897320048,
          0.6324973112760479,
          0.718076337020569,
          0.8303770963373078,
          0.5588018599640134,
          0.6963259072801286,
          0.8117558396649007,
          0.8590361287862993,
          0.8269152326789588,
          0.5679171725972735,
          0.24717030182186286,
          0.7051594163499068,
          0.8272743056212041,
          0.4550625760647358,
          0.16612477753584587,
          0.12492851847545336,
          0.2018555891436578,
          0.23823941718536987,
          0.32896510928272577,
          0.7215683291519527,
          0.3549171888521505,
          0.5908875872196429,
          0.22837047456124568,
          0.2242533270502172,
          0.5348755970327841,
          0.49853144422145174,
          0.1688097822024881,
          0.21940449728790712,
          0.20313927356833408,
          0.6048580331578386,
          0.7331665711100803,
          0.45412800236530976,
          0.26549493771474936,
          0.4489917819608825,
          0.19096738392761453,
          0.17984750312418335,
          0.686093724891323,
          0.44634818792204206,
          0.3608233930017489,
          0.5389434818013424,
          0.6047540916113614,
          0.1935614032550814,
          0.1995493268938593,
          0.40812911375592165,
          0.5678798332868452,
          0.580889078842217,
          0.5259531364172196,
          0.4439053933677261,
          0.6998370019837916,
          0.3370543059495072,
          0.6387469172733254,
          0.668107797562346,
          0.6692827145496564,
          0.6986944046955476,
          0.12939805173898483,
          0.5727736611837535,
          0.2568193148068952,
          0.14861607250104023,
          0.2541149414015519,
          0.3981225378448286,
          0.5568866897495452,
          0.47768076796660375,
          0.26135226443675386,
          0.5034934552635956,
          0.6472133761271299,
          0.2648208068356807,
          0.6260073227231545,
          0.8621228296128913,
          0.3555898381300855,
          0.5421988900507896,
          0.6115165951083609,
          0.3561800876671386,
          0.439142356981765,
          0.6184438953592896,
          0.6538286671339247,
          0.27625931906938395,
          0.24652410358357663,
          0.14069573226958998,
          0.31599295264633454,
          0.5055345407971562,
          0.2576853809328961,
          0.18463429399595832,
          0.12104692474825664,
          0.09280391756443186,
          0.4405458593891114,
          0.44436274196265074,
          0.3464554797822391,
          0.2931479172949215,
          0.2657711822920709,
          0.39976726333991386,
          0.5070592746580683,
          0.3938706232388708,
          0.4247056746046349,
          0.41218028223464864,
          0.3656160234322294,
          0.3425465811048085,
          0.2277821601172466,
          0.3524961626044044,
          0.32927549508018494,
          0.17580117452445915,
          0.13549534405338431,
          0.4795208106203231,
          0.42136771724567973,
          0.274575132753161,
          0.39119934408759877,
          0.45349526167449217,
          0.27085855170800255,
          0.23705139376707118,
          0.24152517172106305,
          0.32524272238643015,
          0.5087204969982575,
          0.48078211629363815,
          0.47660144115960285,
          0.4093483182042912,
          0.2072692583903093,
          0.38927373916783037,
          0.6387847854391807,
          0.41405758850637936,
          0.13429901443461828,
          0.37285880911447544,
          0.3041254587771966,
          0.6622527828878105,
          0.5312398081523312,
          0.27306683599770737,
          0.22098073672001275,
          0.23869431724299536,
          0.18791647508332732,
          0.1826023442163993,
          0.2157938213458211,
          0.2817410770053059,
          0.17593867846349392,
          0.4043319147744145,
          0.5544979404560838,
          0.299529036352221,
          0.2790184562000462,
          0.20938990162563978,
          0.09690058169742324,
          0.20756247281925824,
          0.2513527328598424,
          0.35228720568560873,
          0.6510896359259186,
          0.18503062953080346,
          0.15951905412171463,
          0.31482036240534433
         ],
         "type": "scatter"
        },
        {
         "line": {
          "color": "blue"
         },
         "mode": "lines",
         "name": "predicted",
         "x": [
          "2013-07-01",
          "2013-07-02",
          "2013-07-03",
          "2013-07-04",
          "2013-07-05",
          "2013-07-06",
          "2013-07-07",
          "2013-07-08",
          "2013-07-09",
          "2013-07-10",
          "2013-07-11",
          "2013-07-12",
          "2013-07-13",
          "2013-07-14",
          "2013-07-15",
          "2013-07-16",
          "2013-07-17",
          "2013-07-18",
          "2013-07-19",
          "2013-07-20",
          "2013-07-21",
          "2013-07-22",
          "2013-07-23",
          "2013-07-24",
          "2013-07-25",
          "2013-07-26",
          "2013-07-27",
          "2013-07-28",
          "2013-07-29",
          "2013-07-30",
          "2013-07-31",
          "2013-08-01",
          "2013-08-02",
          "2013-08-03",
          "2013-08-04",
          "2013-08-05",
          "2013-08-06",
          "2013-08-07",
          "2013-08-08",
          "2013-08-09",
          "2013-08-10",
          "2013-08-11",
          "2013-08-12",
          "2013-08-13",
          "2013-08-14",
          "2013-08-15",
          "2013-08-16",
          "2013-08-17",
          "2013-08-18",
          "2013-08-19",
          "2013-08-20",
          "2013-08-21",
          "2013-08-22",
          "2013-08-23",
          "2013-08-24",
          "2013-08-25",
          "2013-08-26",
          "2013-08-27",
          "2013-08-28",
          "2013-08-29",
          "2013-08-30",
          "2013-08-31",
          "2013-09-01",
          "2013-09-02",
          "2013-09-03",
          "2013-09-04",
          "2013-09-05",
          "2013-09-06",
          "2013-09-07",
          "2013-09-08",
          "2013-09-09",
          "2013-09-10",
          "2013-09-11",
          "2013-09-12",
          "2013-09-13",
          "2013-09-14",
          "2013-09-15",
          "2013-09-16",
          "2013-09-17",
          "2013-09-18",
          "2013-09-19",
          "2013-09-20",
          "2013-09-21",
          "2013-09-22",
          "2013-09-23",
          "2013-09-24",
          "2013-09-25",
          "2013-09-26",
          "2013-09-27",
          "2013-09-28",
          "2013-09-29",
          "2013-09-30",
          "2013-10-01",
          "2013-10-02",
          "2013-10-03",
          "2013-10-04",
          "2013-10-05",
          "2013-10-06",
          "2013-10-07",
          "2013-10-08",
          "2013-10-09",
          "2013-10-10",
          "2013-10-11",
          "2013-10-12",
          "2013-10-13",
          "2013-10-14",
          "2013-10-15",
          "2013-10-16",
          "2013-10-17",
          "2013-10-18",
          "2013-10-19",
          "2013-10-20",
          "2013-10-21",
          "2013-10-22",
          "2013-10-23",
          "2013-10-24",
          "2013-10-25",
          "2013-10-26",
          "2013-10-27",
          "2013-10-28",
          "2013-10-29",
          "2013-10-30",
          "2013-10-31",
          "2013-11-01",
          "2013-11-02",
          "2013-11-03",
          "2013-11-04",
          "2013-11-05",
          "2013-11-06",
          "2013-11-07",
          "2013-11-08",
          "2013-11-09",
          "2013-11-10",
          "2013-11-11",
          "2013-11-12",
          "2013-11-13",
          "2013-11-14",
          "2013-11-15",
          "2013-11-16",
          "2013-11-17",
          "2013-11-18",
          "2013-11-19",
          "2013-11-20",
          "2013-11-21",
          "2013-11-22",
          "2013-11-23",
          "2013-11-24",
          "2013-11-25",
          "2013-11-26",
          "2013-11-27",
          "2013-11-28",
          "2013-11-29",
          "2013-11-30",
          "2013-12-01",
          "2013-12-02",
          "2013-12-03",
          "2013-12-04",
          "2013-12-05",
          "2013-12-06",
          "2013-12-07",
          "2013-12-08",
          "2013-12-09",
          "2013-12-10",
          "2013-12-11",
          "2013-12-12",
          "2013-12-13",
          "2013-12-14",
          "2013-12-15",
          "2013-12-16",
          "2013-12-17",
          "2013-12-18",
          "2013-12-19",
          "2013-12-20",
          "2013-12-21",
          "2013-12-22",
          "2013-12-23",
          "2013-12-24",
          "2013-12-25",
          "2013-12-26",
          "2013-12-27",
          "2013-12-28",
          "2013-12-29",
          "2013-12-30",
          "2013-12-31"
         ],
         "y": [
          0.6001150346992973,
          0.5636266568284561,
          0.584430694846796,
          0.7324695122484367,
          0.7249566984042143,
          0.1452823544389434,
          0.11525581974198408,
          0.024705918352744573,
          0.17447521802796773,
          0.1737984983273042,
          0.19562774587435708,
          0.31033381483527467,
          0.5342483417401797,
          0.18885429607404172,
          0.025530007977354524,
          0.1932583593693661,
          0.5947775099457906,
          0.7217224729919227,
          0.34432185152881495,
          0.3059816299328588,
          0.20433928785582223,
          0.2620194254990052,
          0.09592427332103655,
          0.11111051878751543,
          0.19689258541927965,
          0.33173964744215906,
          0.687030130995082,
          0.3974177283347127,
          0.30028338843608576,
          0.046421102443537386,
          0.19256911894603665,
          0.5054886345117472,
          0.7345824758686383,
          0.7439087987367435,
          0.6443131730663822,
          0.5880962730776748,
          0.22662085832913378,
          0.3051479303119632,
          0.5044794567166534,
          0.5968672745975592,
          0.30434240736143064,
          0.5739437757131792,
          0.5712940169452668,
          0.574275405006419,
          0.5782723757014004,
          0.5869324502648782,
          0.6377453562530656,
          0.6622851480947182,
          0.697356534429856,
          0.6245633642704222,
          0.2836667182013339,
          0.590972815100294,
          0.7641904694107134,
          0.4474884733262365,
          0.3608322601187772,
          0.19153341559806444,
          0.14579610473237817,
          0.16339162863264825,
          0.14872201414889208,
          0.5948040783073815,
          0.3760186384554842,
          0.43613983043790255,
          0.2130992673659523,
          0.17188930151033774,
          0.4608011449692571,
          0.3625913886865219,
          0.1765355056841619,
          0.3763874363295663,
          0.06987888694176335,
          0.43173262577996274,
          0.6198167322838011,
          0.5214665448721624,
          0.206289556596196,
          0.4975160226185004,
          0.2008609582492132,
          0.07041407349911569,
          0.4727940581745775,
          0.06009616269947957,
          0.24567176467309101,
          0.5487942001051823,
          0.6562333218697367,
          0.2075672893144227,
          0.1020479826911035,
          0.28534843164718676,
          0.45772870205377597,
          0.5903395379878951,
          0.4056210056029082,
          0.46834407303064535,
          0.5933332673236796,
          0.4034600770533366,
          0.42277941516292644,
          0.4665643674303693,
          0.5911150092213072,
          0.6132656438546125,
          0.16783948862880138,
          0.41151487132950887,
          0.13085144191753864,
          0.11756332672090754,
          0.26175840885795926,
          0.36895838864734193,
          0.3104155266777299,
          0.6524469584926698,
          0.40312226682003344,
          0.45239478803880967,
          0.6574385358734246,
          0.44482740082939237,
          0.5320592192546182,
          0.6074888113444055,
          0.48191358234549875,
          0.49709910849151967,
          0.463262000851597,
          0.27024254770945444,
          0.4889916489703951,
          0.5745650991689469,
          0.6220939362658549,
          0.4588039399418555,
          0.39572296030453985,
          0.06352722444497726,
          0.27198590236672937,
          0.36479869211009247,
          0.10931515855092332,
          0.07762011362112538,
          0.06818398615349248,
          0.12452885039295097,
          0.4657984247123783,
          0.31831370236908685,
          0.21718688834325797,
          0.27599759848591643,
          0.33377230799977936,
          0.4422677507792392,
          0.4423187742803634,
          0.20731187253072256,
          0.30436621689984006,
          0.4801841530999685,
          0.40270620741754776,
          0.35688955030614106,
          0.09409109992477356,
          0.16183629717502326,
          0.19558123416156847,
          0.18087791683116552,
          0.16313255549684585,
          0.5335948931779921,
          0.39232169208456985,
          0.2086823844450778,
          0.4784497504649325,
          0.3559754654754516,
          0.2515849590401398,
          0.23272616769573917,
          0.13038385109573744,
          0.295797340840746,
          0.3168507474928636,
          0.21779846641466405,
          0.3656961951748329,
          0.2602698014636963,
          0.08267680306627108,
          0.266099647485,
          0.4980378696843922,
          0.32918062498809664,
          0.0763340896601744,
          0.27287434868591326,
          0.11273078420900605,
          0.5334849681061427,
          0.5309654389784277,
          0.332662842644428,
          0.334725731428134,
          0.17414173479328218,
          0.08266460003840619,
          0.08554746094921466,
          0.1577990869893976,
          0.29935460135785913,
          0.18112295381435617,
          0.2922808768884657,
          0.5895543793219936,
          0.25165839916575933,
          0.3534079561991015,
          0.14352291943640236,
          0.15068901239450547,
          0.19946912964810293,
          0.1549209076924474,
          0.2996767700486099,
          0.380427551418196,
          0.09137528088345744,
          0.0706593174574892,
          0.2926952983034112
         ],
         "type": "scatter"
        }
       ],
       "layout": {
        "template": {
         "data": {
          "bar": [
           {
            "error_x": {
             "color": "#2a3f5f"
            },
            "error_y": {
             "color": "#2a3f5f"
            },
            "marker": {
             "line": {
              "color": "#E5ECF6",
              "width": 0.5
             },
             "pattern": {
              "fillmode": "overlay",
              "size": 10,
              "solidity": 0.2
             }
            },
            "type": "bar"
           }
          ],
          "barpolar": [
           {
            "marker": {
             "line": {
              "color": "#E5ECF6",
              "width": 0.5
             },
             "pattern": {
              "fillmode": "overlay",
              "size": 10,
              "solidity": 0.2
             }
            },
            "type": "barpolar"
           }
          ],
          "carpet": [
           {
            "aaxis": {
             "endlinecolor": "#2a3f5f",
             "gridcolor": "white",
             "linecolor": "white",
             "minorgridcolor": "white",
             "startlinecolor": "#2a3f5f"
            },
            "baxis": {
             "endlinecolor": "#2a3f5f",
             "gridcolor": "white",
             "linecolor": "white",
             "minorgridcolor": "white",
             "startlinecolor": "#2a3f5f"
            },
            "type": "carpet"
           }
          ],
          "choropleth": [
           {
            "colorbar": {
             "outlinewidth": 0,
             "ticks": ""
            },
            "type": "choropleth"
           }
          ],
          "contour": [
           {
            "colorbar": {
             "outlinewidth": 0,
             "ticks": ""
            },
            "colorscale": [
             [
              0,
              "#0d0887"
             ],
             [
              0.1111111111111111,
              "#46039f"
             ],
             [
              0.2222222222222222,
              "#7201a8"
             ],
             [
              0.3333333333333333,
              "#9c179e"
             ],
             [
              0.4444444444444444,
              "#bd3786"
             ],
             [
              0.5555555555555556,
              "#d8576b"
             ],
             [
              0.6666666666666666,
              "#ed7953"
             ],
             [
              0.7777777777777778,
              "#fb9f3a"
             ],
             [
              0.8888888888888888,
              "#fdca26"
             ],
             [
              1,
              "#f0f921"
             ]
            ],
            "type": "contour"
           }
          ],
          "contourcarpet": [
           {
            "colorbar": {
             "outlinewidth": 0,
             "ticks": ""
            },
            "type": "contourcarpet"
           }
          ],
          "heatmap": [
           {
            "colorbar": {
             "outlinewidth": 0,
             "ticks": ""
            },
            "colorscale": [
             [
              0,
              "#0d0887"
             ],
             [
              0.1111111111111111,
              "#46039f"
             ],
             [
              0.2222222222222222,
              "#7201a8"
             ],
             [
              0.3333333333333333,
              "#9c179e"
             ],
             [
              0.4444444444444444,
              "#bd3786"
             ],
             [
              0.5555555555555556,
              "#d8576b"
             ],
             [
              0.6666666666666666,
              "#ed7953"
             ],
             [
              0.7777777777777778,
              "#fb9f3a"
             ],
             [
              0.8888888888888888,
              "#fdca26"
             ],
             [
              1,
              "#f0f921"
             ]
            ],
            "type": "heatmap"
           }
          ],
          "heatmapgl": [
           {
            "colorbar": {
             "outlinewidth": 0,
             "ticks": ""
            },
            "colorscale": [
             [
              0,
              "#0d0887"
             ],
             [
              0.1111111111111111,
              "#46039f"
             ],
             [
              0.2222222222222222,
              "#7201a8"
             ],
             [
              0.3333333333333333,
              "#9c179e"
             ],
             [
              0.4444444444444444,
              "#bd3786"
             ],
             [
              0.5555555555555556,
              "#d8576b"
             ],
             [
              0.6666666666666666,
              "#ed7953"
             ],
             [
              0.7777777777777778,
              "#fb9f3a"
             ],
             [
              0.8888888888888888,
              "#fdca26"
             ],
             [
              1,
              "#f0f921"
             ]
            ],
            "type": "heatmapgl"
           }
          ],
          "histogram": [
           {
            "marker": {
             "pattern": {
              "fillmode": "overlay",
              "size": 10,
              "solidity": 0.2
             }
            },
            "type": "histogram"
           }
          ],
          "histogram2d": [
           {
            "colorbar": {
             "outlinewidth": 0,
             "ticks": ""
            },
            "colorscale": [
             [
              0,
              "#0d0887"
             ],
             [
              0.1111111111111111,
              "#46039f"
             ],
             [
              0.2222222222222222,
              "#7201a8"
             ],
             [
              0.3333333333333333,
              "#9c179e"
             ],
             [
              0.4444444444444444,
              "#bd3786"
             ],
             [
              0.5555555555555556,
              "#d8576b"
             ],
             [
              0.6666666666666666,
              "#ed7953"
             ],
             [
              0.7777777777777778,
              "#fb9f3a"
             ],
             [
              0.8888888888888888,
              "#fdca26"
             ],
             [
              1,
              "#f0f921"
             ]
            ],
            "type": "histogram2d"
           }
          ],
          "histogram2dcontour": [
           {
            "colorbar": {
             "outlinewidth": 0,
             "ticks": ""
            },
            "colorscale": [
             [
              0,
              "#0d0887"
             ],
             [
              0.1111111111111111,
              "#46039f"
             ],
             [
              0.2222222222222222,
              "#7201a8"
             ],
             [
              0.3333333333333333,
              "#9c179e"
             ],
             [
              0.4444444444444444,
              "#bd3786"
             ],
             [
              0.5555555555555556,
              "#d8576b"
             ],
             [
              0.6666666666666666,
              "#ed7953"
             ],
             [
              0.7777777777777778,
              "#fb9f3a"
             ],
             [
              0.8888888888888888,
              "#fdca26"
             ],
             [
              1,
              "#f0f921"
             ]
            ],
            "type": "histogram2dcontour"
           }
          ],
          "mesh3d": [
           {
            "colorbar": {
             "outlinewidth": 0,
             "ticks": ""
            },
            "type": "mesh3d"
           }
          ],
          "parcoords": [
           {
            "line": {
             "colorbar": {
              "outlinewidth": 0,
              "ticks": ""
             }
            },
            "type": "parcoords"
           }
          ],
          "pie": [
           {
            "automargin": true,
            "type": "pie"
           }
          ],
          "scatter": [
           {
            "marker": {
             "colorbar": {
              "outlinewidth": 0,
              "ticks": ""
             }
            },
            "type": "scatter"
           }
          ],
          "scatter3d": [
           {
            "line": {
             "colorbar": {
              "outlinewidth": 0,
              "ticks": ""
             }
            },
            "marker": {
             "colorbar": {
              "outlinewidth": 0,
              "ticks": ""
             }
            },
            "type": "scatter3d"
           }
          ],
          "scattercarpet": [
           {
            "marker": {
             "colorbar": {
              "outlinewidth": 0,
              "ticks": ""
             }
            },
            "type": "scattercarpet"
           }
          ],
          "scattergeo": [
           {
            "marker": {
             "colorbar": {
              "outlinewidth": 0,
              "ticks": ""
             }
            },
            "type": "scattergeo"
           }
          ],
          "scattergl": [
           {
            "marker": {
             "colorbar": {
              "outlinewidth": 0,
              "ticks": ""
             }
            },
            "type": "scattergl"
           }
          ],
          "scattermapbox": [
           {
            "marker": {
             "colorbar": {
              "outlinewidth": 0,
              "ticks": ""
             }
            },
            "type": "scattermapbox"
           }
          ],
          "scatterpolar": [
           {
            "marker": {
             "colorbar": {
              "outlinewidth": 0,
              "ticks": ""
             }
            },
            "type": "scatterpolar"
           }
          ],
          "scatterpolargl": [
           {
            "marker": {
             "colorbar": {
              "outlinewidth": 0,
              "ticks": ""
             }
            },
            "type": "scatterpolargl"
           }
          ],
          "scatterternary": [
           {
            "marker": {
             "colorbar": {
              "outlinewidth": 0,
              "ticks": ""
             }
            },
            "type": "scatterternary"
           }
          ],
          "surface": [
           {
            "colorbar": {
             "outlinewidth": 0,
             "ticks": ""
            },
            "colorscale": [
             [
              0,
              "#0d0887"
             ],
             [
              0.1111111111111111,
              "#46039f"
             ],
             [
              0.2222222222222222,
              "#7201a8"
             ],
             [
              0.3333333333333333,
              "#9c179e"
             ],
             [
              0.4444444444444444,
              "#bd3786"
             ],
             [
              0.5555555555555556,
              "#d8576b"
             ],
             [
              0.6666666666666666,
              "#ed7953"
             ],
             [
              0.7777777777777778,
              "#fb9f3a"
             ],
             [
              0.8888888888888888,
              "#fdca26"
             ],
             [
              1,
              "#f0f921"
             ]
            ],
            "type": "surface"
           }
          ],
          "table": [
           {
            "cells": {
             "fill": {
              "color": "#EBF0F8"
             },
             "line": {
              "color": "white"
             }
            },
            "header": {
             "fill": {
              "color": "#C8D4E3"
             },
             "line": {
              "color": "white"
             }
            },
            "type": "table"
           }
          ]
         },
         "layout": {
          "annotationdefaults": {
           "arrowcolor": "#2a3f5f",
           "arrowhead": 0,
           "arrowwidth": 1
          },
          "autotypenumbers": "strict",
          "coloraxis": {
           "colorbar": {
            "outlinewidth": 0,
            "ticks": ""
           }
          },
          "colorscale": {
           "diverging": [
            [
             0,
             "#8e0152"
            ],
            [
             0.1,
             "#c51b7d"
            ],
            [
             0.2,
             "#de77ae"
            ],
            [
             0.3,
             "#f1b6da"
            ],
            [
             0.4,
             "#fde0ef"
            ],
            [
             0.5,
             "#f7f7f7"
            ],
            [
             0.6,
             "#e6f5d0"
            ],
            [
             0.7,
             "#b8e186"
            ],
            [
             0.8,
             "#7fbc41"
            ],
            [
             0.9,
             "#4d9221"
            ],
            [
             1,
             "#276419"
            ]
           ],
           "sequential": [
            [
             0,
             "#0d0887"
            ],
            [
             0.1111111111111111,
             "#46039f"
            ],
            [
             0.2222222222222222,
             "#7201a8"
            ],
            [
             0.3333333333333333,
             "#9c179e"
            ],
            [
             0.4444444444444444,
             "#bd3786"
            ],
            [
             0.5555555555555556,
             "#d8576b"
            ],
            [
             0.6666666666666666,
             "#ed7953"
            ],
            [
             0.7777777777777778,
             "#fb9f3a"
            ],
            [
             0.8888888888888888,
             "#fdca26"
            ],
            [
             1,
             "#f0f921"
            ]
           ],
           "sequentialminus": [
            [
             0,
             "#0d0887"
            ],
            [
             0.1111111111111111,
             "#46039f"
            ],
            [
             0.2222222222222222,
             "#7201a8"
            ],
            [
             0.3333333333333333,
             "#9c179e"
            ],
            [
             0.4444444444444444,
             "#bd3786"
            ],
            [
             0.5555555555555556,
             "#d8576b"
            ],
            [
             0.6666666666666666,
             "#ed7953"
            ],
            [
             0.7777777777777778,
             "#fb9f3a"
            ],
            [
             0.8888888888888888,
             "#fdca26"
            ],
            [
             1,
             "#f0f921"
            ]
           ]
          },
          "colorway": [
           "#636efa",
           "#EF553B",
           "#00cc96",
           "#ab63fa",
           "#FFA15A",
           "#19d3f3",
           "#FF6692",
           "#B6E880",
           "#FF97FF",
           "#FECB52"
          ],
          "font": {
           "color": "#2a3f5f"
          },
          "geo": {
           "bgcolor": "white",
           "lakecolor": "white",
           "landcolor": "#E5ECF6",
           "showlakes": true,
           "showland": true,
           "subunitcolor": "white"
          },
          "hoverlabel": {
           "align": "left"
          },
          "hovermode": "closest",
          "mapbox": {
           "style": "light"
          },
          "paper_bgcolor": "white",
          "plot_bgcolor": "#E5ECF6",
          "polar": {
           "angularaxis": {
            "gridcolor": "white",
            "linecolor": "white",
            "ticks": ""
           },
           "bgcolor": "#E5ECF6",
           "radialaxis": {
            "gridcolor": "white",
            "linecolor": "white",
            "ticks": ""
           }
          },
          "scene": {
           "xaxis": {
            "backgroundcolor": "#E5ECF6",
            "gridcolor": "white",
            "gridwidth": 2,
            "linecolor": "white",
            "showbackground": true,
            "ticks": "",
            "zerolinecolor": "white"
           },
           "yaxis": {
            "backgroundcolor": "#E5ECF6",
            "gridcolor": "white",
            "gridwidth": 2,
            "linecolor": "white",
            "showbackground": true,
            "ticks": "",
            "zerolinecolor": "white"
           },
           "zaxis": {
            "backgroundcolor": "#E5ECF6",
            "gridcolor": "white",
            "gridwidth": 2,
            "linecolor": "white",
            "showbackground": true,
            "ticks": "",
            "zerolinecolor": "white"
           }
          },
          "shapedefaults": {
           "line": {
            "color": "#2a3f5f"
           }
          },
          "ternary": {
           "aaxis": {
            "gridcolor": "white",
            "linecolor": "white",
            "ticks": ""
           },
           "baxis": {
            "gridcolor": "white",
            "linecolor": "white",
            "ticks": ""
           },
           "bgcolor": "#E5ECF6",
           "caxis": {
            "gridcolor": "white",
            "linecolor": "white",
            "ticks": ""
           }
          },
          "title": {
           "x": 0.05
          },
          "xaxis": {
           "automargin": true,
           "gridcolor": "white",
           "linecolor": "white",
           "ticks": "",
           "title": {
            "standoff": 15
           },
           "zerolinecolor": "white",
           "zerolinewidth": 2
          },
          "yaxis": {
           "automargin": true,
           "gridcolor": "white",
           "linecolor": "white",
           "ticks": "",
           "title": {
            "standoff": 15
           },
           "zerolinecolor": "white",
           "zerolinewidth": 2
          }
         }
        }
       },
       "config": {
        "plotlyServerURL": "https://plot.ly"
       }
      }
     },
     "metadata": {}
    }
   ],
   "metadata": {}
  },
  {
   "cell_type": "code",
   "execution_count": 25,
   "source": [
    "pd.to_datetime(data_comparison['DATE'])"
   ],
   "outputs": [
    {
     "output_type": "execute_result",
     "data": {
      "text/plain": [
       "0      2013-07-01\n",
       "1      2013-07-01\n",
       "2      2013-07-01\n",
       "3      2013-07-01\n",
       "4      2013-07-01\n",
       "          ...    \n",
       "1835   2013-12-31\n",
       "1836   2013-12-31\n",
       "1837   2013-12-31\n",
       "1838   2013-12-31\n",
       "1839   2013-12-31\n",
       "Name: DATE, Length: 1840, dtype: datetime64[ns]"
      ]
     },
     "metadata": {},
     "execution_count": 25
    }
   ],
   "metadata": {}
  },
  {
   "cell_type": "code",
   "execution_count": 38,
   "source": [
    "## get the required data for the comparison between actual and predicted values\n",
    "def get_data_up_to_day(day, \n",
    "                       data,\n",
    "                       days_before=0):\n",
    "            \n",
    "    day +=' 0:00:00'\n",
    "    time_start = pd.to_datetime(day) - pd.Timedelta(value=days_before, unit='day')\n",
    "    time_end = pd.to_datetime(day) - pd.Timedelta(value=1, unit='day')\n",
    "    data = data[(data['DATE']>=time_start) & (data['DATE']<=time_end)]\n",
    "    return data"
   ],
   "outputs": [],
   "metadata": {}
  },
  {
   "cell_type": "code",
   "execution_count": 39,
   "source": [
    "data_comparison['DATE'] = pd.to_datetime(data_comparison['DATE'])"
   ],
   "outputs": [],
   "metadata": {}
  },
  {
   "cell_type": "code",
   "execution_count": 40,
   "source": [
    "get_data_up_to_day(\"2013-08-10\", \n",
    "         data_comparison,\n",
    "         days_before=10)"
   ],
   "outputs": [
    {
     "output_type": "execute_result",
     "data": {
      "text/html": [
       "<div>\n",
       "<style scoped>\n",
       "    .dataframe tbody tr th:only-of-type {\n",
       "        vertical-align: middle;\n",
       "    }\n",
       "\n",
       "    .dataframe tbody tr th {\n",
       "        vertical-align: top;\n",
       "    }\n",
       "\n",
       "    .dataframe thead th {\n",
       "        text-align: right;\n",
       "    }\n",
       "</style>\n",
       "<table border=\"1\" class=\"dataframe\">\n",
       "  <thead>\n",
       "    <tr style=\"text-align: right;\">\n",
       "      <th></th>\n",
       "      <th>DATE</th>\n",
       "      <th>ZONEID</th>\n",
       "      <th>TARGETVAR_OBSERVED</th>\n",
       "      <th>TARGETVAR_PREDICTED</th>\n",
       "    </tr>\n",
       "  </thead>\n",
       "  <tbody>\n",
       "    <tr>\n",
       "      <th>300</th>\n",
       "      <td>2013-07-31</td>\n",
       "      <td>Wind Farm 1</td>\n",
       "      <td>0.172759</td>\n",
       "      <td>0.104888</td>\n",
       "    </tr>\n",
       "    <tr>\n",
       "      <th>301</th>\n",
       "      <td>2013-07-31</td>\n",
       "      <td>Wind Farm 10</td>\n",
       "      <td>0.038418</td>\n",
       "      <td>0.089815</td>\n",
       "    </tr>\n",
       "    <tr>\n",
       "      <th>302</th>\n",
       "      <td>2013-07-31</td>\n",
       "      <td>Wind Farm 2</td>\n",
       "      <td>0.101359</td>\n",
       "      <td>0.132726</td>\n",
       "    </tr>\n",
       "    <tr>\n",
       "      <th>303</th>\n",
       "      <td>2013-07-31</td>\n",
       "      <td>Wind Farm 3</td>\n",
       "      <td>0.020180</td>\n",
       "      <td>0.081799</td>\n",
       "    </tr>\n",
       "    <tr>\n",
       "      <th>304</th>\n",
       "      <td>2013-07-31</td>\n",
       "      <td>Wind Farm 4</td>\n",
       "      <td>0.069517</td>\n",
       "      <td>0.050294</td>\n",
       "    </tr>\n",
       "    <tr>\n",
       "      <th>...</th>\n",
       "      <td>...</td>\n",
       "      <td>...</td>\n",
       "      <td>...</td>\n",
       "      <td>...</td>\n",
       "    </tr>\n",
       "    <tr>\n",
       "      <th>395</th>\n",
       "      <td>2013-08-09</td>\n",
       "      <td>Wind Farm 5</td>\n",
       "      <td>0.612263</td>\n",
       "      <td>0.466864</td>\n",
       "    </tr>\n",
       "    <tr>\n",
       "      <th>396</th>\n",
       "      <td>2013-08-09</td>\n",
       "      <td>Wind Farm 6</td>\n",
       "      <td>0.580959</td>\n",
       "      <td>0.523162</td>\n",
       "    </tr>\n",
       "    <tr>\n",
       "      <th>397</th>\n",
       "      <td>2013-08-09</td>\n",
       "      <td>Wind Farm 7</td>\n",
       "      <td>0.671321</td>\n",
       "      <td>0.547196</td>\n",
       "    </tr>\n",
       "    <tr>\n",
       "      <th>398</th>\n",
       "      <td>2013-08-09</td>\n",
       "      <td>Wind Farm 8</td>\n",
       "      <td>0.748910</td>\n",
       "      <td>0.596867</td>\n",
       "    </tr>\n",
       "    <tr>\n",
       "      <th>399</th>\n",
       "      <td>2013-08-09</td>\n",
       "      <td>Wind Farm 9</td>\n",
       "      <td>0.600891</td>\n",
       "      <td>0.555032</td>\n",
       "    </tr>\n",
       "  </tbody>\n",
       "</table>\n",
       "<p>100 rows × 4 columns</p>\n",
       "</div>"
      ],
      "text/plain": [
       "          DATE        ZONEID  TARGETVAR_OBSERVED  TARGETVAR_PREDICTED\n",
       "300 2013-07-31   Wind Farm 1            0.172759             0.104888\n",
       "301 2013-07-31  Wind Farm 10            0.038418             0.089815\n",
       "302 2013-07-31   Wind Farm 2            0.101359             0.132726\n",
       "303 2013-07-31   Wind Farm 3            0.020180             0.081799\n",
       "304 2013-07-31   Wind Farm 4            0.069517             0.050294\n",
       "..         ...           ...                 ...                  ...\n",
       "395 2013-08-09   Wind Farm 5            0.612263             0.466864\n",
       "396 2013-08-09   Wind Farm 6            0.580959             0.523162\n",
       "397 2013-08-09   Wind Farm 7            0.671321             0.547196\n",
       "398 2013-08-09   Wind Farm 8            0.748910             0.596867\n",
       "399 2013-08-09   Wind Farm 9            0.600891             0.555032\n",
       "\n",
       "[100 rows x 4 columns]"
      ]
     },
     "metadata": {},
     "execution_count": 40
    }
   ],
   "metadata": {}
  },
  {
   "cell_type": "code",
   "execution_count": null,
   "source": [],
   "outputs": [],
   "metadata": {}
  }
 ],
 "metadata": {
  "interpreter": {
   "hash": "6bf04853d3fd90e38dceeec9809cf8d05177fbec35bd657075794b65848902e2"
  },
  "kernelspec": {
   "name": "python3",
   "display_name": "Python 3.9.4 64-bit ('.venv': venv)"
  },
  "language_info": {
   "codemirror_mode": {
    "name": "ipython",
    "version": 3
   },
   "file_extension": ".py",
   "mimetype": "text/x-python",
   "name": "python",
   "nbconvert_exporter": "python",
   "pygments_lexer": "ipython3",
   "version": "3.9.4"
  },
  "orig_nbformat": 4
 },
 "nbformat": 4,
 "nbformat_minor": 2
}